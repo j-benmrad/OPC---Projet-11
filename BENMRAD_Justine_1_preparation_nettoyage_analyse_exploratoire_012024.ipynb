{
 "cells": [
  {
   "cell_type": "markdown",
   "id": "31eddaac",
   "metadata": {},
   "source": [
    "<div style=\"border: 1px solid chocolate; border-radius: 8px; padding: 20px; background-color: seashell; text-align: center;\">\n",
    "<h3 style=\"font-size: 24px; margin: auto; color: chocolate;\">ÉTUDE DE MARCHÉ \"LA POULE QUI CHANTE\"</h3>\n",
    "</div>"
   ]
  },
  {
   "cell_type": "markdown",
   "id": "b5f96d84",
   "metadata": {},
   "source": [
    "<div style=\"border: 1px solid chocolate; border-radius: 8px; padding: 20px; background-color: seashell; text-align: center;\">\n",
    "<h3 style=\"font-size: 24px; margin: auto; color: chocolate;\">PARTIE 1</h3>\n",
    "</div>"
   ]
  },
  {
   "cell_type": "markdown",
   "id": "91a492fe",
   "metadata": {},
   "source": [
    "<div style=\"border: 1px solid chocolate; border-radius: 8px; padding: 20px; background-color: seashell;\">\n",
    "<h3 style=\"margin: auto; color: chocolate;\">I - IMPORTATION DES LIBRAIRIES</h3>\n",
    "</div>"
   ]
  },
  {
   "cell_type": "code",
   "execution_count": 1,
   "id": "f144c47e",
   "metadata": {},
   "outputs": [],
   "source": [
    "# Importation des librairies\n",
    "import pandas as pd\n",
    "import numpy as np\n",
    "\n",
    "import seaborn as sns\n",
    "import matplotlib.pyplot as plt"
   ]
  },
  {
   "cell_type": "markdown",
   "id": "5ec4a1e8",
   "metadata": {},
   "source": [
    "<div style=\"border: 1px solid chocolate; border-radius: 8px; padding: 20px; background-color: seashell;\">\n",
    "<h3 style=\"margin: auto; color: chocolate;\">II - ANALYSE PESTEL</h3>\n",
    "</div>"
   ]
  },
  {
   "cell_type": "markdown",
   "id": "8939dec1",
   "metadata": {},
   "source": [
    "<div style=\"border: 1px solid chocolate; border-radius: 8px; padding: 20px; background-color: seashell;\">\n",
    "<h3 style=\"margin: auto; color: chocolate;\">II.1 - Analyse politique : indice de stabilité politique</h3>\n",
    "</div>"
   ]
  },
  {
   "cell_type": "code",
   "execution_count": 2,
   "id": "6ab73f56",
   "metadata": {},
   "outputs": [],
   "source": [
    "## Il s'agit de l'évolution des indices de stabilité politique entre 2010 et 2022\n",
    "\n",
    "## https://donnees.banquemondiale.org/indicateur/PV.EST"
   ]
  },
  {
   "cell_type": "code",
   "execution_count": 3,
   "id": "96b9711b",
   "metadata": {},
   "outputs": [],
   "source": [
    "# Importation du fichier 'stab_poli'\n",
    "df_stab_poli = pd.read_excel(\"stab_poli.xlsx\")"
   ]
  },
  {
   "cell_type": "code",
   "execution_count": 4,
   "id": "2b2cb587",
   "metadata": {},
   "outputs": [
    {
     "name": "stdout",
     "output_type": "stream",
     "text": [
      "Le tableau comporte 217 observation(s) ou article(s)\n",
      "Le tableau comporte 14 colonne(s)\n"
     ]
    }
   ],
   "source": [
    "# Affichage des dimensions du dataset\n",
    "print(\"Le tableau comporte {} observation(s) ou article(s)\".format(df_stab_poli.shape[0]))\n",
    "print(\"Le tableau comporte {} colonne(s)\".format(df_stab_poli.shape[1]))"
   ]
  },
  {
   "cell_type": "code",
   "execution_count": 5,
   "id": "593aa8f8",
   "metadata": {},
   "outputs": [
    {
     "name": "stdout",
     "output_type": "stream",
     "text": [
      "<class 'pandas.core.frame.DataFrame'>\n",
      "RangeIndex: 217 entries, 0 to 216\n",
      "Data columns (total 14 columns):\n",
      " #   Column        Non-Null Count  Dtype  \n",
      "---  ------        --------------  -----  \n",
      " 0   Country Name  217 non-null    object \n",
      " 1   2010          204 non-null    float64\n",
      " 2   2011          205 non-null    float64\n",
      " 3   2012          205 non-null    float64\n",
      " 4   2013          205 non-null    float64\n",
      " 5   2014          205 non-null    float64\n",
      " 6   2015          205 non-null    float64\n",
      " 7   2016          205 non-null    float64\n",
      " 8   2017          205 non-null    float64\n",
      " 9   2018          205 non-null    float64\n",
      " 10  2019          205 non-null    float64\n",
      " 11  2020          205 non-null    float64\n",
      " 12  2021          205 non-null    float64\n",
      " 13  2022          205 non-null    float64\n",
      "dtypes: float64(13), object(1)\n",
      "memory usage: 23.9+ KB\n"
     ]
    }
   ],
   "source": [
    "# Identification de la nature des données dans chacune des colonnes\n",
    "df_stab_poli.info()"
   ]
  },
  {
   "cell_type": "code",
   "execution_count": 6,
   "id": "9f8e17bc",
   "metadata": {
    "scrolled": true
   },
   "outputs": [
    {
     "data": {
      "text/html": [
       "<div>\n",
       "<style scoped>\n",
       "    .dataframe tbody tr th:only-of-type {\n",
       "        vertical-align: middle;\n",
       "    }\n",
       "\n",
       "    .dataframe tbody tr th {\n",
       "        vertical-align: top;\n",
       "    }\n",
       "\n",
       "    .dataframe thead th {\n",
       "        text-align: right;\n",
       "    }\n",
       "</style>\n",
       "<table border=\"1\" class=\"dataframe\">\n",
       "  <thead>\n",
       "    <tr style=\"text-align: right;\">\n",
       "      <th></th>\n",
       "      <th>Country Name</th>\n",
       "      <th>2010</th>\n",
       "      <th>2011</th>\n",
       "      <th>2012</th>\n",
       "      <th>2013</th>\n",
       "      <th>2014</th>\n",
       "      <th>2015</th>\n",
       "      <th>2016</th>\n",
       "      <th>2017</th>\n",
       "      <th>2018</th>\n",
       "      <th>2019</th>\n",
       "      <th>2020</th>\n",
       "      <th>2021</th>\n",
       "      <th>2022</th>\n",
       "    </tr>\n",
       "  </thead>\n",
       "  <tbody>\n",
       "    <tr>\n",
       "      <th>0</th>\n",
       "      <td>Aruba</td>\n",
       "      <td>1.100847</td>\n",
       "      <td>1.285738</td>\n",
       "      <td>1.263882</td>\n",
       "      <td>1.312226</td>\n",
       "      <td>1.164568</td>\n",
       "      <td>1.210240</td>\n",
       "      <td>1.260759</td>\n",
       "      <td>1.313844</td>\n",
       "      <td>1.337276</td>\n",
       "      <td>1.335669</td>\n",
       "      <td>1.371497</td>\n",
       "      <td>1.431547</td>\n",
       "      <td>1.474684</td>\n",
       "    </tr>\n",
       "    <tr>\n",
       "      <th>1</th>\n",
       "      <td>Afghanistan</td>\n",
       "      <td>-2.579152</td>\n",
       "      <td>-2.502060</td>\n",
       "      <td>-2.418561</td>\n",
       "      <td>-2.519349</td>\n",
       "      <td>-2.411068</td>\n",
       "      <td>-2.562625</td>\n",
       "      <td>-2.662156</td>\n",
       "      <td>-2.794974</td>\n",
       "      <td>-2.753262</td>\n",
       "      <td>-2.652407</td>\n",
       "      <td>-2.702632</td>\n",
       "      <td>-2.518530</td>\n",
       "      <td>-2.550802</td>\n",
       "    </tr>\n",
       "    <tr>\n",
       "      <th>2</th>\n",
       "      <td>Angola</td>\n",
       "      <td>-0.226182</td>\n",
       "      <td>-0.369238</td>\n",
       "      <td>-0.389323</td>\n",
       "      <td>-0.391233</td>\n",
       "      <td>-0.333232</td>\n",
       "      <td>-0.505386</td>\n",
       "      <td>-0.321580</td>\n",
       "      <td>-0.389135</td>\n",
       "      <td>-0.347751</td>\n",
       "      <td>-0.370095</td>\n",
       "      <td>-0.600726</td>\n",
       "      <td>-0.709369</td>\n",
       "      <td>-0.646241</td>\n",
       "    </tr>\n",
       "    <tr>\n",
       "      <th>3</th>\n",
       "      <td>Albanie</td>\n",
       "      <td>-0.191483</td>\n",
       "      <td>-0.282379</td>\n",
       "      <td>-0.143632</td>\n",
       "      <td>0.091930</td>\n",
       "      <td>0.485986</td>\n",
       "      <td>0.341639</td>\n",
       "      <td>0.337448</td>\n",
       "      <td>0.373770</td>\n",
       "      <td>0.366643</td>\n",
       "      <td>0.110050</td>\n",
       "      <td>0.088576</td>\n",
       "      <td>0.196294</td>\n",
       "      <td>0.114945</td>\n",
       "    </tr>\n",
       "    <tr>\n",
       "      <th>4</th>\n",
       "      <td>Andorre</td>\n",
       "      <td>1.278272</td>\n",
       "      <td>1.302488</td>\n",
       "      <td>1.290351</td>\n",
       "      <td>1.283926</td>\n",
       "      <td>1.286593</td>\n",
       "      <td>1.365985</td>\n",
       "      <td>1.382750</td>\n",
       "      <td>1.392888</td>\n",
       "      <td>1.391009</td>\n",
       "      <td>1.577211</td>\n",
       "      <td>1.588572</td>\n",
       "      <td>1.581067</td>\n",
       "      <td>1.587736</td>\n",
       "    </tr>\n",
       "  </tbody>\n",
       "</table>\n",
       "</div>"
      ],
      "text/plain": [
       "  Country Name      2010      2011      2012      2013      2014      2015  \\\n",
       "0        Aruba  1.100847  1.285738  1.263882  1.312226  1.164568  1.210240   \n",
       "1  Afghanistan -2.579152 -2.502060 -2.418561 -2.519349 -2.411068 -2.562625   \n",
       "2       Angola -0.226182 -0.369238 -0.389323 -0.391233 -0.333232 -0.505386   \n",
       "3      Albanie -0.191483 -0.282379 -0.143632  0.091930  0.485986  0.341639   \n",
       "4      Andorre  1.278272  1.302488  1.290351  1.283926  1.286593  1.365985   \n",
       "\n",
       "       2016      2017      2018      2019      2020      2021      2022  \n",
       "0  1.260759  1.313844  1.337276  1.335669  1.371497  1.431547  1.474684  \n",
       "1 -2.662156 -2.794974 -2.753262 -2.652407 -2.702632 -2.518530 -2.550802  \n",
       "2 -0.321580 -0.389135 -0.347751 -0.370095 -0.600726 -0.709369 -0.646241  \n",
       "3  0.337448  0.373770  0.366643  0.110050  0.088576  0.196294  0.114945  \n",
       "4  1.382750  1.392888  1.391009  1.577211  1.588572  1.581067  1.587736  "
      ]
     },
     "metadata": {},
     "output_type": "display_data"
    }
   ],
   "source": [
    "# Affichage des 5 premières lignes de la table\n",
    "display(df_stab_poli.head())"
   ]
  },
  {
   "cell_type": "code",
   "execution_count": null,
   "id": "f7851ac8",
   "metadata": {},
   "outputs": [],
   "source": []
  },
  {
   "cell_type": "code",
   "execution_count": 7,
   "id": "83a0c7d2",
   "metadata": {
    "scrolled": true
   },
   "outputs": [
    {
     "data": {
      "text/html": [
       "<div>\n",
       "<style scoped>\n",
       "    .dataframe tbody tr th:only-of-type {\n",
       "        vertical-align: middle;\n",
       "    }\n",
       "\n",
       "    .dataframe tbody tr th {\n",
       "        vertical-align: top;\n",
       "    }\n",
       "\n",
       "    .dataframe thead th {\n",
       "        text-align: right;\n",
       "    }\n",
       "</style>\n",
       "<table border=\"1\" class=\"dataframe\">\n",
       "  <thead>\n",
       "    <tr style=\"text-align: right;\">\n",
       "      <th></th>\n",
       "      <th>Pays</th>\n",
       "      <th>stab_poli_2022</th>\n",
       "    </tr>\n",
       "  </thead>\n",
       "  <tbody>\n",
       "    <tr>\n",
       "      <th>0</th>\n",
       "      <td>Aruba</td>\n",
       "      <td>1.475</td>\n",
       "    </tr>\n",
       "    <tr>\n",
       "      <th>1</th>\n",
       "      <td>Afghanistan</td>\n",
       "      <td>-2.551</td>\n",
       "    </tr>\n",
       "    <tr>\n",
       "      <th>2</th>\n",
       "      <td>Angola</td>\n",
       "      <td>-0.646</td>\n",
       "    </tr>\n",
       "    <tr>\n",
       "      <th>3</th>\n",
       "      <td>Albanie</td>\n",
       "      <td>0.115</td>\n",
       "    </tr>\n",
       "    <tr>\n",
       "      <th>4</th>\n",
       "      <td>Andorre</td>\n",
       "      <td>1.588</td>\n",
       "    </tr>\n",
       "  </tbody>\n",
       "</table>\n",
       "</div>"
      ],
      "text/plain": [
       "          Pays  stab_poli_2022\n",
       "0        Aruba           1.475\n",
       "1  Afghanistan          -2.551\n",
       "2       Angola          -0.646\n",
       "3      Albanie           0.115\n",
       "4      Andorre           1.588"
      ]
     },
     "metadata": {},
     "output_type": "display_data"
    }
   ],
   "source": [
    "# Création de df_stab_poli2 à partir de df_stab_poli en ne gardant que les colonnes pertinantes\n",
    "df_stab_poli2 = df_stab_poli.loc[:, ['Country Name','2022']]\n",
    "\n",
    "# Renommage de la colonne \"Country Name\" en \"Pays\"\n",
    "df_stab_poli2 = df_stab_poli2.rename(columns={'Country Name': 'Pays'})\n",
    "\n",
    "# Renommage de la colonne \"2022\" en \"stab_poli_2022\"\n",
    "df_stab_poli2 = df_stab_poli2.rename(columns={'2022': 'stab_poli_2022'})\n",
    "\n",
    "# Formatage des colonnes des années avec 3 chiffres après la virgule\n",
    "df_stab_poli2['stab_poli_2022'] = df_stab_poli2['stab_poli_2022'].round(3)\n",
    "    \n",
    "# Affichage des 5 premières lignes de la table\n",
    "display(df_stab_poli2.head())"
   ]
  },
  {
   "cell_type": "code",
   "execution_count": null,
   "id": "d93d6ab4",
   "metadata": {},
   "outputs": [],
   "source": []
  },
  {
   "cell_type": "code",
   "execution_count": 8,
   "id": "38bdc2a2",
   "metadata": {},
   "outputs": [
    {
     "name": "stdout",
     "output_type": "stream",
     "text": [
      "Il y a des valeurs manquantes (NaN) dans la colonne 'stab_poli_2022'.\n",
      "12\n"
     ]
    }
   ],
   "source": [
    "# Vérification de la présence de NaN\n",
    "if df_stab_poli2['stab_poli_2022'].isnull().values.any():\n",
    "    print(\"Il y a des valeurs manquantes (NaN) dans la colonne 'stab_poli_2022'.\")\n",
    "else:\n",
    "    print(\"Il n'y a pas de valeurs manquantes dans la colonne 'stab_poli_2022'.\")    \n",
    "\n",
    "# Comptabilisation des valeurs manquantes\n",
    "stab_poli2_nbr_nan = df_stab_poli2['stab_poli_2022'].isnull().sum()\n",
    "print(stab_poli2_nbr_nan)"
   ]
  },
  {
   "cell_type": "code",
   "execution_count": 9,
   "id": "b2d835f2",
   "metadata": {
    "scrolled": true
   },
   "outputs": [
    {
     "name": "stdout",
     "output_type": "stream",
     "text": [
      "                          Pays  stab_poli_2022\n",
      "34        Îles Anglo-Normandes             NaN\n",
      "46                     Curacao             NaN\n",
      "65                  Îles Féroé             NaN\n",
      "71                   Gibraltar             NaN\n",
      "88                  Île de Man             NaN\n",
      "119          Saint-Martin (fr)             NaN\n",
      "133                  Mariannes             NaN\n",
      "140         Nouvelle-Calédonie             NaN\n",
      "162        Polynésie française             NaN\n",
      "184  Sint Maarten (Dutch part)             NaN\n",
      "187    Îles Turques-et-Caïques             NaN\n",
      "207  Îles Vierges britanniques             NaN\n"
     ]
    }
   ],
   "source": [
    "stab_poli2_filtre_nan = df_stab_poli2[df_stab_poli2['stab_poli_2022'].isnull()]\n",
    "print(stab_poli2_filtre_nan)"
   ]
  },
  {
   "cell_type": "code",
   "execution_count": 10,
   "id": "80103fee",
   "metadata": {},
   "outputs": [],
   "source": [
    "df_stab_poli3 = df_stab_poli2.dropna()"
   ]
  },
  {
   "cell_type": "code",
   "execution_count": 11,
   "id": "b3f2c14f",
   "metadata": {},
   "outputs": [
    {
     "name": "stdout",
     "output_type": "stream",
     "text": [
      "<class 'pandas.core.frame.DataFrame'>\n",
      "Index: 205 entries, 0 to 216\n",
      "Data columns (total 2 columns):\n",
      " #   Column          Non-Null Count  Dtype  \n",
      "---  ------          --------------  -----  \n",
      " 0   Pays            205 non-null    object \n",
      " 1   stab_poli_2022  205 non-null    float64\n",
      "dtypes: float64(1), object(1)\n",
      "memory usage: 4.8+ KB\n"
     ]
    }
   ],
   "source": [
    "df_stab_poli3.info()"
   ]
  },
  {
   "cell_type": "code",
   "execution_count": null,
   "id": "517a88e2",
   "metadata": {},
   "outputs": [],
   "source": []
  },
  {
   "cell_type": "code",
   "execution_count": 12,
   "id": "cc1c513c",
   "metadata": {},
   "outputs": [
    {
     "data": {
      "image/png": "[encoded data removed]",
      "text/plain": [
       "<Figure size 1000x400 with 1 Axes>"
      ]
     },
     "metadata": {},
     "output_type": "display_data"
    }
   ],
   "source": [
    "# Affichage des 20 pays les plus stables politiquement en 2022\n",
    "\n",
    "# Trie de la valeur par ordre décroissant\n",
    "stab_poli_2022_desc = df_stab_poli3.sort_values('stab_poli_2022', ascending=False)\n",
    "\n",
    "# Sélection des 20 premiers pays\n",
    "stab_poli_top20 = stab_poli_2022_desc.head(20)\n",
    "\n",
    "# Création d'un diagramme à barres\n",
    "plt.figure(figsize=(10, 4))\n",
    "plt.barh(stab_poli_top20['Pays'], stab_poli_top20['stab_poli_2022'], color='chocolate')\n",
    "plt.xlabel('Indice de stabilité politique')\n",
    "plt.ylabel('Pays')\n",
    "plt.title('Les 20 pays les plus stables politiquement en 2022')\n",
    "plt.gca().invert_yaxis()\n",
    "\n",
    "plt.show()"
   ]
  },
  {
   "cell_type": "code",
   "execution_count": 13,
   "id": "8cd85e48",
   "metadata": {},
   "outputs": [
    {
     "data": {
      "image/png": "[encoded data removed]",
      "text/plain": [
       "<Figure size 1000x400 with 1 Axes>"
      ]
     },
     "metadata": {},
     "output_type": "display_data"
    }
   ],
   "source": [
    "# Affichage des 20 pays les moins stables politiquement en 2022\n",
    "\n",
    "# Trie de la valeur par ordre croissant\n",
    "stab_poli_2022_asc = df_stab_poli3.sort_values('stab_poli_2022')\n",
    "\n",
    "# Sélection des 20 derniers pays\n",
    "stab_poli_flop20 = stab_poli_2022_asc.head(20)\n",
    "\n",
    "# Création d'un diagramme à barres\n",
    "plt.figure(figsize=(10, 4))\n",
    "plt.barh(stab_poli_flop20['Pays'], stab_poli_flop20['stab_poli_2022'], color='chocolate')\n",
    "plt.xlabel('Indice de stabilité politique')\n",
    "plt.ylabel('Pays')\n",
    "plt.title('Les 20 pays les moins stables politiquement en 2022')\n",
    "plt.gca().invert_yaxis()\n",
    "\n",
    "plt.show()"
   ]
  },
  {
   "cell_type": "markdown",
   "id": "b282fc42",
   "metadata": {},
   "source": [
    "<div style=\"border: 1px solid chocolate; border-radius: 8px; padding: 20px; background-color: seashell;\">\n",
    "<h3 style=\"margin: auto; color: chocolate;\">II.2 - Analyse économique : PIB par habitant</h3>\n",
    "</div>"
   ]
  },
  {
   "cell_type": "code",
   "execution_count": 14,
   "id": "461929e0",
   "metadata": {},
   "outputs": [],
   "source": [
    "## Il s'agit du PIB par habitant entre 2010 et 2023.\n",
    "## Le PIB par habitant, exprimé en dollars américains courants, mesure la richesse produite par habitant d'un pays.\n",
    "\n",
    "## https://donnees.banquemondiale.org/indicateur/NY.GDP.PCAP.CD"
   ]
  },
  {
   "cell_type": "code",
   "execution_count": 15,
   "id": "511f6e79",
   "metadata": {},
   "outputs": [],
   "source": [
    "# Importation du fichier 'pib_hab'\n",
    "df_pib_hab = pd.read_excel(\"pib_hab.xlsx\")"
   ]
  },
  {
   "cell_type": "code",
   "execution_count": 16,
   "id": "0d4436ee",
   "metadata": {},
   "outputs": [
    {
     "name": "stdout",
     "output_type": "stream",
     "text": [
      "Le tableau comporte 217 observation(s) ou article(s)\n",
      "Le tableau comporte 15 colonne(s)\n"
     ]
    }
   ],
   "source": [
    "# Affichage des dimensions du dataset\n",
    "print(\"Le tableau comporte {} observation(s) ou article(s)\".format(df_pib_hab.shape[0]))\n",
    "print(\"Le tableau comporte {} colonne(s)\".format(df_pib_hab.shape[1]))"
   ]
  },
  {
   "cell_type": "code",
   "execution_count": 17,
   "id": "359ef35c",
   "metadata": {},
   "outputs": [
    {
     "name": "stdout",
     "output_type": "stream",
     "text": [
      "<class 'pandas.core.frame.DataFrame'>\n",
      "RangeIndex: 217 entries, 0 to 216\n",
      "Data columns (total 15 columns):\n",
      " #   Column        Non-Null Count  Dtype  \n",
      "---  ------        --------------  -----  \n",
      " 0   Country Name  217 non-null    object \n",
      " 1   2010          210 non-null    float64\n",
      " 2   2011          213 non-null    float64\n",
      " 3   2012          211 non-null    float64\n",
      " 4   2013          211 non-null    float64\n",
      " 5   2014          212 non-null    float64\n",
      " 6   2015          210 non-null    float64\n",
      " 7   2016          210 non-null    float64\n",
      " 8   2017          210 non-null    float64\n",
      " 9   2018          210 non-null    float64\n",
      " 10  2019          211 non-null    float64\n",
      " 11  2020          210 non-null    float64\n",
      " 12  2021          209 non-null    float64\n",
      " 13  2022          203 non-null    float64\n",
      " 14  2023          186 non-null    float64\n",
      "dtypes: float64(14), object(1)\n",
      "memory usage: 25.6+ KB\n"
     ]
    }
   ],
   "source": [
    "# Identification de la nature des données dans chacune des colonnes\n",
    "df_pib_hab.info()"
   ]
  },
  {
   "cell_type": "code",
   "execution_count": 18,
   "id": "10716c84",
   "metadata": {
    "scrolled": true
   },
   "outputs": [
    {
     "data": {
      "text/html": [
       "<div>\n",
       "<style scoped>\n",
       "    .dataframe tbody tr th:only-of-type {\n",
       "        vertical-align: middle;\n",
       "    }\n",
       "\n",
       "    .dataframe tbody tr th {\n",
       "        vertical-align: top;\n",
       "    }\n",
       "\n",
       "    .dataframe thead th {\n",
       "        text-align: right;\n",
       "    }\n",
       "</style>\n",
       "<table border=\"1\" class=\"dataframe\">\n",
       "  <thead>\n",
       "    <tr style=\"text-align: right;\">\n",
       "      <th></th>\n",
       "      <th>Country Name</th>\n",
       "      <th>2010</th>\n",
       "      <th>2011</th>\n",
       "      <th>2012</th>\n",
       "      <th>2013</th>\n",
       "      <th>2014</th>\n",
       "      <th>2015</th>\n",
       "      <th>2016</th>\n",
       "      <th>2017</th>\n",
       "      <th>2018</th>\n",
       "      <th>2019</th>\n",
       "      <th>2020</th>\n",
       "      <th>2021</th>\n",
       "      <th>2022</th>\n",
       "      <th>2023</th>\n",
       "    </tr>\n",
       "  </thead>\n",
       "  <tbody>\n",
       "    <tr>\n",
       "      <th>0</th>\n",
       "      <td>Aruba</td>\n",
       "      <td>24452.588739</td>\n",
       "      <td>26043.156325</td>\n",
       "      <td>25611.175767</td>\n",
       "      <td>26514.868980</td>\n",
       "      <td>26940.264114</td>\n",
       "      <td>28419.264534</td>\n",
       "      <td>28449.712946</td>\n",
       "      <td>29329.081747</td>\n",
       "      <td>30918.483584</td>\n",
       "      <td>31902.809818</td>\n",
       "      <td>24008.127822</td>\n",
       "      <td>29127.759384</td>\n",
       "      <td>33300.838819</td>\n",
       "      <td>NaN</td>\n",
       "    </tr>\n",
       "    <tr>\n",
       "      <th>1</th>\n",
       "      <td>Afghanistan</td>\n",
       "      <td>562.499222</td>\n",
       "      <td>608.738850</td>\n",
       "      <td>653.417475</td>\n",
       "      <td>638.733181</td>\n",
       "      <td>626.512929</td>\n",
       "      <td>566.881130</td>\n",
       "      <td>523.053012</td>\n",
       "      <td>526.140801</td>\n",
       "      <td>492.090631</td>\n",
       "      <td>497.741431</td>\n",
       "      <td>512.055098</td>\n",
       "      <td>355.777826</td>\n",
       "      <td>352.603733</td>\n",
       "      <td>NaN</td>\n",
       "    </tr>\n",
       "    <tr>\n",
       "      <th>2</th>\n",
       "      <td>Angola</td>\n",
       "      <td>3586.663694</td>\n",
       "      <td>4608.155166</td>\n",
       "      <td>5083.826873</td>\n",
       "      <td>5061.349253</td>\n",
       "      <td>5011.984427</td>\n",
       "      <td>3217.339240</td>\n",
       "      <td>1809.709377</td>\n",
       "      <td>2439.374439</td>\n",
       "      <td>2540.508879</td>\n",
       "      <td>2191.347764</td>\n",
       "      <td>1450.905111</td>\n",
       "      <td>1927.474078</td>\n",
       "      <td>2933.484644</td>\n",
       "      <td>2309.521620</td>\n",
       "    </tr>\n",
       "    <tr>\n",
       "      <th>3</th>\n",
       "      <td>Albanie</td>\n",
       "      <td>4094.349686</td>\n",
       "      <td>4437.141161</td>\n",
       "      <td>4247.631343</td>\n",
       "      <td>4413.063383</td>\n",
       "      <td>4578.633208</td>\n",
       "      <td>3952.803574</td>\n",
       "      <td>4124.055390</td>\n",
       "      <td>4531.032207</td>\n",
       "      <td>5287.660801</td>\n",
       "      <td>5396.214243</td>\n",
       "      <td>5343.037704</td>\n",
       "      <td>6377.203096</td>\n",
       "      <td>6810.114041</td>\n",
       "      <td>8367.775731</td>\n",
       "    </tr>\n",
       "    <tr>\n",
       "      <th>4</th>\n",
       "      <td>Andorre</td>\n",
       "      <td>48237.891174</td>\n",
       "      <td>51428.196952</td>\n",
       "      <td>44902.380766</td>\n",
       "      <td>44747.753864</td>\n",
       "      <td>45680.534992</td>\n",
       "      <td>38885.530322</td>\n",
       "      <td>39931.216980</td>\n",
       "      <td>40632.231552</td>\n",
       "      <td>42904.828456</td>\n",
       "      <td>41328.600498</td>\n",
       "      <td>37207.221999</td>\n",
       "      <td>42066.490518</td>\n",
       "      <td>42350.697069</td>\n",
       "      <td>46544.720720</td>\n",
       "    </tr>\n",
       "  </tbody>\n",
       "</table>\n",
       "</div>"
      ],
      "text/plain": [
       "  Country Name          2010          2011          2012          2013  \\\n",
       "0        Aruba  24452.588739  26043.156325  25611.175767  26514.868980   \n",
       "1  Afghanistan    562.499222    608.738850    653.417475    638.733181   \n",
       "2       Angola   3586.663694   4608.155166   5083.826873   5061.349253   \n",
       "3      Albanie   4094.349686   4437.141161   4247.631343   4413.063383   \n",
       "4      Andorre  48237.891174  51428.196952  44902.380766  44747.753864   \n",
       "\n",
       "           2014          2015          2016          2017          2018  \\\n",
       "0  26940.264114  28419.264534  28449.712946  29329.081747  30918.483584   \n",
       "1    626.512929    566.881130    523.053012    526.140801    492.090631   \n",
       "2   5011.984427   3217.339240   1809.709377   2439.374439   2540.508879   \n",
       "3   4578.633208   3952.803574   4124.055390   4531.032207   5287.660801   \n",
       "4  45680.534992  38885.530322  39931.216980  40632.231552  42904.828456   \n",
       "\n",
       "           2019          2020          2021          2022          2023  \n",
       "0  31902.809818  24008.127822  29127.759384  33300.838819           NaN  \n",
       "1    497.741431    512.055098    355.777826    352.603733           NaN  \n",
       "2   2191.347764   1450.905111   1927.474078   2933.484644   2309.521620  \n",
       "3   5396.214243   5343.037704   6377.203096   6810.114041   8367.775731  \n",
       "4  41328.600498  37207.221999  42066.490518  42350.697069  46544.720720  "
      ]
     },
     "metadata": {},
     "output_type": "display_data"
    }
   ],
   "source": [
    "# Affichage des 5 premières lignes de la table\n",
    "display(df_pib_hab.head())"
   ]
  },
  {
   "cell_type": "code",
   "execution_count": null,
   "id": "a2062a24",
   "metadata": {},
   "outputs": [],
   "source": []
  },
  {
   "cell_type": "code",
   "execution_count": 19,
   "id": "fb344c92",
   "metadata": {},
   "outputs": [],
   "source": [
    "# Remplacement des NaN de la colonne 2023 par les valeurs des colonnes précédentes\n",
    "df_pib_hab['2023'].fillna(df_pib_hab['2022'], inplace=True)\n",
    "df_pib_hab['2023'].fillna(df_pib_hab['2021'], inplace=True)\n",
    "df_pib_hab['2023'].fillna(df_pib_hab['2020'], inplace=True)\n",
    "df_pib_hab['2023'].fillna(df_pib_hab['2019'], inplace=True)"
   ]
  },
  {
   "cell_type": "code",
   "execution_count": 20,
   "id": "647d2888",
   "metadata": {},
   "outputs": [
    {
     "data": {
      "text/html": [
       "<div>\n",
       "<style scoped>\n",
       "    .dataframe tbody tr th:only-of-type {\n",
       "        vertical-align: middle;\n",
       "    }\n",
       "\n",
       "    .dataframe tbody tr th {\n",
       "        vertical-align: top;\n",
       "    }\n",
       "\n",
       "    .dataframe thead th {\n",
       "        text-align: right;\n",
       "    }\n",
       "</style>\n",
       "<table border=\"1\" class=\"dataframe\">\n",
       "  <thead>\n",
       "    <tr style=\"text-align: right;\">\n",
       "      <th></th>\n",
       "      <th>Pays</th>\n",
       "      <th>pib_hab_2023</th>\n",
       "    </tr>\n",
       "  </thead>\n",
       "  <tbody>\n",
       "    <tr>\n",
       "      <th>0</th>\n",
       "      <td>Aruba</td>\n",
       "      <td>33300.839</td>\n",
       "    </tr>\n",
       "    <tr>\n",
       "      <th>1</th>\n",
       "      <td>Afghanistan</td>\n",
       "      <td>352.604</td>\n",
       "    </tr>\n",
       "    <tr>\n",
       "      <th>2</th>\n",
       "      <td>Angola</td>\n",
       "      <td>2309.522</td>\n",
       "    </tr>\n",
       "    <tr>\n",
       "      <th>3</th>\n",
       "      <td>Albanie</td>\n",
       "      <td>8367.776</td>\n",
       "    </tr>\n",
       "    <tr>\n",
       "      <th>4</th>\n",
       "      <td>Andorre</td>\n",
       "      <td>46544.721</td>\n",
       "    </tr>\n",
       "  </tbody>\n",
       "</table>\n",
       "</div>"
      ],
      "text/plain": [
       "          Pays  pib_hab_2023\n",
       "0        Aruba     33300.839\n",
       "1  Afghanistan       352.604\n",
       "2       Angola      2309.522\n",
       "3      Albanie      8367.776\n",
       "4      Andorre     46544.721"
      ]
     },
     "metadata": {},
     "output_type": "display_data"
    }
   ],
   "source": [
    "# Création de df_pib_hab2 à partir de df_pib_hab en ne gardant que les colonnes pertinantes\n",
    "df_pib_hab2 = df_pib_hab.loc[:, ['Country Name','2023']]\n",
    "\n",
    "# Renommage de la colonne \"Country Name\" en \"Pays\"\n",
    "df_pib_hab2 = df_pib_hab2.rename(columns={'Country Name': 'Pays'})\n",
    "\n",
    "# Renommage de la colonne \"2023\" en \"pib_hab_2023\"\n",
    "df_pib_hab2 = df_pib_hab2.rename(columns={'2023': 'pib_hab_2023'})\n",
    "\n",
    "# Formatage des colonnes des années avec 3 chiffres après la virgule\n",
    "df_pib_hab2['pib_hab_2023'] = df_pib_hab2['pib_hab_2023'].round(3)\n",
    "    \n",
    "# Affichage des 5 premières lignes de la table\n",
    "display(df_pib_hab2.head())"
   ]
  },
  {
   "cell_type": "code",
   "execution_count": null,
   "id": "018ee3ed",
   "metadata": {},
   "outputs": [],
   "source": []
  },
  {
   "cell_type": "code",
   "execution_count": 21,
   "id": "3ee04e56",
   "metadata": {},
   "outputs": [
    {
     "name": "stdout",
     "output_type": "stream",
     "text": [
      "Il y a des valeurs manquantes (NaN) dans la colonne 'pib_hab_2023'.\n",
      "6\n"
     ]
    }
   ],
   "source": [
    "# Vérification de la présence de NaN\n",
    "if df_pib_hab2['pib_hab_2023'].isnull().values.any():\n",
    "    print(\"Il y a des valeurs manquantes (NaN) dans la colonne 'pib_hab_2023'.\")\n",
    "else:\n",
    "    print(\"Il n'y a pas de valeurs manquantes dans la colonne 'pib_hab_2023'.\")    \n",
    "\n",
    "# Comptabilisation des valeurs manquantes\n",
    "pib_hab2_nbr_nan = df_pib_hab2['pib_hab_2023'].isnull().sum()\n",
    "print(pib_hab2_nbr_nan)"
   ]
  },
  {
   "cell_type": "code",
   "execution_count": 22,
   "id": "80274ae2",
   "metadata": {
    "scrolled": true
   },
   "outputs": [
    {
     "name": "stdout",
     "output_type": "stream",
     "text": [
      "                                  Pays  pib_hab_2023\n",
      "58                            Érythrée           NaN\n",
      "71                           Gibraltar           NaN\n",
      "158  Corée, République démocratique de           NaN\n",
      "177                      Soudan du Sud           NaN\n",
      "206                          Venezuela           NaN\n",
      "207          Îles Vierges britanniques           NaN\n"
     ]
    }
   ],
   "source": [
    "pib_hab2_filtre_nan = df_pib_hab2[df_pib_hab2['pib_hab_2023'].isnull()]\n",
    "print(pib_hab2_filtre_nan)"
   ]
  },
  {
   "cell_type": "code",
   "execution_count": 23,
   "id": "c40f9c8c",
   "metadata": {},
   "outputs": [],
   "source": [
    "df_pib_hab3 = df_pib_hab2.dropna()"
   ]
  },
  {
   "cell_type": "code",
   "execution_count": 24,
   "id": "a7188028",
   "metadata": {
    "scrolled": true
   },
   "outputs": [
    {
     "name": "stdout",
     "output_type": "stream",
     "text": [
      "<class 'pandas.core.frame.DataFrame'>\n",
      "Index: 211 entries, 0 to 216\n",
      "Data columns (total 2 columns):\n",
      " #   Column        Non-Null Count  Dtype  \n",
      "---  ------        --------------  -----  \n",
      " 0   Pays          211 non-null    object \n",
      " 1   pib_hab_2023  211 non-null    float64\n",
      "dtypes: float64(1), object(1)\n",
      "memory usage: 4.9+ KB\n"
     ]
    }
   ],
   "source": [
    "df_pib_hab3.info()"
   ]
  },
  {
   "cell_type": "code",
   "execution_count": null,
   "id": "d6e1a090",
   "metadata": {},
   "outputs": [],
   "source": []
  },
  {
   "cell_type": "code",
   "execution_count": 25,
   "id": "d8c1f118",
   "metadata": {},
   "outputs": [
    {
     "data": {
      "image/png": "[encoded data removed]",
      "text/plain": [
       "<Figure size 1000x400 with 1 Axes>"
      ]
     },
     "metadata": {},
     "output_type": "display_data"
    }
   ],
   "source": [
    "# Affichage des 20 pays avec le PIB par habitant le plus important en 2023\n",
    "\n",
    "# Trie de la valeur par ordre décroissant\n",
    "pib_hab_2023_desc = df_pib_hab3.sort_values('pib_hab_2023', ascending=False)\n",
    "\n",
    "# Sélection des 20 premiers pays\n",
    "pib_hab_top20 = pib_hab_2023_desc.head(20)\n",
    "\n",
    "# Création d'un diagramme à barres\n",
    "plt.figure(figsize=(10, 4))\n",
    "plt.barh(pib_hab_top20['Pays'], pib_hab_top20['pib_hab_2023'], color='chocolate')\n",
    "plt.xlabel('PIB par habitant')\n",
    "plt.ylabel('Pays')\n",
    "plt.title('Les 20 pays avec le PIB par habitant le plus important en 2023')\n",
    "plt.gca().invert_yaxis()\n",
    "\n",
    "plt.show()"
   ]
  },
  {
   "cell_type": "code",
   "execution_count": 26,
   "id": "bf3fa118",
   "metadata": {
    "scrolled": false
   },
   "outputs": [
    {
     "data": {
      "image/png": "[encoded data removed]",
      "text/plain": [
       "<Figure size 1000x400 with 1 Axes>"
      ]
     },
     "metadata": {},
     "output_type": "display_data"
    }
   ],
   "source": [
    "# Affichage des 20 pays avec le PIB par habitant le moins important en 2023*\n",
    "\n",
    "# Trie de la valeur par ordre croissant\n",
    "pib_hab_2023_asc = df_pib_hab3.sort_values('pib_hab_2023')\n",
    "\n",
    "# Sélection des 20 premiers pays\n",
    "pib_hab_flop20 = pib_hab_2023_asc.head(20)\n",
    "\n",
    "# Création d'un diagramme à barres\n",
    "plt.figure(figsize=(10, 4))\n",
    "plt.barh(pib_hab_flop20['Pays'], pib_hab_flop20['pib_hab_2023'], color='chocolate')\n",
    "plt.xlabel('PIB par habitant')\n",
    "plt.ylabel('Pays')\n",
    "plt.title('Les 20 pays avec le PIB par habitant le moins important en 2023')\n",
    "plt.gca().invert_yaxis()\n",
    "\n",
    "plt.show()"
   ]
  },
  {
   "cell_type": "code",
   "execution_count": 27,
   "id": "d23a8c6a",
   "metadata": {},
   "outputs": [
    {
     "data": {
      "image/png": "[encoded data removed]",
      "text/plain": [
       "<Figure size 640x480 with 1 Axes>"
      ]
     },
     "metadata": {},
     "output_type": "display_data"
    }
   ],
   "source": [
    "# Créer l'histogramme\n",
    "fig, ax = plt.subplots()\n",
    "counts, bins, bars = ax.hist(df_pib_hab3['pib_hab_2023'], bins=20)\n",
    "\n",
    "# Trier les barres par hauteur et prendre les 5 plus hautes\n",
    "indices = np.argsort(counts)[-5:]\n",
    "\n",
    "# Ajouter les étiquettes aux 5 barres les plus hautes\n",
    "for i in indices:\n",
    "    ax.text(bins[i], counts[i], str(counts[i]), ha='center', va='bottom', color = 'black')\n",
    "\n",
    "# Personnalisation du graphique\n",
    "plt.title(\"Distribution du PIB par habitant en 2023\")\n",
    "plt.xlabel(\"PIB par habitant (en milliers d'unités)\")\n",
    "plt.ylabel(\"Nombre de pays\")\n",
    "plt.grid(False)\n",
    "\n",
    "# Afficher le graphique\n",
    "plt.show()"
   ]
  },
  {
   "cell_type": "markdown",
   "id": "a83836bb",
   "metadata": {},
   "source": [
    "<div style=\"border: 1px solid chocolate; border-radius: 8px; padding: 20px; background-color: seashell;\">\n",
    "<h3 style=\"margin: auto; color: chocolate;\">II.2 - Analyse économique : croissance du PIB par habitant</h3>\n",
    "</div>"
   ]
  },
  {
   "cell_type": "code",
   "execution_count": 28,
   "id": "b1eaeb50",
   "metadata": {},
   "outputs": [],
   "source": [
    "# Il s'agit de la croissance du PIB par habitant en % annuel.\n",
    "\n",
    "# Taux de pourcentage annuel de croissance du PIB par habitant basé sur les devises locales constantes.\n",
    "# Le PIB par habitant est le produit intérieur brut divisé par la population en milieu d'année.\n",
    "# Le PIB au prix des acheteurs est la somme de la valeur ajoutée brute de tous les producteurs résidents d'une économie plus toutes taxes sur les produits et moins les subventions non incluses dans la valeur des produits.\n",
    "# Elle est calculée sans effectuer de déductions pour la dépréciation des biens fabriqués ou la perte de valeur ou la dégradation des ressources naturelles.\n",
    "# Les données sont en dollars américains constants de 2010.\n",
    "\n",
    "# https://donnees.banquemondiale.org/indicator/NY.GDP.PCAP.KD.ZG"
   ]
  },
  {
   "cell_type": "code",
   "execution_count": 29,
   "id": "c1bd6ff1",
   "metadata": {},
   "outputs": [],
   "source": [
    "# Importation du fichier 'pib_croi'\n",
    "df_pib_croi = pd.read_excel(\"pib_croi.xlsx\")"
   ]
  },
  {
   "cell_type": "code",
   "execution_count": 30,
   "id": "66d4ae6e",
   "metadata": {},
   "outputs": [
    {
     "name": "stdout",
     "output_type": "stream",
     "text": [
      "Le tableau comporte 217 observation(s) ou article(s)\n",
      "Le tableau comporte 15 colonne(s)\n"
     ]
    }
   ],
   "source": [
    "# Affichage des dimensions du dataset\n",
    "print(\"Le tableau comporte {} observation(s) ou article(s)\".format(df_pib_croi.shape[0]))\n",
    "print(\"Le tableau comporte {} colonne(s)\".format(df_pib_croi.shape[1]))"
   ]
  },
  {
   "cell_type": "code",
   "execution_count": 31,
   "id": "f74e3526",
   "metadata": {},
   "outputs": [
    {
     "name": "stdout",
     "output_type": "stream",
     "text": [
      "<class 'pandas.core.frame.DataFrame'>\n",
      "RangeIndex: 217 entries, 0 to 216\n",
      "Data columns (total 15 columns):\n",
      " #   Column        Non-Null Count  Dtype  \n",
      "---  ------        --------------  -----  \n",
      " 0   Country Name  217 non-null    object \n",
      " 1   2010          208 non-null    float64\n",
      " 2   2011          208 non-null    float64\n",
      " 3   2012          208 non-null    float64\n",
      " 4   2013          208 non-null    float64\n",
      " 5   2014          209 non-null    float64\n",
      " 6   2015          209 non-null    float64\n",
      " 7   2016          208 non-null    float64\n",
      " 8   2017          209 non-null    float64\n",
      " 9   2018          210 non-null    float64\n",
      " 10  2019          209 non-null    float64\n",
      " 11  2020          208 non-null    float64\n",
      " 12  2021          207 non-null    float64\n",
      " 13  2022          201 non-null    float64\n",
      " 14  2023          184 non-null    float64\n",
      "dtypes: float64(14), object(1)\n",
      "memory usage: 25.6+ KB\n"
     ]
    }
   ],
   "source": [
    "# Identification de la nature des données dans chacune des colonnes\n",
    "df_pib_croi.info()"
   ]
  },
  {
   "cell_type": "code",
   "execution_count": 32,
   "id": "75f2d028",
   "metadata": {
    "scrolled": true
   },
   "outputs": [
    {
     "data": {
      "text/html": [
       "<div>\n",
       "<style scoped>\n",
       "    .dataframe tbody tr th:only-of-type {\n",
       "        vertical-align: middle;\n",
       "    }\n",
       "\n",
       "    .dataframe tbody tr th {\n",
       "        vertical-align: top;\n",
       "    }\n",
       "\n",
       "    .dataframe thead th {\n",
       "        text-align: right;\n",
       "    }\n",
       "</style>\n",
       "<table border=\"1\" class=\"dataframe\">\n",
       "  <thead>\n",
       "    <tr style=\"text-align: right;\">\n",
       "      <th></th>\n",
       "      <th>Country Name</th>\n",
       "      <th>2010</th>\n",
       "      <th>2011</th>\n",
       "      <th>2012</th>\n",
       "      <th>2013</th>\n",
       "      <th>2014</th>\n",
       "      <th>2015</th>\n",
       "      <th>2016</th>\n",
       "      <th>2017</th>\n",
       "      <th>2018</th>\n",
       "      <th>2019</th>\n",
       "      <th>2020</th>\n",
       "      <th>2021</th>\n",
       "      <th>2022</th>\n",
       "      <th>2023</th>\n",
       "    </tr>\n",
       "  </thead>\n",
       "  <tbody>\n",
       "    <tr>\n",
       "      <th>0</th>\n",
       "      <td>Aruba</td>\n",
       "      <td>-3.827864</td>\n",
       "      <td>2.402778</td>\n",
       "      <td>-1.839358</td>\n",
       "      <td>5.636971</td>\n",
       "      <td>-2.264869</td>\n",
       "      <td>-1.255589</td>\n",
       "      <td>1.121183</td>\n",
       "      <td>6.474909</td>\n",
       "      <td>1.876401</td>\n",
       "      <td>-2.743401</td>\n",
       "      <td>-24.084570</td>\n",
       "      <td>27.696865</td>\n",
       "      <td>10.553786</td>\n",
       "      <td>NaN</td>\n",
       "    </tr>\n",
       "    <tr>\n",
       "      <th>1</th>\n",
       "      <td>Afghanistan</td>\n",
       "      <td>11.099220</td>\n",
       "      <td>-3.211364</td>\n",
       "      <td>8.247144</td>\n",
       "      <td>2.002522</td>\n",
       "      <td>-0.964803</td>\n",
       "      <td>-1.666416</td>\n",
       "      <td>-0.345802</td>\n",
       "      <td>-0.253594</td>\n",
       "      <td>-1.688577</td>\n",
       "      <td>0.932833</td>\n",
       "      <td>-5.364666</td>\n",
       "      <td>-22.966942</td>\n",
       "      <td>-8.586652</td>\n",
       "      <td>NaN</td>\n",
       "    </tr>\n",
       "    <tr>\n",
       "      <th>2</th>\n",
       "      <td>Angola</td>\n",
       "      <td>0.571221</td>\n",
       "      <td>-0.345062</td>\n",
       "      <td>4.538054</td>\n",
       "      <td>1.106331</td>\n",
       "      <td>1.030729</td>\n",
       "      <td>-2.642975</td>\n",
       "      <td>-6.011891</td>\n",
       "      <td>-3.630695</td>\n",
       "      <td>-4.676670</td>\n",
       "      <td>-4.017114</td>\n",
       "      <td>-8.672432</td>\n",
       "      <td>-1.954598</td>\n",
       "      <td>-0.096755</td>\n",
       "      <td>-2.155077</td>\n",
       "    </tr>\n",
       "    <tr>\n",
       "      <th>3</th>\n",
       "      <td>Albanie</td>\n",
       "      <td>4.223084</td>\n",
       "      <td>2.821642</td>\n",
       "      <td>1.584873</td>\n",
       "      <td>1.187234</td>\n",
       "      <td>1.985388</td>\n",
       "      <td>2.516827</td>\n",
       "      <td>3.480293</td>\n",
       "      <td>3.898112</td>\n",
       "      <td>4.276312</td>\n",
       "      <td>2.523541</td>\n",
       "      <td>-2.745239</td>\n",
       "      <td>9.922714</td>\n",
       "      <td>6.139017</td>\n",
       "      <td>4.633910</td>\n",
       "    </tr>\n",
       "    <tr>\n",
       "      <th>4</th>\n",
       "      <td>Andorre</td>\n",
       "      <td>1.222688</td>\n",
       "      <td>1.340894</td>\n",
       "      <td>-5.571256</td>\n",
       "      <td>-4.026027</td>\n",
       "      <td>2.140939</td>\n",
       "      <td>1.257416</td>\n",
       "      <td>2.574505</td>\n",
       "      <td>-1.416579</td>\n",
       "      <td>-0.003870</td>\n",
       "      <td>0.238297</td>\n",
       "      <td>-12.735078</td>\n",
       "      <td>6.459441</td>\n",
       "      <td>8.479470</td>\n",
       "      <td>1.109786</td>\n",
       "    </tr>\n",
       "  </tbody>\n",
       "</table>\n",
       "</div>"
      ],
      "text/plain": [
       "  Country Name       2010      2011      2012      2013      2014      2015  \\\n",
       "0        Aruba  -3.827864  2.402778 -1.839358  5.636971 -2.264869 -1.255589   \n",
       "1  Afghanistan  11.099220 -3.211364  8.247144  2.002522 -0.964803 -1.666416   \n",
       "2       Angola   0.571221 -0.345062  4.538054  1.106331  1.030729 -2.642975   \n",
       "3      Albanie   4.223084  2.821642  1.584873  1.187234  1.985388  2.516827   \n",
       "4      Andorre   1.222688  1.340894 -5.571256 -4.026027  2.140939  1.257416   \n",
       "\n",
       "       2016      2017      2018      2019       2020       2021       2022  \\\n",
       "0  1.121183  6.474909  1.876401 -2.743401 -24.084570  27.696865  10.553786   \n",
       "1 -0.345802 -0.253594 -1.688577  0.932833  -5.364666 -22.966942  -8.586652   \n",
       "2 -6.011891 -3.630695 -4.676670 -4.017114  -8.672432  -1.954598  -0.096755   \n",
       "3  3.480293  3.898112  4.276312  2.523541  -2.745239   9.922714   6.139017   \n",
       "4  2.574505 -1.416579 -0.003870  0.238297 -12.735078   6.459441   8.479470   \n",
       "\n",
       "       2023  \n",
       "0       NaN  \n",
       "1       NaN  \n",
       "2 -2.155077  \n",
       "3  4.633910  \n",
       "4  1.109786  "
      ]
     },
     "metadata": {},
     "output_type": "display_data"
    }
   ],
   "source": [
    "# Affichage des 5 premières lignes de la table\n",
    "display(df_pib_croi.head())"
   ]
  },
  {
   "cell_type": "code",
   "execution_count": null,
   "id": "c5fa1a29",
   "metadata": {},
   "outputs": [],
   "source": []
  },
  {
   "cell_type": "code",
   "execution_count": 33,
   "id": "4f1959b7",
   "metadata": {},
   "outputs": [],
   "source": [
    "# Remplacement des NaN de la colonne 2023 par les valeurs des colonnes précédentes\n",
    "df_pib_croi['2023'].fillna(df_pib_croi['2022'], inplace=True)\n",
    "df_pib_croi['2023'].fillna(df_pib_croi['2021'], inplace=True)\n",
    "df_pib_croi['2023'].fillna(df_pib_croi['2020'], inplace=True)\n",
    "df_pib_croi['2023'].fillna(df_pib_croi['2019'], inplace=True)\n",
    "df_pib_croi['2023'].fillna(df_pib_croi['2018'], inplace=True)"
   ]
  },
  {
   "cell_type": "code",
   "execution_count": 34,
   "id": "f1db1115",
   "metadata": {
    "scrolled": false
   },
   "outputs": [
    {
     "data": {
      "text/html": [
       "<div>\n",
       "<style scoped>\n",
       "    .dataframe tbody tr th:only-of-type {\n",
       "        vertical-align: middle;\n",
       "    }\n",
       "\n",
       "    .dataframe tbody tr th {\n",
       "        vertical-align: top;\n",
       "    }\n",
       "\n",
       "    .dataframe thead th {\n",
       "        text-align: right;\n",
       "    }\n",
       "</style>\n",
       "<table border=\"1\" class=\"dataframe\">\n",
       "  <thead>\n",
       "    <tr style=\"text-align: right;\">\n",
       "      <th></th>\n",
       "      <th>Pays</th>\n",
       "      <th>pib_croi_2023</th>\n",
       "    </tr>\n",
       "  </thead>\n",
       "  <tbody>\n",
       "    <tr>\n",
       "      <th>0</th>\n",
       "      <td>Aruba</td>\n",
       "      <td>10.554</td>\n",
       "    </tr>\n",
       "    <tr>\n",
       "      <th>1</th>\n",
       "      <td>Afghanistan</td>\n",
       "      <td>-8.587</td>\n",
       "    </tr>\n",
       "    <tr>\n",
       "      <th>2</th>\n",
       "      <td>Angola</td>\n",
       "      <td>-2.155</td>\n",
       "    </tr>\n",
       "    <tr>\n",
       "      <th>3</th>\n",
       "      <td>Albanie</td>\n",
       "      <td>4.634</td>\n",
       "    </tr>\n",
       "    <tr>\n",
       "      <th>4</th>\n",
       "      <td>Andorre</td>\n",
       "      <td>1.110</td>\n",
       "    </tr>\n",
       "  </tbody>\n",
       "</table>\n",
       "</div>"
      ],
      "text/plain": [
       "          Pays  pib_croi_2023\n",
       "0        Aruba         10.554\n",
       "1  Afghanistan         -8.587\n",
       "2       Angola         -2.155\n",
       "3      Albanie          4.634\n",
       "4      Andorre          1.110"
      ]
     },
     "metadata": {},
     "output_type": "display_data"
    }
   ],
   "source": [
    "# Création de df_pib_croi2 à partir de df_pib_croi en ne gardant que les colonnes pertinantes\n",
    "df_pib_croi2 = df_pib_croi.loc[:, ['Country Name','2023']]\n",
    "\n",
    "# Renommage de la colonne \"Country Name\" en \"Pays\"\n",
    "df_pib_croi2 = df_pib_croi2.rename(columns={'Country Name': 'Pays'})\n",
    "\n",
    "# Renommage de la colonne \"2023\" en \"pib_hab_2023\"\n",
    "df_pib_croi2 = df_pib_croi2.rename(columns={'2023': 'pib_croi_2023'})\n",
    "\n",
    "# Formatage des colonnes des années avec 3 chiffres après la virgule\n",
    "df_pib_croi2['pib_croi_2023'] = df_pib_croi2['pib_croi_2023'].round(3)\n",
    "    \n",
    "# Affichage des 5 premières lignes de la table\n",
    "display(df_pib_croi2.head())"
   ]
  },
  {
   "cell_type": "code",
   "execution_count": null,
   "id": "21843b14",
   "metadata": {},
   "outputs": [],
   "source": []
  },
  {
   "cell_type": "code",
   "execution_count": 35,
   "id": "298c0d68",
   "metadata": {},
   "outputs": [
    {
     "name": "stdout",
     "output_type": "stream",
     "text": [
      "Il y a des valeurs manquantes (NaN) dans la colonne 'pib_croi_2023'.\n",
      "7\n"
     ]
    }
   ],
   "source": [
    "# Vérification de la présence de NaN\n",
    "if df_pib_croi2['pib_croi_2023'].isnull().values.any():\n",
    "    print(\"Il y a des valeurs manquantes (NaN) dans la colonne 'pib_croi_2023'.\")\n",
    "else:\n",
    "    print(\"Il n'y a pas de valeurs manquantes dans la colonne 'pib_croi_2023'.\")    \n",
    "\n",
    "# Comptabilisation des valeurs manquantes\n",
    "pib_croi2_nbr_nan = df_pib_croi2['pib_croi_2023'].isnull().sum()\n",
    "print(pib_croi2_nbr_nan)"
   ]
  },
  {
   "cell_type": "code",
   "execution_count": 36,
   "id": "c0162012",
   "metadata": {},
   "outputs": [
    {
     "name": "stdout",
     "output_type": "stream",
     "text": [
      "                                  Pays  pib_croi_2023\n",
      "58                            Érythrée            NaN\n",
      "71                           Gibraltar            NaN\n",
      "112                      Liechtenstein            NaN\n",
      "158  Corée, République démocratique de            NaN\n",
      "177                      Soudan du Sud            NaN\n",
      "206                          Venezuela            NaN\n",
      "207          Îles Vierges britanniques            NaN\n"
     ]
    }
   ],
   "source": [
    "pib_croi2_filtre_nan = df_pib_croi2[df_pib_croi2['pib_croi_2023'].isnull()]\n",
    "print(pib_croi2_filtre_nan)"
   ]
  },
  {
   "cell_type": "code",
   "execution_count": 37,
   "id": "c47b059e",
   "metadata": {},
   "outputs": [],
   "source": [
    "df_pib_croi3 = df_pib_croi2.dropna()"
   ]
  },
  {
   "cell_type": "code",
   "execution_count": 38,
   "id": "714803b0",
   "metadata": {
    "scrolled": true
   },
   "outputs": [
    {
     "name": "stdout",
     "output_type": "stream",
     "text": [
      "<class 'pandas.core.frame.DataFrame'>\n",
      "Index: 210 entries, 0 to 216\n",
      "Data columns (total 2 columns):\n",
      " #   Column         Non-Null Count  Dtype  \n",
      "---  ------         --------------  -----  \n",
      " 0   Pays           210 non-null    object \n",
      " 1   pib_croi_2023  210 non-null    float64\n",
      "dtypes: float64(1), object(1)\n",
      "memory usage: 4.9+ KB\n"
     ]
    }
   ],
   "source": [
    "df_pib_croi3.info()"
   ]
  },
  {
   "cell_type": "code",
   "execution_count": null,
   "id": "0674b72c",
   "metadata": {},
   "outputs": [],
   "source": []
  },
  {
   "cell_type": "code",
   "execution_count": 39,
   "id": "bb01f388",
   "metadata": {},
   "outputs": [
    {
     "data": {
      "image/png": "[encoded data removed]",
      "text/plain": [
       "<Figure size 1000x400 with 1 Axes>"
      ]
     },
     "metadata": {},
     "output_type": "display_data"
    }
   ],
   "source": [
    "# Affichage des 20 pays avec le taux de croissance du PIB par habitant le plus important en 2023*\n",
    "\n",
    "# Trie de la valeur par ordre décroissant\n",
    "pib_croi_2023_desc = df_pib_croi3.sort_values('pib_croi_2023', ascending=False)\n",
    "\n",
    "# Sélection des 20 premiers pays\n",
    "pib_croi_top20 = pib_croi_2023_desc.head(20)\n",
    "\n",
    "# Création d'un diagramme à barres\n",
    "plt.figure(figsize=(10, 4))\n",
    "plt.barh(pib_croi_top20['Pays'], pib_croi_top20['pib_croi_2023'], color='chocolate')\n",
    "plt.xlabel('Taux de croissance du PIB/hab')\n",
    "plt.ylabel('Pays')\n",
    "plt.title('Les 20 pays avec le taux de croissance du PIB/hab le plus élevé en 2023')\n",
    "plt.gca().invert_yaxis()\n",
    "\n",
    "plt.show()"
   ]
  },
  {
   "cell_type": "code",
   "execution_count": 40,
   "id": "926ee057",
   "metadata": {},
   "outputs": [
    {
     "data": {
      "image/png": "[encoded data removed]",
      "text/plain": [
       "<Figure size 1000x400 with 1 Axes>"
      ]
     },
     "metadata": {},
     "output_type": "display_data"
    }
   ],
   "source": [
    "# Affichage des 20 pays avec le taux de croissance du PIB par habitant le plus faible en 2023*\n",
    "\n",
    "# Trie de la valeur par ordre croissant\n",
    "pib_croi_2023_asc = df_pib_croi3.sort_values('pib_croi_2023')\n",
    "\n",
    "# Sélection des 20 premiers pays\n",
    "pib_croi_flop20 = pib_croi_2023_asc.head(20)\n",
    "\n",
    "# Création d'un diagramme à barres\n",
    "plt.figure(figsize=(10, 4))\n",
    "plt.barh(pib_croi_flop20['Pays'], pib_croi_flop20['pib_croi_2023'], color='chocolate')\n",
    "plt.xlabel('Taux de croissance du PIB/hab')\n",
    "plt.ylabel('Pays')\n",
    "plt.title('Les 20 pays avec le taux de croissance du PIB/hab le plus faible en 2023')\n",
    "plt.gca().invert_yaxis()\n",
    "\n",
    "plt.show()"
   ]
  },
  {
   "cell_type": "markdown",
   "id": "47c1d789",
   "metadata": {},
   "source": [
    "<div style=\"border: 1px solid chocolate; border-radius: 8px; padding: 20px; background-color: seashell;\">\n",
    "<h3 style=\"margin: auto; color: chocolate;\">II.2 - Analyse socio-culturelle : population</h3>\n",
    "</div>"
   ]
  },
  {
   "cell_type": "code",
   "execution_count": 41,
   "id": "44a95309",
   "metadata": {},
   "outputs": [],
   "source": [
    "# Il s'agit du nombre d'habitants par pays en 2022 et en 2023, ainsi que de l'évolution entre ces 2 périodes\n",
    "\n",
    "# https://www.populationpyramid.net/population-size-per-country/2022/"
   ]
  },
  {
   "cell_type": "code",
   "execution_count": 42,
   "id": "2ab81438",
   "metadata": {},
   "outputs": [],
   "source": [
    "# Importation du fichier 'pop'\n",
    "df_pop = pd.read_excel(\"pop.xlsx\")"
   ]
  },
  {
   "cell_type": "code",
   "execution_count": 43,
   "id": "3cdd570e",
   "metadata": {},
   "outputs": [
    {
     "name": "stdout",
     "output_type": "stream",
     "text": [
      "Le tableau comporte 199 observation(s) ou article(s)\n",
      "Le tableau comporte 4 colonne(s)\n"
     ]
    }
   ],
   "source": [
    "# Affichage des dimensions du dataset\n",
    "print(\"Le tableau comporte {} observation(s) ou article(s)\".format(df_pop.shape[0]))\n",
    "print(\"Le tableau comporte {} colonne(s)\".format(df_pop.shape[1]))"
   ]
  },
  {
   "cell_type": "code",
   "execution_count": 44,
   "id": "35c1b9f4",
   "metadata": {},
   "outputs": [
    {
     "name": "stdout",
     "output_type": "stream",
     "text": [
      "<class 'pandas.core.frame.DataFrame'>\n",
      "RangeIndex: 199 entries, 0 to 198\n",
      "Data columns (total 4 columns):\n",
      " #   Column           Non-Null Count  Dtype  \n",
      "---  ------           --------------  -----  \n",
      " 0   Pays             199 non-null    object \n",
      " 1   pop_nbr_22       199 non-null    int64  \n",
      " 2   pop_nbr_2023     199 non-null    int64  \n",
      " 3   pop_evol%_22_23  199 non-null    float64\n",
      "dtypes: float64(1), int64(2), object(1)\n",
      "memory usage: 6.3+ KB\n"
     ]
    }
   ],
   "source": [
    "# Identification de la nature des données dans chacune des colonnes\n",
    "df_pop.info()"
   ]
  },
  {
   "cell_type": "code",
   "execution_count": 45,
   "id": "6f334615",
   "metadata": {
    "scrolled": true
   },
   "outputs": [
    {
     "data": {
      "text/html": [
       "<div>\n",
       "<style scoped>\n",
       "    .dataframe tbody tr th:only-of-type {\n",
       "        vertical-align: middle;\n",
       "    }\n",
       "\n",
       "    .dataframe tbody tr th {\n",
       "        vertical-align: top;\n",
       "    }\n",
       "\n",
       "    .dataframe thead th {\n",
       "        text-align: right;\n",
       "    }\n",
       "</style>\n",
       "<table border=\"1\" class=\"dataframe\">\n",
       "  <thead>\n",
       "    <tr style=\"text-align: right;\">\n",
       "      <th></th>\n",
       "      <th>Pays</th>\n",
       "      <th>pop_nbr_22</th>\n",
       "      <th>pop_nbr_2023</th>\n",
       "      <th>pop_evol%_22_23</th>\n",
       "    </tr>\n",
       "  </thead>\n",
       "  <tbody>\n",
       "    <tr>\n",
       "      <th>0</th>\n",
       "      <td>Inde</td>\n",
       "      <td>1425423213</td>\n",
       "      <td>1438069596</td>\n",
       "      <td>0.887202</td>\n",
       "    </tr>\n",
       "    <tr>\n",
       "      <th>1</th>\n",
       "      <td>Chine</td>\n",
       "      <td>1425179569</td>\n",
       "      <td>1422584933</td>\n",
       "      <td>-0.182057</td>\n",
       "    </tr>\n",
       "    <tr>\n",
       "      <th>2</th>\n",
       "      <td>Etats-Unis d'Amérique</td>\n",
       "      <td>341534046</td>\n",
       "      <td>343477335</td>\n",
       "      <td>0.568988</td>\n",
       "    </tr>\n",
       "    <tr>\n",
       "      <th>3</th>\n",
       "      <td>Indonésie</td>\n",
       "      <td>278830529</td>\n",
       "      <td>281190067</td>\n",
       "      <td>0.846227</td>\n",
       "    </tr>\n",
       "    <tr>\n",
       "      <th>4</th>\n",
       "      <td>Pakistan</td>\n",
       "      <td>243700667</td>\n",
       "      <td>247504496</td>\n",
       "      <td>1.560861</td>\n",
       "    </tr>\n",
       "  </tbody>\n",
       "</table>\n",
       "</div>"
      ],
      "text/plain": [
       "                    Pays  pop_nbr_22  pop_nbr_2023  pop_evol%_22_23\n",
       "0                   Inde  1425423213    1438069596         0.887202\n",
       "1                  Chine  1425179569    1422584933        -0.182057\n",
       "2  Etats-Unis d'Amérique   341534046     343477335         0.568988\n",
       "3              Indonésie   278830529     281190067         0.846227\n",
       "4               Pakistan   243700667     247504496         1.560861"
      ]
     },
     "metadata": {},
     "output_type": "display_data"
    }
   ],
   "source": [
    "# Affichage des 5 premières lignes de la table\n",
    "display(df_pop.head())"
   ]
  },
  {
   "cell_type": "code",
   "execution_count": null,
   "id": "720a3e15",
   "metadata": {},
   "outputs": [],
   "source": []
  },
  {
   "cell_type": "code",
   "execution_count": 46,
   "id": "425c8770",
   "metadata": {},
   "outputs": [],
   "source": [
    "# Suppression de la colonne pop_nbr_22\n",
    "df_pop = df_pop.drop('pop_nbr_22', axis=1)"
   ]
  },
  {
   "cell_type": "code",
   "execution_count": null,
   "id": "a4e4a0f0",
   "metadata": {},
   "outputs": [],
   "source": []
  },
  {
   "cell_type": "code",
   "execution_count": 47,
   "id": "27fe2fbe",
   "metadata": {},
   "outputs": [
    {
     "name": "stdout",
     "output_type": "stream",
     "text": [
      "Il n'y a pas de valeurs manquantes dans la colonne 'pop_nbr_2023'.\n"
     ]
    }
   ],
   "source": [
    "# Vérification de la présence de NaN\n",
    "if df_pop['pop_nbr_2023'].isnull().values.any():\n",
    "    print(\"Il y a des valeurs manquantes (NaN) dans la colonne 'pop_nbr_2023'.\")\n",
    "else:\n",
    "    print(\"Il n'y a pas de valeurs manquantes dans la colonne 'pop_nbr_2023'.\")"
   ]
  },
  {
   "cell_type": "code",
   "execution_count": 48,
   "id": "22cfc40e",
   "metadata": {},
   "outputs": [
    {
     "name": "stdout",
     "output_type": "stream",
     "text": [
      "Il n'y a pas de valeurs manquantes dans la colonne 'pop_evol%_22_23'.\n"
     ]
    }
   ],
   "source": [
    "# Vérification de la présence de NaN\n",
    "if df_pop['pop_evol%_22_23'].isnull().values.any():\n",
    "    print(\"Il y a des valeurs manquantes (NaN) dans la colonne 'pop_evol%_22_23'.\")\n",
    "else:\n",
    "    print(\"Il n'y a pas de valeurs manquantes dans la colonne 'pop_evol%_22_23'.\")"
   ]
  },
  {
   "cell_type": "code",
   "execution_count": null,
   "id": "b84345d1",
   "metadata": {},
   "outputs": [],
   "source": []
  },
  {
   "cell_type": "code",
   "execution_count": 49,
   "id": "27d06dbe",
   "metadata": {},
   "outputs": [
    {
     "data": {
      "image/png": "[encoded data removed]",
      "text/plain": [
       "<Figure size 1000x400 with 1 Axes>"
      ]
     },
     "metadata": {},
     "output_type": "display_data"
    }
   ],
   "source": [
    "# Affichage des 20 pays ayant la plus forte population en 2023\n",
    "\n",
    "# Trie de la valeur par ordre décroissant\n",
    "pop_23_desc = df_pop.sort_values('pop_nbr_2023', ascending=False)\n",
    "\n",
    "# Sélection des 20 premiers pays\n",
    "pop_23_top20 = pop_23_desc.head(20)\n",
    "\n",
    "# Création d'un diagramme à barres\n",
    "plt.figure(figsize=(10, 4))\n",
    "plt.barh(pop_23_top20['Pays'], pop_23_top20['pop_nbr_2023'], color='chocolate')\n",
    "plt.xlabel('Population')\n",
    "plt.ylabel('Pays')\n",
    "plt.title('Les 20 pays ayant la plus forte population en 2023')\n",
    "plt.gca().invert_yaxis()\n",
    "\n",
    "plt.show()"
   ]
  },
  {
   "cell_type": "code",
   "execution_count": 50,
   "id": "6e331e85",
   "metadata": {
    "scrolled": false
   },
   "outputs": [
    {
     "data": {
      "image/png": "[encoded data removed]",
      "text/plain": [
       "<Figure size 1000x400 with 1 Axes>"
      ]
     },
     "metadata": {},
     "output_type": "display_data"
    }
   ],
   "source": [
    "# Affichage des 20 pays ayant le plus fort taux de croissance de population entre 2022 et 2023\n",
    "\n",
    "# Trie de la valeur par ordre décroissant\n",
    "pop_evol_desc = df_pop.sort_values('pop_evol%_22_23', ascending=False)\n",
    "\n",
    "# Sélection des 20 premiers pays\n",
    "pop_evol_top20 = pop_evol_desc.head(20)\n",
    "\n",
    "# Création d'un diagramme à barres\n",
    "plt.figure(figsize=(10, 4))\n",
    "plt.barh(pop_evol_top20['Pays'], pop_evol_top20['pop_evol%_22_23'], color='chocolate')\n",
    "plt.xlabel('Taux de croissance en 2023 (%)')\n",
    "plt.ylabel('Pays')\n",
    "plt.title('Taux de croissance de la population entre 2022 et 2023 : le top 20 !')\n",
    "plt.gca().invert_yaxis()\n",
    "\n",
    "plt.show()"
   ]
  },
  {
   "cell_type": "code",
   "execution_count": 51,
   "id": "8fbaf062",
   "metadata": {},
   "outputs": [
    {
     "data": {
      "image/png": "[encoded data removed]",
      "text/plain": [
       "<Figure size 1000x400 with 1 Axes>"
      ]
     },
     "metadata": {},
     "output_type": "display_data"
    }
   ],
   "source": [
    "# Affichage des 20 pays ayant le plus faible taux de croissance de population entre 2022 et 2023\n",
    "\n",
    "# Trie de la valeur par ordre croissante\n",
    "pop_evol_asc = df_pop.sort_values('pop_evol%_22_23', ascending=True)\n",
    "\n",
    "# Sélection des 20 premiers pays\n",
    "pop_evol_flop20 = pop_evol_asc.head(20)\n",
    "\n",
    "# Création d'un diagramme à barres\n",
    "plt.figure(figsize=(10, 4))\n",
    "plt.barh(pop_evol_flop20['Pays'], pop_evol_flop20['pop_evol%_22_23'], color='chocolate')\n",
    "plt.xlabel('Taux de croissance en 2023 (%)')\n",
    "plt.ylabel('Pays')\n",
    "plt.title('Taux de croissance de la population entre 2022 et 2023 : le flop 20 !')\n",
    "plt.gca().invert_yaxis()\n",
    "\n",
    "plt.show()"
   ]
  },
  {
   "cell_type": "markdown",
   "id": "2445c0c9",
   "metadata": {},
   "source": [
    "<div style=\"border: 1px solid chocolate; border-radius: 8px; padding: 20px; background-color: seashell;\">\n",
    "<h3 style=\"margin: auto; color: chocolate;\">II.3 - Analyse technologique : distance entre Paris et les capitales mondiales</h3>\n",
    "</div>"
   ]
  },
  {
   "cell_type": "code",
   "execution_count": 52,
   "id": "d7b1caaa",
   "metadata": {},
   "outputs": [],
   "source": [
    "# Il s'agit de la distance en KM entre Paris et les capitales mondiales\n",
    "# Cette données peut être utile dans le cadre du transport de la volaille et de la non rupture de la chaîne du froid \n",
    "\n",
    "# https://apprendre5minutes.wordpress.com/2022/02/27/distance-entre-paris-et-les-capitales-du-monde/\n",
    "# http://mag.bouts-du-monde.com/partir/distance.htm"
   ]
  },
  {
   "cell_type": "code",
   "execution_count": 53,
   "id": "af9f28de",
   "metadata": {},
   "outputs": [],
   "source": [
    "# Importation du fichier 'distance'\n",
    "df_distance = pd.read_excel(\"distance.xlsx\")"
   ]
  },
  {
   "cell_type": "code",
   "execution_count": 54,
   "id": "80777ba2",
   "metadata": {},
   "outputs": [
    {
     "name": "stdout",
     "output_type": "stream",
     "text": [
      "Le tableau comporte 197 observation(s) ou article(s)\n",
      "Le tableau comporte 3 colonne(s)\n"
     ]
    }
   ],
   "source": [
    "# Affichage des dimensions du dataset\n",
    "print(\"Le tableau comporte {} observation(s) ou article(s)\".format(df_distance.shape[0]))\n",
    "print(\"Le tableau comporte {} colonne(s)\".format(df_distance.shape[1]))"
   ]
  },
  {
   "cell_type": "code",
   "execution_count": 55,
   "id": "8d62123c",
   "metadata": {},
   "outputs": [
    {
     "name": "stdout",
     "output_type": "stream",
     "text": [
      "<class 'pandas.core.frame.DataFrame'>\n",
      "RangeIndex: 197 entries, 0 to 196\n",
      "Data columns (total 3 columns):\n",
      " #   Column       Non-Null Count  Dtype \n",
      "---  ------       --------------  ----- \n",
      " 0   Pays         197 non-null    object\n",
      " 1   Capitale     197 non-null    object\n",
      " 2   Km de Paris  197 non-null    int64 \n",
      "dtypes: int64(1), object(2)\n",
      "memory usage: 4.7+ KB\n"
     ]
    }
   ],
   "source": [
    "# Identification de la nature des données dans chacune des colonnes\n",
    "df_distance.info()"
   ]
  },
  {
   "cell_type": "code",
   "execution_count": 56,
   "id": "9d976160",
   "metadata": {
    "scrolled": false
   },
   "outputs": [
    {
     "data": {
      "text/html": [
       "<div>\n",
       "<style scoped>\n",
       "    .dataframe tbody tr th:only-of-type {\n",
       "        vertical-align: middle;\n",
       "    }\n",
       "\n",
       "    .dataframe tbody tr th {\n",
       "        vertical-align: top;\n",
       "    }\n",
       "\n",
       "    .dataframe thead th {\n",
       "        text-align: right;\n",
       "    }\n",
       "</style>\n",
       "<table border=\"1\" class=\"dataframe\">\n",
       "  <thead>\n",
       "    <tr style=\"text-align: right;\">\n",
       "      <th></th>\n",
       "      <th>Pays</th>\n",
       "      <th>Capitale</th>\n",
       "      <th>Km de Paris</th>\n",
       "    </tr>\n",
       "  </thead>\n",
       "  <tbody>\n",
       "    <tr>\n",
       "      <th>0</th>\n",
       "      <td>Afghanistan</td>\n",
       "      <td>Kaboul</td>\n",
       "      <td>5581</td>\n",
       "    </tr>\n",
       "    <tr>\n",
       "      <th>1</th>\n",
       "      <td>Afrique du sud</td>\n",
       "      <td>Pretoria</td>\n",
       "      <td>8684</td>\n",
       "    </tr>\n",
       "    <tr>\n",
       "      <th>2</th>\n",
       "      <td>Albanie</td>\n",
       "      <td>Tirana</td>\n",
       "      <td>1601</td>\n",
       "    </tr>\n",
       "    <tr>\n",
       "      <th>3</th>\n",
       "      <td>Algérie</td>\n",
       "      <td>Alger</td>\n",
       "      <td>1914</td>\n",
       "    </tr>\n",
       "    <tr>\n",
       "      <th>4</th>\n",
       "      <td>Allemagne</td>\n",
       "      <td>Berlin</td>\n",
       "      <td>878</td>\n",
       "    </tr>\n",
       "  </tbody>\n",
       "</table>\n",
       "</div>"
      ],
      "text/plain": [
       "             Pays   Capitale  Km de Paris\n",
       "0     Afghanistan    Kaboul          5581\n",
       "1  Afrique du sud  Pretoria          8684\n",
       "2         Albanie    Tirana          1601\n",
       "3         Algérie     Alger          1914\n",
       "4       Allemagne    Berlin           878"
      ]
     },
     "metadata": {},
     "output_type": "display_data"
    }
   ],
   "source": [
    "# Affichage des 5 premières lignes de la table\n",
    "display(df_distance.head())"
   ]
  },
  {
   "cell_type": "code",
   "execution_count": null,
   "id": "79822f27",
   "metadata": {},
   "outputs": [],
   "source": []
  },
  {
   "cell_type": "code",
   "execution_count": 57,
   "id": "614db65c",
   "metadata": {},
   "outputs": [
    {
     "data": {
      "text/html": [
       "<div>\n",
       "<style scoped>\n",
       "    .dataframe tbody tr th:only-of-type {\n",
       "        vertical-align: middle;\n",
       "    }\n",
       "\n",
       "    .dataframe tbody tr th {\n",
       "        vertical-align: top;\n",
       "    }\n",
       "\n",
       "    .dataframe thead th {\n",
       "        text-align: right;\n",
       "    }\n",
       "</style>\n",
       "<table border=\"1\" class=\"dataframe\">\n",
       "  <thead>\n",
       "    <tr style=\"text-align: right;\">\n",
       "      <th></th>\n",
       "      <th>Pays</th>\n",
       "      <th>km_paris</th>\n",
       "    </tr>\n",
       "  </thead>\n",
       "  <tbody>\n",
       "    <tr>\n",
       "      <th>0</th>\n",
       "      <td>Afghanistan</td>\n",
       "      <td>5581</td>\n",
       "    </tr>\n",
       "    <tr>\n",
       "      <th>1</th>\n",
       "      <td>Afrique du sud</td>\n",
       "      <td>8684</td>\n",
       "    </tr>\n",
       "    <tr>\n",
       "      <th>2</th>\n",
       "      <td>Albanie</td>\n",
       "      <td>1601</td>\n",
       "    </tr>\n",
       "    <tr>\n",
       "      <th>3</th>\n",
       "      <td>Algérie</td>\n",
       "      <td>1914</td>\n",
       "    </tr>\n",
       "    <tr>\n",
       "      <th>4</th>\n",
       "      <td>Allemagne</td>\n",
       "      <td>878</td>\n",
       "    </tr>\n",
       "  </tbody>\n",
       "</table>\n",
       "</div>"
      ],
      "text/plain": [
       "             Pays  km_paris\n",
       "0     Afghanistan      5581\n",
       "1  Afrique du sud      8684\n",
       "2         Albanie      1601\n",
       "3         Algérie      1914\n",
       "4       Allemagne       878"
      ]
     },
     "metadata": {},
     "output_type": "display_data"
    }
   ],
   "source": [
    "# Création de df_pop_nbr2 à partir de df_pop_nbr en ne gardant que les colonnes pertinantes\n",
    "df_distance2 = df_distance.loc[:, ['Pays', 'Km de Paris']]\n",
    "\n",
    "# Renommage de la colonne \"Km de Paris\" en \"km_paris\"\n",
    "df_distance2 = df_distance2.rename(columns={'Km de Paris': 'km_paris'})\n",
    "    \n",
    "# Affichage des 5 premières lignes de la table\n",
    "display(df_distance2.head())"
   ]
  },
  {
   "cell_type": "code",
   "execution_count": null,
   "id": "40cdd97e",
   "metadata": {},
   "outputs": [],
   "source": []
  },
  {
   "cell_type": "code",
   "execution_count": 58,
   "id": "0dea30c3",
   "metadata": {},
   "outputs": [
    {
     "name": "stdout",
     "output_type": "stream",
     "text": [
      "Il n'y a pas de valeurs manquantes dans la colonne 'km_paris'.\n"
     ]
    }
   ],
   "source": [
    "# Vérification de la présence de NaN\n",
    "if df_distance2['km_paris'].isnull().values.any():\n",
    "    print(\"Il y a des valeurs manquantes (NaN) dans la colonne 'km_paris'.\")\n",
    "else:\n",
    "    print(\"Il n'y a pas de valeurs manquantes dans la colonne 'km_paris'.\")    "
   ]
  },
  {
   "cell_type": "code",
   "execution_count": null,
   "id": "ba831c79",
   "metadata": {},
   "outputs": [],
   "source": []
  },
  {
   "cell_type": "code",
   "execution_count": 59,
   "id": "af0e8113",
   "metadata": {},
   "outputs": [
    {
     "data": {
      "image/png": "[encoded data removed]",
      "text/plain": [
       "<Figure size 1000x400 with 1 Axes>"
      ]
     },
     "metadata": {},
     "output_type": "display_data"
    }
   ],
   "source": [
    "# Affichage des 20 pays les plus éloignés de la France\n",
    "\n",
    "# Trie de la valeur par ordre décroissant\n",
    "distance_desc = df_distance2.sort_values('km_paris', ascending=False)\n",
    "\n",
    "# Sélection des 20 premiers pays\n",
    "distance_loin20 = distance_desc.head(20)\n",
    "\n",
    "# Création d'un diagramme à barres\n",
    "plt.figure(figsize=(10, 4))\n",
    "plt.barh(distance_loin20['Pays'], distance_loin20['km_paris'], color='chocolate')\n",
    "plt.xlabel('Distance depuis Paris (en KM)')\n",
    "plt.ylabel('Pays')\n",
    "plt.title('Les 20 pays les plus éloignés de la France')\n",
    "plt.gca().invert_yaxis()\n",
    "\n",
    "plt.show()"
   ]
  },
  {
   "cell_type": "markdown",
   "id": "703cc8aa",
   "metadata": {},
   "source": [
    "<div style=\"border: 1px solid chocolate; border-radius: 8px; padding: 20px; background-color: seashell;\">\n",
    "<h3 style=\"margin: auto; color: chocolate;\">II.4 - Analyse environementale : ressources en volailles</h3>\n",
    "</div>"
   ]
  },
  {
   "cell_type": "code",
   "execution_count": 60,
   "id": "ef9d8849",
   "metadata": {},
   "outputs": [],
   "source": [
    "# Il s'agit d'un fichier comportant différentes données realitves à la disponibilité alimenaires, dans le monde, en 2017.\n",
    "\n",
    "# Fichier mis à ma disposition."
   ]
  },
  {
   "cell_type": "code",
   "execution_count": 61,
   "id": "ea1b50f9",
   "metadata": {},
   "outputs": [],
   "source": [
    "# Importation du fichier 'dispo_ali'\n",
    "df_dispo_ali = pd.read_excel(\"dispo_ali.xlsx\")"
   ]
  },
  {
   "cell_type": "code",
   "execution_count": 62,
   "id": "6a3995c6",
   "metadata": {},
   "outputs": [
    {
     "name": "stdout",
     "output_type": "stream",
     "text": [
      "Le tableau comporte 176600 observation(s) ou article(s)\n",
      "Le tableau comporte 14 colonne(s)\n"
     ]
    }
   ],
   "source": [
    "# Affichage des dimensions du dataset\n",
    "print(\"Le tableau comporte {} observation(s) ou article(s)\".format(df_dispo_ali.shape[0]))\n",
    "print(\"Le tableau comporte {} colonne(s)\".format(df_dispo_ali.shape[1]))"
   ]
  },
  {
   "cell_type": "code",
   "execution_count": 63,
   "id": "ec6f24f0",
   "metadata": {
    "scrolled": true
   },
   "outputs": [
    {
     "name": "stdout",
     "output_type": "stream",
     "text": [
      "<class 'pandas.core.frame.DataFrame'>\n",
      "RangeIndex: 176600 entries, 0 to 176599\n",
      "Data columns (total 14 columns):\n",
      " #   Column                  Non-Null Count   Dtype  \n",
      "---  ------                  --------------   -----  \n",
      " 0   Code Domaine            176600 non-null  object \n",
      " 1   Domaine                 176600 non-null  object \n",
      " 2   Code zone               176600 non-null  int64  \n",
      " 3   Zone                    176600 non-null  object \n",
      " 4   Code Élément            176600 non-null  int64  \n",
      " 5   Élément                 176600 non-null  object \n",
      " 6   Code Produit            176600 non-null  int64  \n",
      " 7   Produit                 176600 non-null  object \n",
      " 8   Code année              176600 non-null  int64  \n",
      " 9   Année                   176600 non-null  int64  \n",
      " 10  Unité                   176600 non-null  object \n",
      " 11  Valeur                  176600 non-null  float64\n",
      " 12  Symbole                 176600 non-null  object \n",
      " 13  Description du Symbole  176600 non-null  object \n",
      "dtypes: float64(1), int64(5), object(8)\n",
      "memory usage: 18.9+ MB\n"
     ]
    }
   ],
   "source": [
    "# Identification de la nature des données dans chacune des colonnes\n",
    "df_dispo_ali.info()"
   ]
  },
  {
   "cell_type": "code",
   "execution_count": 64,
   "id": "bca4ccef",
   "metadata": {},
   "outputs": [
    {
     "data": {
      "text/html": [
       "<div>\n",
       "<style scoped>\n",
       "    .dataframe tbody tr th:only-of-type {\n",
       "        vertical-align: middle;\n",
       "    }\n",
       "\n",
       "    .dataframe tbody tr th {\n",
       "        vertical-align: top;\n",
       "    }\n",
       "\n",
       "    .dataframe thead th {\n",
       "        text-align: right;\n",
       "    }\n",
       "</style>\n",
       "<table border=\"1\" class=\"dataframe\">\n",
       "  <thead>\n",
       "    <tr style=\"text-align: right;\">\n",
       "      <th></th>\n",
       "      <th>Code Domaine</th>\n",
       "      <th>Domaine</th>\n",
       "      <th>Code zone</th>\n",
       "      <th>Zone</th>\n",
       "      <th>Code Élément</th>\n",
       "      <th>Élément</th>\n",
       "      <th>Code Produit</th>\n",
       "      <th>Produit</th>\n",
       "      <th>Code année</th>\n",
       "      <th>Année</th>\n",
       "      <th>Unité</th>\n",
       "      <th>Valeur</th>\n",
       "      <th>Symbole</th>\n",
       "      <th>Description du Symbole</th>\n",
       "    </tr>\n",
       "  </thead>\n",
       "  <tbody>\n",
       "    <tr>\n",
       "      <th>0</th>\n",
       "      <td>FBS</td>\n",
       "      <td>Nouveaux Bilans Alimentaire</td>\n",
       "      <td>2</td>\n",
       "      <td>Afghanistan</td>\n",
       "      <td>5511</td>\n",
       "      <td>Production</td>\n",
       "      <td>2511</td>\n",
       "      <td>Blé et produits</td>\n",
       "      <td>2017</td>\n",
       "      <td>2017</td>\n",
       "      <td>Milliers de tonnes</td>\n",
       "      <td>4281.00</td>\n",
       "      <td>S</td>\n",
       "      <td>Données standardisées</td>\n",
       "    </tr>\n",
       "    <tr>\n",
       "      <th>1</th>\n",
       "      <td>FBS</td>\n",
       "      <td>Nouveaux Bilans Alimentaire</td>\n",
       "      <td>2</td>\n",
       "      <td>Afghanistan</td>\n",
       "      <td>5611</td>\n",
       "      <td>Importations - Quantité</td>\n",
       "      <td>2511</td>\n",
       "      <td>Blé et produits</td>\n",
       "      <td>2017</td>\n",
       "      <td>2017</td>\n",
       "      <td>Milliers de tonnes</td>\n",
       "      <td>2302.00</td>\n",
       "      <td>S</td>\n",
       "      <td>Données standardisées</td>\n",
       "    </tr>\n",
       "    <tr>\n",
       "      <th>2</th>\n",
       "      <td>FBS</td>\n",
       "      <td>Nouveaux Bilans Alimentaire</td>\n",
       "      <td>2</td>\n",
       "      <td>Afghanistan</td>\n",
       "      <td>5072</td>\n",
       "      <td>Variation de stock</td>\n",
       "      <td>2511</td>\n",
       "      <td>Blé et produits</td>\n",
       "      <td>2017</td>\n",
       "      <td>2017</td>\n",
       "      <td>Milliers de tonnes</td>\n",
       "      <td>-119.00</td>\n",
       "      <td>S</td>\n",
       "      <td>Données standardisées</td>\n",
       "    </tr>\n",
       "    <tr>\n",
       "      <th>3</th>\n",
       "      <td>FBS</td>\n",
       "      <td>Nouveaux Bilans Alimentaire</td>\n",
       "      <td>2</td>\n",
       "      <td>Afghanistan</td>\n",
       "      <td>5911</td>\n",
       "      <td>Exportations - Quantité</td>\n",
       "      <td>2511</td>\n",
       "      <td>Blé et produits</td>\n",
       "      <td>2017</td>\n",
       "      <td>2017</td>\n",
       "      <td>Milliers de tonnes</td>\n",
       "      <td>0.00</td>\n",
       "      <td>S</td>\n",
       "      <td>Données standardisées</td>\n",
       "    </tr>\n",
       "    <tr>\n",
       "      <th>4</th>\n",
       "      <td>FBS</td>\n",
       "      <td>Nouveaux Bilans Alimentaire</td>\n",
       "      <td>2</td>\n",
       "      <td>Afghanistan</td>\n",
       "      <td>5301</td>\n",
       "      <td>Disponibilité intérieure</td>\n",
       "      <td>2511</td>\n",
       "      <td>Blé et produits</td>\n",
       "      <td>2017</td>\n",
       "      <td>2017</td>\n",
       "      <td>Milliers de tonnes</td>\n",
       "      <td>6701.00</td>\n",
       "      <td>S</td>\n",
       "      <td>Données standardisées</td>\n",
       "    </tr>\n",
       "    <tr>\n",
       "      <th>...</th>\n",
       "      <td>...</td>\n",
       "      <td>...</td>\n",
       "      <td>...</td>\n",
       "      <td>...</td>\n",
       "      <td>...</td>\n",
       "      <td>...</td>\n",
       "      <td>...</td>\n",
       "      <td>...</td>\n",
       "      <td>...</td>\n",
       "      <td>...</td>\n",
       "      <td>...</td>\n",
       "      <td>...</td>\n",
       "      <td>...</td>\n",
       "      <td>...</td>\n",
       "    </tr>\n",
       "    <tr>\n",
       "      <th>176595</th>\n",
       "      <td>FBS</td>\n",
       "      <td>Nouveaux Bilans Alimentaire</td>\n",
       "      <td>181</td>\n",
       "      <td>Zimbabwe</td>\n",
       "      <td>5142</td>\n",
       "      <td>Nourriture</td>\n",
       "      <td>2899</td>\n",
       "      <td>Miscellanees</td>\n",
       "      <td>2017</td>\n",
       "      <td>2017</td>\n",
       "      <td>Milliers de tonnes</td>\n",
       "      <td>19.00</td>\n",
       "      <td>S</td>\n",
       "      <td>Données standardisées</td>\n",
       "    </tr>\n",
       "    <tr>\n",
       "      <th>176596</th>\n",
       "      <td>FBS</td>\n",
       "      <td>Nouveaux Bilans Alimentaire</td>\n",
       "      <td>181</td>\n",
       "      <td>Zimbabwe</td>\n",
       "      <td>645</td>\n",
       "      <td>Disponibilité alimentaire en quantité (kg/pers...</td>\n",
       "      <td>2899</td>\n",
       "      <td>Miscellanees</td>\n",
       "      <td>2017</td>\n",
       "      <td>2017</td>\n",
       "      <td>kg</td>\n",
       "      <td>1.33</td>\n",
       "      <td>Fc</td>\n",
       "      <td>Donnée calculée</td>\n",
       "    </tr>\n",
       "    <tr>\n",
       "      <th>176597</th>\n",
       "      <td>FBS</td>\n",
       "      <td>Nouveaux Bilans Alimentaire</td>\n",
       "      <td>181</td>\n",
       "      <td>Zimbabwe</td>\n",
       "      <td>664</td>\n",
       "      <td>Disponibilité alimentaire (Kcal/personne/jour)</td>\n",
       "      <td>2899</td>\n",
       "      <td>Miscellanees</td>\n",
       "      <td>2017</td>\n",
       "      <td>2017</td>\n",
       "      <td>Kcal/personne/jour</td>\n",
       "      <td>1.00</td>\n",
       "      <td>Fc</td>\n",
       "      <td>Donnée calculée</td>\n",
       "    </tr>\n",
       "    <tr>\n",
       "      <th>176598</th>\n",
       "      <td>FBS</td>\n",
       "      <td>Nouveaux Bilans Alimentaire</td>\n",
       "      <td>181</td>\n",
       "      <td>Zimbabwe</td>\n",
       "      <td>674</td>\n",
       "      <td>Disponibilité de protéines en quantité (g/pers...</td>\n",
       "      <td>2899</td>\n",
       "      <td>Miscellanees</td>\n",
       "      <td>2017</td>\n",
       "      <td>2017</td>\n",
       "      <td>g/personne/jour</td>\n",
       "      <td>0.04</td>\n",
       "      <td>Fc</td>\n",
       "      <td>Donnée calculée</td>\n",
       "    </tr>\n",
       "    <tr>\n",
       "      <th>176599</th>\n",
       "      <td>FBS</td>\n",
       "      <td>Nouveaux Bilans Alimentaire</td>\n",
       "      <td>181</td>\n",
       "      <td>Zimbabwe</td>\n",
       "      <td>684</td>\n",
       "      <td>Disponibilité de matière grasse en quantité (g...</td>\n",
       "      <td>2899</td>\n",
       "      <td>Miscellanees</td>\n",
       "      <td>2017</td>\n",
       "      <td>2017</td>\n",
       "      <td>g/personne/jour</td>\n",
       "      <td>0.02</td>\n",
       "      <td>Fc</td>\n",
       "      <td>Donnée calculée</td>\n",
       "    </tr>\n",
       "  </tbody>\n",
       "</table>\n",
       "<p>176600 rows × 14 columns</p>\n",
       "</div>"
      ],
      "text/plain": [
       "       Code Domaine                      Domaine  Code zone         Zone  \\\n",
       "0               FBS  Nouveaux Bilans Alimentaire          2  Afghanistan   \n",
       "1               FBS  Nouveaux Bilans Alimentaire          2  Afghanistan   \n",
       "2               FBS  Nouveaux Bilans Alimentaire          2  Afghanistan   \n",
       "3               FBS  Nouveaux Bilans Alimentaire          2  Afghanistan   \n",
       "4               FBS  Nouveaux Bilans Alimentaire          2  Afghanistan   \n",
       "...             ...                          ...        ...          ...   \n",
       "176595          FBS  Nouveaux Bilans Alimentaire        181     Zimbabwe   \n",
       "176596          FBS  Nouveaux Bilans Alimentaire        181     Zimbabwe   \n",
       "176597          FBS  Nouveaux Bilans Alimentaire        181     Zimbabwe   \n",
       "176598          FBS  Nouveaux Bilans Alimentaire        181     Zimbabwe   \n",
       "176599          FBS  Nouveaux Bilans Alimentaire        181     Zimbabwe   \n",
       "\n",
       "        Code Élément                                            Élément  \\\n",
       "0               5511                                         Production   \n",
       "1               5611                            Importations - Quantité   \n",
       "2               5072                                 Variation de stock   \n",
       "3               5911                            Exportations - Quantité   \n",
       "4               5301                           Disponibilité intérieure   \n",
       "...              ...                                                ...   \n",
       "176595          5142                                         Nourriture   \n",
       "176596           645  Disponibilité alimentaire en quantité (kg/pers...   \n",
       "176597           664     Disponibilité alimentaire (Kcal/personne/jour)   \n",
       "176598           674  Disponibilité de protéines en quantité (g/pers...   \n",
       "176599           684  Disponibilité de matière grasse en quantité (g...   \n",
       "\n",
       "        Code Produit          Produit  Code année  Année               Unité  \\\n",
       "0               2511  Blé et produits        2017   2017  Milliers de tonnes   \n",
       "1               2511  Blé et produits        2017   2017  Milliers de tonnes   \n",
       "2               2511  Blé et produits        2017   2017  Milliers de tonnes   \n",
       "3               2511  Blé et produits        2017   2017  Milliers de tonnes   \n",
       "4               2511  Blé et produits        2017   2017  Milliers de tonnes   \n",
       "...              ...              ...         ...    ...                 ...   \n",
       "176595          2899     Miscellanees        2017   2017  Milliers de tonnes   \n",
       "176596          2899     Miscellanees        2017   2017                  kg   \n",
       "176597          2899     Miscellanees        2017   2017  Kcal/personne/jour   \n",
       "176598          2899     Miscellanees        2017   2017     g/personne/jour   \n",
       "176599          2899     Miscellanees        2017   2017     g/personne/jour   \n",
       "\n",
       "         Valeur Symbole Description du Symbole  \n",
       "0       4281.00       S  Données standardisées  \n",
       "1       2302.00       S  Données standardisées  \n",
       "2       -119.00       S  Données standardisées  \n",
       "3          0.00       S  Données standardisées  \n",
       "4       6701.00       S  Données standardisées  \n",
       "...         ...     ...                    ...  \n",
       "176595    19.00       S  Données standardisées  \n",
       "176596     1.33      Fc        Donnée calculée  \n",
       "176597     1.00      Fc        Donnée calculée  \n",
       "176598     0.04      Fc        Donnée calculée  \n",
       "176599     0.02      Fc        Donnée calculée  \n",
       "\n",
       "[176600 rows x 14 columns]"
      ]
     },
     "execution_count": 64,
     "metadata": {},
     "output_type": "execute_result"
    }
   ],
   "source": [
    "df_dispo_ali"
   ]
  },
  {
   "cell_type": "code",
   "execution_count": null,
   "id": "6e00bdd8",
   "metadata": {},
   "outputs": [],
   "source": []
  },
  {
   "cell_type": "code",
   "execution_count": 65,
   "id": "0385192f",
   "metadata": {
    "scrolled": true
   },
   "outputs": [
    {
     "data": {
      "text/html": [
       "<div>\n",
       "<style scoped>\n",
       "    .dataframe tbody tr th:only-of-type {\n",
       "        vertical-align: middle;\n",
       "    }\n",
       "\n",
       "    .dataframe tbody tr th {\n",
       "        vertical-align: top;\n",
       "    }\n",
       "\n",
       "    .dataframe thead th {\n",
       "        text-align: right;\n",
       "    }\n",
       "</style>\n",
       "<table border=\"1\" class=\"dataframe\">\n",
       "  <thead>\n",
       "    <tr style=\"text-align: right;\">\n",
       "      <th></th>\n",
       "      <th>Pays</th>\n",
       "      <th>Élément</th>\n",
       "      <th>Produit</th>\n",
       "      <th>Valeur</th>\n",
       "    </tr>\n",
       "  </thead>\n",
       "  <tbody>\n",
       "    <tr>\n",
       "      <th>0</th>\n",
       "      <td>Afghanistan</td>\n",
       "      <td>Production</td>\n",
       "      <td>Blé et produits</td>\n",
       "      <td>4281</td>\n",
       "    </tr>\n",
       "    <tr>\n",
       "      <th>1</th>\n",
       "      <td>Afghanistan</td>\n",
       "      <td>Importations - Quantité</td>\n",
       "      <td>Blé et produits</td>\n",
       "      <td>2302</td>\n",
       "    </tr>\n",
       "    <tr>\n",
       "      <th>2</th>\n",
       "      <td>Afghanistan</td>\n",
       "      <td>Variation de stock</td>\n",
       "      <td>Blé et produits</td>\n",
       "      <td>-119</td>\n",
       "    </tr>\n",
       "    <tr>\n",
       "      <th>3</th>\n",
       "      <td>Afghanistan</td>\n",
       "      <td>Exportations - Quantité</td>\n",
       "      <td>Blé et produits</td>\n",
       "      <td>0</td>\n",
       "    </tr>\n",
       "    <tr>\n",
       "      <th>4</th>\n",
       "      <td>Afghanistan</td>\n",
       "      <td>Disponibilité intérieure</td>\n",
       "      <td>Blé et produits</td>\n",
       "      <td>6701</td>\n",
       "    </tr>\n",
       "  </tbody>\n",
       "</table>\n",
       "</div>"
      ],
      "text/plain": [
       "          Pays                   Élément          Produit  Valeur\n",
       "0  Afghanistan                Production  Blé et produits    4281\n",
       "1  Afghanistan   Importations - Quantité  Blé et produits    2302\n",
       "2  Afghanistan        Variation de stock  Blé et produits    -119\n",
       "3  Afghanistan   Exportations - Quantité  Blé et produits       0\n",
       "4  Afghanistan  Disponibilité intérieure  Blé et produits    6701"
      ]
     },
     "metadata": {},
     "output_type": "display_data"
    }
   ],
   "source": [
    "# Création de df_stab_poli2 à partir de df_stab_poli en ne gardant que les colonnes pertinantes\n",
    "df_dispo_ali2 = df_dispo_ali.loc[:, ['Zone','Élément', 'Produit', 'Valeur']]\n",
    "\n",
    "# Renommage de la colonne \"Zone\" en \"Pays\"\n",
    "df_dispo_ali2 = df_dispo_ali2.rename(columns={'Zone': 'Pays'})\n",
    "\n",
    "# Arrondissement des valeurs de la colonne \"Valeur\" à l'entier inférieur\n",
    "df_dispo_ali2['Valeur'] = df_dispo_ali2['Valeur'].astype(int)\n",
    "    \n",
    "# Affichage des 5 premières lignes de la table\n",
    "display(df_dispo_ali2.head())"
   ]
  },
  {
   "cell_type": "code",
   "execution_count": null,
   "id": "19e94c95",
   "metadata": {},
   "outputs": [],
   "source": []
  },
  {
   "cell_type": "code",
   "execution_count": 66,
   "id": "3aee989d",
   "metadata": {},
   "outputs": [
    {
     "name": "stdout",
     "output_type": "stream",
     "text": [
      "['Blé et produits' 'Riz et produits' 'Orge et produits' 'Maïs et produits'\n",
      " 'Seigle et produits' 'Avoine' 'Millet et produits' 'Sorgho et produits'\n",
      " 'Céréales, Autres' 'Pommes de Terre et produits' 'Ignames' 'Racines nda'\n",
      " 'Sucre, canne' 'Sucre, betterave' 'Sucre Eq Brut' 'Edulcorants Autres'\n",
      " 'Miel' 'Haricots' 'Pois' 'Légumineuses Autres et produits'\n",
      " 'Noix et produits' 'Soja' 'Arachides Decortiquees' 'Graines de tournesol'\n",
      " 'Graines Colza/Moutarde' 'Graines de coton' 'Coco (Incl Coprah)' 'Sésame'\n",
      " 'Olives' 'Plantes Oleiferes, Autre' 'Huile de Soja' \"Huile d'Arachide\"\n",
      " 'Huile de Tournesol' 'Huile de Colza&Moutarde' 'Huile Graines de Coton'\n",
      " 'Huile de Palmistes' 'Huile de Palme' 'Huile de Coco' 'Huile de Sésame'\n",
      " \"Huile d'Olive\" 'Huile de Son de Riz' 'Huile de Germe de Maïs'\n",
      " 'Huil Plantes Oleif Autr' 'Tomates et produits' 'Oignons'\n",
      " 'Légumes, Autres' 'Oranges, Mandarines' 'Citrons & Limes et produits'\n",
      " 'Pamplemousse et produits' 'Agrumes, Autres' 'Bananes'\n",
      " 'Pommes et produits' 'Ananas et produits' 'Dattes' 'Raisin'\n",
      " 'Fruits, Autres' 'Café et produits' 'Feve de Cacao et produits' 'Thé'\n",
      " 'Poivre' 'Piments' 'Girofles' 'Épices, Autres' 'Vin' 'Bière'\n",
      " 'Boissons Fermentés' 'Boissons Alcooliques' 'Alcool, non Comestible'\n",
      " 'Viande de Bovins' \"Viande d'Ovins/Caprins\" 'Viande de Suides'\n",
      " 'Viande de Volailles' 'Viande, Autre' 'Abats Comestible' 'Beurre, Ghee'\n",
      " 'Crème' 'Graisses Animales Crue' 'Oeufs' 'Lait - Excl Beurre'\n",
      " 'Poissons Eau Douce' 'Aliments pour enfants' 'Miscellanees'\n",
      " 'Manioc et produits' 'Patates douces' 'Palmistes' 'Bananes plantains'\n",
      " 'Huiles de Poissons' 'Huiles de Foie de Poisso' 'Perciform'\n",
      " 'Poissons Pelagiques' 'Poissons Marins, Autres' 'Crustacés'\n",
      " 'Cephalopodes' 'Mollusques, Autres' 'Animaux Aquatiques Autre'\n",
      " 'Plantes Aquatiques' 'Sucre non centrifugé' 'Viande de Anim Aquatiq']\n"
     ]
    }
   ],
   "source": [
    "# Affichage des valeurs uniques de la colonne \"Description du Symbole\"\n",
    "dispo_ali2_produit_unique = df_dispo_ali2['Produit'].unique()\n",
    "\n",
    "print(dispo_ali2_produit_unique)"
   ]
  },
  {
   "cell_type": "code",
   "execution_count": 67,
   "id": "f97b5c41",
   "metadata": {
    "scrolled": true
   },
   "outputs": [
    {
     "data": {
      "text/html": [
       "<div>\n",
       "<style scoped>\n",
       "    .dataframe tbody tr th:only-of-type {\n",
       "        vertical-align: middle;\n",
       "    }\n",
       "\n",
       "    .dataframe tbody tr th {\n",
       "        vertical-align: top;\n",
       "    }\n",
       "\n",
       "    .dataframe thead th {\n",
       "        text-align: right;\n",
       "    }\n",
       "</style>\n",
       "<table border=\"1\" class=\"dataframe\">\n",
       "  <thead>\n",
       "    <tr style=\"text-align: right;\">\n",
       "      <th></th>\n",
       "      <th>Pays</th>\n",
       "      <th>Élément</th>\n",
       "      <th>Valeur</th>\n",
       "    </tr>\n",
       "  </thead>\n",
       "  <tbody>\n",
       "    <tr>\n",
       "      <th>651</th>\n",
       "      <td>Afghanistan</td>\n",
       "      <td>Production</td>\n",
       "      <td>28</td>\n",
       "    </tr>\n",
       "    <tr>\n",
       "      <th>652</th>\n",
       "      <td>Afghanistan</td>\n",
       "      <td>Importations - Quantité</td>\n",
       "      <td>29</td>\n",
       "    </tr>\n",
       "    <tr>\n",
       "      <th>653</th>\n",
       "      <td>Afghanistan</td>\n",
       "      <td>Variation de stock</td>\n",
       "      <td>0</td>\n",
       "    </tr>\n",
       "    <tr>\n",
       "      <th>654</th>\n",
       "      <td>Afghanistan</td>\n",
       "      <td>Disponibilité intérieure</td>\n",
       "      <td>57</td>\n",
       "    </tr>\n",
       "    <tr>\n",
       "      <th>655</th>\n",
       "      <td>Afghanistan</td>\n",
       "      <td>Pertes</td>\n",
       "      <td>2</td>\n",
       "    </tr>\n",
       "  </tbody>\n",
       "</table>\n",
       "</div>"
      ],
      "text/plain": [
       "            Pays                   Élément  Valeur\n",
       "651  Afghanistan                Production      28\n",
       "652  Afghanistan   Importations - Quantité      29\n",
       "653  Afghanistan        Variation de stock       0\n",
       "654  Afghanistan  Disponibilité intérieure      57\n",
       "655  Afghanistan                    Pertes       2"
      ]
     },
     "metadata": {},
     "output_type": "display_data"
    }
   ],
   "source": [
    "# Filtrage des lignes où \"Produit\" est égal à \"Viande de Volailles\"\n",
    "df_volailles = df_dispo_ali2[df_dispo_ali2['Produit'] == 'Viande de Volailles']\n",
    "\n",
    "# Suppression de la colonne Produit\n",
    "df_volailles = df_volailles.drop(\"Produit\", axis=1)\n",
    "\n",
    "# Affichage des 5 premières lignes de la table\n",
    "display(df_volailles.head())"
   ]
  },
  {
   "cell_type": "code",
   "execution_count": null,
   "id": "6ce65f79",
   "metadata": {},
   "outputs": [],
   "source": []
  },
  {
   "cell_type": "code",
   "execution_count": 68,
   "id": "c63adcba",
   "metadata": {},
   "outputs": [
    {
     "data": {
      "text/html": [
       "<div>\n",
       "<style scoped>\n",
       "    .dataframe tbody tr th:only-of-type {\n",
       "        vertical-align: middle;\n",
       "    }\n",
       "\n",
       "    .dataframe tbody tr th {\n",
       "        vertical-align: top;\n",
       "    }\n",
       "\n",
       "    .dataframe thead th {\n",
       "        text-align: right;\n",
       "    }\n",
       "</style>\n",
       "<table border=\"1\" class=\"dataframe\">\n",
       "  <thead>\n",
       "    <tr style=\"text-align: right;\">\n",
       "      <th>Élément</th>\n",
       "      <th>Alimentation pour touristes</th>\n",
       "      <th>Aliments pour animaux</th>\n",
       "      <th>Autres utilisations (non alimentaire)</th>\n",
       "      <th>Disponibilité alimentaire (Kcal/personne/jour)</th>\n",
       "      <th>Disponibilité alimentaire en quantité (kg/personne/an)</th>\n",
       "      <th>Disponibilité de matière grasse en quantité (g/personne/jour)</th>\n",
       "      <th>Disponibilité de protéines en quantité (g/personne/jour)</th>\n",
       "      <th>Disponibilité intérieure</th>\n",
       "      <th>Exportations - Quantité</th>\n",
       "      <th>Importations - Quantité</th>\n",
       "      <th>Nourriture</th>\n",
       "      <th>Pertes</th>\n",
       "      <th>Production</th>\n",
       "      <th>Résidus</th>\n",
       "      <th>Semences</th>\n",
       "      <th>Traitement</th>\n",
       "      <th>Variation de stock</th>\n",
       "    </tr>\n",
       "    <tr>\n",
       "      <th>Pays</th>\n",
       "      <th></th>\n",
       "      <th></th>\n",
       "      <th></th>\n",
       "      <th></th>\n",
       "      <th></th>\n",
       "      <th></th>\n",
       "      <th></th>\n",
       "      <th></th>\n",
       "      <th></th>\n",
       "      <th></th>\n",
       "      <th></th>\n",
       "      <th></th>\n",
       "      <th></th>\n",
       "      <th></th>\n",
       "      <th></th>\n",
       "      <th></th>\n",
       "      <th></th>\n",
       "    </tr>\n",
       "  </thead>\n",
       "  <tbody>\n",
       "    <tr>\n",
       "      <th>Afghanistan</th>\n",
       "      <td>NaN</td>\n",
       "      <td>NaN</td>\n",
       "      <td>NaN</td>\n",
       "      <td>5.0</td>\n",
       "      <td>1.0</td>\n",
       "      <td>0.0</td>\n",
       "      <td>0.0</td>\n",
       "      <td>57.0</td>\n",
       "      <td>NaN</td>\n",
       "      <td>29.0</td>\n",
       "      <td>55.0</td>\n",
       "      <td>2.0</td>\n",
       "      <td>28.0</td>\n",
       "      <td>0.0</td>\n",
       "      <td>NaN</td>\n",
       "      <td>NaN</td>\n",
       "      <td>0.0</td>\n",
       "    </tr>\n",
       "    <tr>\n",
       "      <th>Afrique du Sud</th>\n",
       "      <td>0.0</td>\n",
       "      <td>NaN</td>\n",
       "      <td>NaN</td>\n",
       "      <td>143.0</td>\n",
       "      <td>35.0</td>\n",
       "      <td>9.0</td>\n",
       "      <td>14.0</td>\n",
       "      <td>2118.0</td>\n",
       "      <td>63.0</td>\n",
       "      <td>514.0</td>\n",
       "      <td>2035.0</td>\n",
       "      <td>83.0</td>\n",
       "      <td>1667.0</td>\n",
       "      <td>0.0</td>\n",
       "      <td>NaN</td>\n",
       "      <td>NaN</td>\n",
       "      <td>0.0</td>\n",
       "    </tr>\n",
       "    <tr>\n",
       "      <th>Albanie</th>\n",
       "      <td>NaN</td>\n",
       "      <td>NaN</td>\n",
       "      <td>NaN</td>\n",
       "      <td>85.0</td>\n",
       "      <td>16.0</td>\n",
       "      <td>6.0</td>\n",
       "      <td>6.0</td>\n",
       "      <td>47.0</td>\n",
       "      <td>0.0</td>\n",
       "      <td>38.0</td>\n",
       "      <td>47.0</td>\n",
       "      <td>NaN</td>\n",
       "      <td>13.0</td>\n",
       "      <td>0.0</td>\n",
       "      <td>NaN</td>\n",
       "      <td>NaN</td>\n",
       "      <td>4.0</td>\n",
       "    </tr>\n",
       "    <tr>\n",
       "      <th>Algérie</th>\n",
       "      <td>0.0</td>\n",
       "      <td>NaN</td>\n",
       "      <td>NaN</td>\n",
       "      <td>22.0</td>\n",
       "      <td>6.0</td>\n",
       "      <td>1.0</td>\n",
       "      <td>1.0</td>\n",
       "      <td>277.0</td>\n",
       "      <td>0.0</td>\n",
       "      <td>2.0</td>\n",
       "      <td>264.0</td>\n",
       "      <td>13.0</td>\n",
       "      <td>275.0</td>\n",
       "      <td>0.0</td>\n",
       "      <td>NaN</td>\n",
       "      <td>NaN</td>\n",
       "      <td>0.0</td>\n",
       "    </tr>\n",
       "    <tr>\n",
       "      <th>Allemagne</th>\n",
       "      <td>NaN</td>\n",
       "      <td>NaN</td>\n",
       "      <td>NaN</td>\n",
       "      <td>71.0</td>\n",
       "      <td>19.0</td>\n",
       "      <td>4.0</td>\n",
       "      <td>7.0</td>\n",
       "      <td>1739.0</td>\n",
       "      <td>646.0</td>\n",
       "      <td>842.0</td>\n",
       "      <td>1609.0</td>\n",
       "      <td>NaN</td>\n",
       "      <td>1514.0</td>\n",
       "      <td>-38.0</td>\n",
       "      <td>NaN</td>\n",
       "      <td>167.0</td>\n",
       "      <td>-29.0</td>\n",
       "    </tr>\n",
       "  </tbody>\n",
       "</table>\n",
       "</div>"
      ],
      "text/plain": [
       "Élément         Alimentation pour touristes  Aliments pour animaux  \\\n",
       "Pays                                                                 \n",
       "Afghanistan                             NaN                    NaN   \n",
       "Afrique du Sud                          0.0                    NaN   \n",
       "Albanie                                 NaN                    NaN   \n",
       "Algérie                                 0.0                    NaN   \n",
       "Allemagne                               NaN                    NaN   \n",
       "\n",
       "Élément         Autres utilisations (non alimentaire)  \\\n",
       "Pays                                                    \n",
       "Afghanistan                                       NaN   \n",
       "Afrique du Sud                                    NaN   \n",
       "Albanie                                           NaN   \n",
       "Algérie                                           NaN   \n",
       "Allemagne                                         NaN   \n",
       "\n",
       "Élément         Disponibilité alimentaire (Kcal/personne/jour)  \\\n",
       "Pays                                                             \n",
       "Afghanistan                                                5.0   \n",
       "Afrique du Sud                                           143.0   \n",
       "Albanie                                                   85.0   \n",
       "Algérie                                                   22.0   \n",
       "Allemagne                                                 71.0   \n",
       "\n",
       "Élément         Disponibilité alimentaire en quantité (kg/personne/an)  \\\n",
       "Pays                                                                     \n",
       "Afghanistan                                                   1.0        \n",
       "Afrique du Sud                                               35.0        \n",
       "Albanie                                                      16.0        \n",
       "Algérie                                                       6.0        \n",
       "Allemagne                                                    19.0        \n",
       "\n",
       "Élément         Disponibilité de matière grasse en quantité (g/personne/jour)  \\\n",
       "Pays                                                                            \n",
       "Afghanistan                                                   0.0               \n",
       "Afrique du Sud                                                9.0               \n",
       "Albanie                                                       6.0               \n",
       "Algérie                                                       1.0               \n",
       "Allemagne                                                     4.0               \n",
       "\n",
       "Élément         Disponibilité de protéines en quantité (g/personne/jour)  \\\n",
       "Pays                                                                       \n",
       "Afghanistan                                                   0.0          \n",
       "Afrique du Sud                                               14.0          \n",
       "Albanie                                                       6.0          \n",
       "Algérie                                                       1.0          \n",
       "Allemagne                                                     7.0          \n",
       "\n",
       "Élément         Disponibilité intérieure  Exportations - Quantité  \\\n",
       "Pays                                                                \n",
       "Afghanistan                         57.0                      NaN   \n",
       "Afrique du Sud                    2118.0                     63.0   \n",
       "Albanie                             47.0                      0.0   \n",
       "Algérie                            277.0                      0.0   \n",
       "Allemagne                         1739.0                    646.0   \n",
       "\n",
       "Élément         Importations - Quantité  Nourriture  Pertes  Production  \\\n",
       "Pays                                                                      \n",
       "Afghanistan                        29.0        55.0     2.0        28.0   \n",
       "Afrique du Sud                    514.0      2035.0    83.0      1667.0   \n",
       "Albanie                            38.0        47.0     NaN        13.0   \n",
       "Algérie                             2.0       264.0    13.0       275.0   \n",
       "Allemagne                         842.0      1609.0     NaN      1514.0   \n",
       "\n",
       "Élément         Résidus  Semences  Traitement  Variation de stock  \n",
       "Pays                                                               \n",
       "Afghanistan         0.0       NaN         NaN                 0.0  \n",
       "Afrique du Sud      0.0       NaN         NaN                 0.0  \n",
       "Albanie             0.0       NaN         NaN                 4.0  \n",
       "Algérie             0.0       NaN         NaN                 0.0  \n",
       "Allemagne         -38.0       NaN       167.0               -29.0  "
      ]
     },
     "metadata": {},
     "output_type": "display_data"
    }
   ],
   "source": [
    "# Création de la table pivotante\n",
    "df_volailles2 = pd.pivot_table(df_volailles, index='Pays', columns='Élément', values='Valeur')\n",
    "\n",
    "display(df_volailles2.head())"
   ]
  },
  {
   "cell_type": "code",
   "execution_count": 69,
   "id": "52a90c51",
   "metadata": {
    "scrolled": false
   },
   "outputs": [
    {
     "data": {
      "text/html": [
       "<div>\n",
       "<style scoped>\n",
       "    .dataframe tbody tr th:only-of-type {\n",
       "        vertical-align: middle;\n",
       "    }\n",
       "\n",
       "    .dataframe tbody tr th {\n",
       "        vertical-align: top;\n",
       "    }\n",
       "\n",
       "    .dataframe thead th {\n",
       "        text-align: right;\n",
       "    }\n",
       "</style>\n",
       "<table border=\"1\" class=\"dataframe\">\n",
       "  <thead>\n",
       "    <tr style=\"text-align: right;\">\n",
       "      <th>Élément</th>\n",
       "      <th>Pays</th>\n",
       "      <th>Disponibilité de protéines en quantité (g/personne/jour)</th>\n",
       "      <th>Exportations - Quantité</th>\n",
       "      <th>Importations - Quantité</th>\n",
       "      <th>Production</th>\n",
       "    </tr>\n",
       "  </thead>\n",
       "  <tbody>\n",
       "    <tr>\n",
       "      <th>0</th>\n",
       "      <td>Afghanistan</td>\n",
       "      <td>0.0</td>\n",
       "      <td>NaN</td>\n",
       "      <td>29.0</td>\n",
       "      <td>28.0</td>\n",
       "    </tr>\n",
       "    <tr>\n",
       "      <th>1</th>\n",
       "      <td>Afrique du Sud</td>\n",
       "      <td>14.0</td>\n",
       "      <td>63.0</td>\n",
       "      <td>514.0</td>\n",
       "      <td>1667.0</td>\n",
       "    </tr>\n",
       "    <tr>\n",
       "      <th>2</th>\n",
       "      <td>Albanie</td>\n",
       "      <td>6.0</td>\n",
       "      <td>0.0</td>\n",
       "      <td>38.0</td>\n",
       "      <td>13.0</td>\n",
       "    </tr>\n",
       "    <tr>\n",
       "      <th>3</th>\n",
       "      <td>Algérie</td>\n",
       "      <td>1.0</td>\n",
       "      <td>0.0</td>\n",
       "      <td>2.0</td>\n",
       "      <td>275.0</td>\n",
       "    </tr>\n",
       "    <tr>\n",
       "      <th>4</th>\n",
       "      <td>Allemagne</td>\n",
       "      <td>7.0</td>\n",
       "      <td>646.0</td>\n",
       "      <td>842.0</td>\n",
       "      <td>1514.0</td>\n",
       "    </tr>\n",
       "  </tbody>\n",
       "</table>\n",
       "</div>"
      ],
      "text/plain": [
       "Élément            Pays  \\\n",
       "0           Afghanistan   \n",
       "1        Afrique du Sud   \n",
       "2               Albanie   \n",
       "3               Algérie   \n",
       "4             Allemagne   \n",
       "\n",
       "Élément  Disponibilité de protéines en quantité (g/personne/jour)  \\\n",
       "0                                                      0.0          \n",
       "1                                                     14.0          \n",
       "2                                                      6.0          \n",
       "3                                                      1.0          \n",
       "4                                                      7.0          \n",
       "\n",
       "Élément  Exportations - Quantité  Importations - Quantité  Production  \n",
       "0                            NaN                     29.0        28.0  \n",
       "1                           63.0                    514.0      1667.0  \n",
       "2                            0.0                     38.0        13.0  \n",
       "3                            0.0                      2.0       275.0  \n",
       "4                          646.0                    842.0      1514.0  "
      ]
     },
     "metadata": {},
     "output_type": "display_data"
    }
   ],
   "source": [
    "# Liste des colonnes à supprimer\n",
    "volailles_supp = ['Alimentation pour touristes', 'Aliments pour animaux', 'Autres utilisations (non alimentaire)', 'Disponibilité alimentaire (Kcal/personne/jour)', 'Disponibilité alimentaire en quantité (kg/personne/an)', 'Disponibilité de matière grasse en quantité (g/personne/jour)', 'Nourriture', 'Pertes', 'Résidus', 'Semences', 'Traitement', 'Variation de stock', 'Disponibilité intérieure']\n",
    "\n",
    "# Suppression des colonnes\n",
    "df_volailles2 = df_volailles2.drop(volailles_supp, axis=1)\n",
    "\n",
    "# Réinitialisation de l'index pour que 'Pays' devienne une colonne\n",
    "df_volailles2.reset_index(inplace=True)\n",
    "\n",
    "display(df_volailles2.head())"
   ]
  },
  {
   "cell_type": "code",
   "execution_count": null,
   "id": "10c4a355",
   "metadata": {},
   "outputs": [],
   "source": []
  },
  {
   "cell_type": "code",
   "execution_count": 70,
   "id": "b13ec682",
   "metadata": {},
   "outputs": [
    {
     "name": "stdout",
     "output_type": "stream",
     "text": [
      "Il y a des valeurs manquantes (NaN) dans le DataFrame df_volailles.\n"
     ]
    }
   ],
   "source": [
    "# Vérifier la présence de NaN dans tout le DataFrame\n",
    "if df_volailles2.isnull().values.any():\n",
    "    print(\"Il y a des valeurs manquantes (NaN) dans le DataFrame df_volailles.\")\n",
    "else:\n",
    "    print(\"Il n'y a pas de valeurs manquantes dans le DataFrame df_volailles.\")"
   ]
  },
  {
   "cell_type": "code",
   "execution_count": 71,
   "id": "ac79115f",
   "metadata": {},
   "outputs": [
    {
     "name": "stdout",
     "output_type": "stream",
     "text": [
      "Il y a 43 valeurs manquantes dans le DataFrame.\n"
     ]
    }
   ],
   "source": [
    "volailles2_nbr_nan = df_volailles2.isnull().sum().sum()\n",
    "print(\"Il y a\", volailles2_nbr_nan, \"valeurs manquantes dans le DataFrame.\")"
   ]
  },
  {
   "cell_type": "code",
   "execution_count": 72,
   "id": "65218e4d",
   "metadata": {
    "scrolled": false
   },
   "outputs": [
    {
     "name": "stdout",
     "output_type": "stream",
     "text": [
      "Élément                                   Pays  \\\n",
      "0                                  Afghanistan   \n",
      "13                                     Bahamas   \n",
      "14                                  Bangladesh   \n",
      "23                                Burkina Faso   \n",
      "26                                  Cabo Verde   \n",
      "27                                    Cambodge   \n",
      "40                                        Cuba   \n",
      "43                                    Djibouti   \n",
      "54                                      Gambie   \n",
      "56                                     Grenade   \n",
      "59                                      Guinée   \n",
      "60                               Guinée-Bissau   \n",
      "63                                       Haïti   \n",
      "80                                    Kiribati   \n",
      "89                                  Madagascar   \n",
      "91                                      Malawi   \n",
      "92                                    Maldives   \n",
      "93                                        Mali   \n",
      "97                                  Mauritanie   \n",
      "99                                    Mongolie   \n",
      "101                                 Mozambique   \n",
      "108                         Nouvelle-Calédonie   \n",
      "110                                      Népal   \n",
      "113                                Ouzbékistan   \n",
      "126                  République centrafricaine   \n",
      "130      République démocratique populaire lao   \n",
      "132                République-Unie de Tanzanie   \n",
      "134            Saint-Vincent-et-les Grenadines   \n",
      "135                               Sainte-Lucie   \n",
      "137                       Sao Tomé-et-Principe   \n",
      "142                                     Soudan   \n",
      "148                                Tadjikistan   \n",
      "152                                Timor-Leste   \n",
      "156                               Turkménistan   \n",
      "160                                    Vanuatu   \n",
      "165                                   Zimbabwe   \n",
      "170                                   Éthiopie   \n",
      "\n",
      "Élément  Disponibilité de protéines en quantité (g/personne/jour)  \\\n",
      "0                                                      0.0          \n",
      "13                                                    14.0          \n",
      "14                                                     0.0          \n",
      "23                                                     0.0          \n",
      "26                                                     6.0          \n",
      "27                                                     0.0          \n",
      "40                                                     7.0          \n",
      "43                                                     0.0          \n",
      "54                                                     1.0          \n",
      "56                                                    15.0          \n",
      "59                                                     1.0          \n",
      "60                                                     0.0          \n",
      "63                                                     2.0          \n",
      "80                                                     6.0          \n",
      "89                                                     0.0          \n",
      "91                                                     1.0          \n",
      "92                                                     4.0          \n",
      "93                                                     0.0          \n",
      "97                                                     1.0          \n",
      "99                                                     0.0          \n",
      "101                                                    1.0          \n",
      "108                                                   14.0          \n",
      "110                                                    0.0          \n",
      "113                                                    0.0          \n",
      "126                                                    0.0          \n",
      "130                                                    3.0          \n",
      "132                                                    0.0          \n",
      "134                                                   25.0          \n",
      "135                                                   19.0          \n",
      "137                                                    3.0          \n",
      "142                                                    0.0          \n",
      "148                                                    1.0          \n",
      "152                                                    1.0          \n",
      "156                                                    1.0          \n",
      "160                                                    4.0          \n",
      "165                                                    1.0          \n",
      "170                                                    0.0          \n",
      "\n",
      "Élément  Exportations - Quantité  Importations - Quantité  Production  \n",
      "0                            NaN                     29.0        28.0  \n",
      "13                           NaN                     24.0         6.0  \n",
      "14                           NaN                      0.0       249.0  \n",
      "23                           NaN                      0.0        46.0  \n",
      "26                           NaN                     12.0         1.0  \n",
      "27                           NaN                     10.0        28.0  \n",
      "40                           NaN                    312.0        29.0  \n",
      "43                           NaN                      3.0         NaN  \n",
      "54                           NaN                     16.0         2.0  \n",
      "56                           NaN                      7.0         1.0  \n",
      "59                           NaN                     37.0        13.0  \n",
      "60                           NaN                      4.0         3.0  \n",
      "63                           NaN                     89.0         9.0  \n",
      "80                           NaN                      1.0         1.0  \n",
      "89                           NaN                      0.0        81.0  \n",
      "91                           NaN                      0.0       130.0  \n",
      "92                           NaN                     12.0         NaN  \n",
      "93                           NaN                      1.0        48.0  \n",
      "97                           NaN                     24.0         5.0  \n",
      "99                           NaN                     10.0         0.0  \n",
      "101                          NaN                     24.0        92.0  \n",
      "108                          NaN                      9.0         1.0  \n",
      "110                          NaN                      0.0        58.0  \n",
      "113                          NaN                      NaN         NaN  \n",
      "126                          NaN                      4.0         7.0  \n",
      "130                          NaN                      NaN         NaN  \n",
      "132                          NaN                      2.0       105.0  \n",
      "134                          NaN                      9.0         0.0  \n",
      "135                          NaN                     10.0         1.0  \n",
      "137                          NaN                      2.0         1.0  \n",
      "142                          NaN                      2.0        67.0  \n",
      "148                          NaN                     38.0         2.0  \n",
      "152                          NaN                     11.0         1.0  \n",
      "156                          NaN                      9.0        20.0  \n",
      "160                          NaN                      4.0         1.0  \n",
      "165                          NaN                      6.0        69.0  \n",
      "170                          NaN                      1.0        14.0  \n"
     ]
    }
   ],
   "source": [
    "volailles2_lignes_nan = df_volailles2[df_volailles2.isnull().any(axis=1)]\n",
    "print(volailles2_lignes_nan)"
   ]
  },
  {
   "cell_type": "code",
   "execution_count": 73,
   "id": "0fc34d92",
   "metadata": {},
   "outputs": [],
   "source": [
    "df_volailles3 = df_volailles2.dropna()"
   ]
  },
  {
   "cell_type": "code",
   "execution_count": 74,
   "id": "7ed7a1a4",
   "metadata": {
    "scrolled": true
   },
   "outputs": [
    {
     "name": "stdout",
     "output_type": "stream",
     "text": [
      "<class 'pandas.core.frame.DataFrame'>\n",
      "Index: 135 entries, 1 to 171\n",
      "Data columns (total 5 columns):\n",
      " #   Column                                                    Non-Null Count  Dtype  \n",
      "---  ------                                                    --------------  -----  \n",
      " 0   Pays                                                      135 non-null    object \n",
      " 1   Disponibilité de protéines en quantité (g/personne/jour)  135 non-null    float64\n",
      " 2   Exportations - Quantité                                   135 non-null    float64\n",
      " 3   Importations - Quantité                                   135 non-null    float64\n",
      " 4   Production                                                135 non-null    float64\n",
      "dtypes: float64(4), object(1)\n",
      "memory usage: 6.3+ KB\n"
     ]
    }
   ],
   "source": [
    "df_volailles3.info()"
   ]
  },
  {
   "cell_type": "code",
   "execution_count": null,
   "id": "47fdb39c",
   "metadata": {},
   "outputs": [],
   "source": []
  },
  {
   "cell_type": "code",
   "execution_count": 75,
   "id": "f05b3207",
   "metadata": {},
   "outputs": [
    {
     "data": {
      "image/png": "[encoded data removed]",
      "text/plain": [
       "<Figure size 1000x400 with 1 Axes>"
      ]
     },
     "metadata": {},
     "output_type": "display_data"
    }
   ],
   "source": [
    "# Affichage des 10 pays qui importe le plus de volaille en 2017\n",
    "\n",
    "# Trie de la valeur des importations par ordre décroissant\n",
    "volailles3_impor_desc = df_volailles3.sort_values('Importations - Quantité', ascending=False)\n",
    "\n",
    "# Selection des 10 premiers pays\n",
    "volailles3_impor_top10 = volailles3_impor_desc.head(20)\n",
    "\n",
    "# Création d'un diagramme à barre\n",
    "plt.figure(figsize=(10, 4))\n",
    "plt.barh(volailles3_impor_top10['Pays'], volailles3_impor_top10['Importations - Quantité'], color='chocolate')\n",
    "plt.xlabel('Importations en milliers de tonne')\n",
    "plt.ylabel('Pays')\n",
    "plt.title('Les 20 pays qui importent le plus de volaille en 2017')\n",
    "plt.gca().invert_yaxis()\n",
    "plt.show()"
   ]
  },
  {
   "cell_type": "markdown",
   "id": "04eb5ece",
   "metadata": {},
   "source": [
    "<div style=\"border: 1px solid chocolate; border-radius: 8px; padding: 20px; background-color: seashell;\">\n",
    "<h3 style=\"margin: auto; color: chocolate;\">II.6 - Analyse légale</h3>\n",
    "</div>"
   ]
  },
  {
   "cell_type": "code",
   "execution_count": 76,
   "id": "e0fdfac7",
   "metadata": {},
   "outputs": [],
   "source": [
    "# ///"
   ]
  },
  {
   "cell_type": "markdown",
   "id": "f6388763",
   "metadata": {},
   "source": [
    "<div style=\"border: 1px solid chocolate; border-radius: 8px; padding: 20px; background-color: seashell;\">\n",
    "<h3 style=\"margin: auto; color: chocolate;\">III - JOINTURES</h3>\n",
    "</div>"
   ]
  },
  {
   "cell_type": "code",
   "execution_count": 77,
   "id": "c089033b",
   "metadata": {},
   "outputs": [
    {
     "data": {
      "text/html": [
       "<div>\n",
       "<style scoped>\n",
       "    .dataframe tbody tr th:only-of-type {\n",
       "        vertical-align: middle;\n",
       "    }\n",
       "\n",
       "    .dataframe tbody tr th {\n",
       "        vertical-align: top;\n",
       "    }\n",
       "\n",
       "    .dataframe thead th {\n",
       "        text-align: right;\n",
       "    }\n",
       "</style>\n",
       "<table border=\"1\" class=\"dataframe\">\n",
       "  <thead>\n",
       "    <tr style=\"text-align: right;\">\n",
       "      <th></th>\n",
       "      <th>Pays</th>\n",
       "      <th>stab_poli_2022</th>\n",
       "      <th>pib_hab_2023</th>\n",
       "      <th>_merge</th>\n",
       "    </tr>\n",
       "  </thead>\n",
       "  <tbody>\n",
       "    <tr>\n",
       "      <th>0</th>\n",
       "      <td>Aruba</td>\n",
       "      <td>1.475</td>\n",
       "      <td>33300.839</td>\n",
       "      <td>both</td>\n",
       "    </tr>\n",
       "    <tr>\n",
       "      <th>1</th>\n",
       "      <td>Afghanistan</td>\n",
       "      <td>-2.551</td>\n",
       "      <td>352.604</td>\n",
       "      <td>both</td>\n",
       "    </tr>\n",
       "    <tr>\n",
       "      <th>2</th>\n",
       "      <td>Angola</td>\n",
       "      <td>-0.646</td>\n",
       "      <td>2309.522</td>\n",
       "      <td>both</td>\n",
       "    </tr>\n",
       "    <tr>\n",
       "      <th>3</th>\n",
       "      <td>Albanie</td>\n",
       "      <td>0.115</td>\n",
       "      <td>8367.776</td>\n",
       "      <td>both</td>\n",
       "    </tr>\n",
       "    <tr>\n",
       "      <th>4</th>\n",
       "      <td>Andorre</td>\n",
       "      <td>1.588</td>\n",
       "      <td>46544.721</td>\n",
       "      <td>both</td>\n",
       "    </tr>\n",
       "  </tbody>\n",
       "</table>\n",
       "</div>"
      ],
      "text/plain": [
       "          Pays  stab_poli_2022  pib_hab_2023 _merge\n",
       "0        Aruba           1.475     33300.839   both\n",
       "1  Afghanistan          -2.551       352.604   both\n",
       "2       Angola          -0.646      2309.522   both\n",
       "3      Albanie           0.115      8367.776   both\n",
       "4      Andorre           1.588     46544.721   both"
      ]
     },
     "metadata": {},
     "output_type": "display_data"
    }
   ],
   "source": [
    "# Jonction 1\n",
    "df_merged1 = pd.merge(df_stab_poli3, df_pib_hab3, how='outer', indicator=True)\n",
    "display(df_merged1.head())"
   ]
  },
  {
   "cell_type": "code",
   "execution_count": 78,
   "id": "5bfd7883",
   "metadata": {},
   "outputs": [
    {
     "name": "stdout",
     "output_type": "stream",
     "text": [
      "<class 'pandas.core.frame.DataFrame'>\n",
      "RangeIndex: 215 entries, 0 to 214\n",
      "Data columns (total 4 columns):\n",
      " #   Column          Non-Null Count  Dtype   \n",
      "---  ------          --------------  -----   \n",
      " 0   Pays            215 non-null    object  \n",
      " 1   stab_poli_2022  205 non-null    float64 \n",
      " 2   pib_hab_2023    211 non-null    float64 \n",
      " 3   _merge          215 non-null    category\n",
      "dtypes: category(1), float64(2), object(1)\n",
      "memory usage: 5.5+ KB\n"
     ]
    }
   ],
   "source": [
    "# Information df_merged1\n",
    "df_merged1.info()"
   ]
  },
  {
   "cell_type": "code",
   "execution_count": 79,
   "id": "f8a3db36",
   "metadata": {},
   "outputs": [],
   "source": [
    "# Suppression de la colonne de contrôle _merge\n",
    "df_merged1 = df_merged1.drop('_merge', axis=1)"
   ]
  },
  {
   "cell_type": "code",
   "execution_count": null,
   "id": "a2b3636a",
   "metadata": {},
   "outputs": [],
   "source": []
  },
  {
   "cell_type": "code",
   "execution_count": 80,
   "id": "91810d41",
   "metadata": {},
   "outputs": [
    {
     "data": {
      "text/html": [
       "<div>\n",
       "<style scoped>\n",
       "    .dataframe tbody tr th:only-of-type {\n",
       "        vertical-align: middle;\n",
       "    }\n",
       "\n",
       "    .dataframe tbody tr th {\n",
       "        vertical-align: top;\n",
       "    }\n",
       "\n",
       "    .dataframe thead th {\n",
       "        text-align: right;\n",
       "    }\n",
       "</style>\n",
       "<table border=\"1\" class=\"dataframe\">\n",
       "  <thead>\n",
       "    <tr style=\"text-align: right;\">\n",
       "      <th></th>\n",
       "      <th>Pays</th>\n",
       "      <th>stab_poli_2022</th>\n",
       "      <th>pib_hab_2023</th>\n",
       "      <th>pib_croi_2023</th>\n",
       "      <th>_merge</th>\n",
       "    </tr>\n",
       "  </thead>\n",
       "  <tbody>\n",
       "    <tr>\n",
       "      <th>0</th>\n",
       "      <td>Aruba</td>\n",
       "      <td>1.475</td>\n",
       "      <td>33300.839</td>\n",
       "      <td>10.554</td>\n",
       "      <td>both</td>\n",
       "    </tr>\n",
       "    <tr>\n",
       "      <th>1</th>\n",
       "      <td>Afghanistan</td>\n",
       "      <td>-2.551</td>\n",
       "      <td>352.604</td>\n",
       "      <td>-8.587</td>\n",
       "      <td>both</td>\n",
       "    </tr>\n",
       "    <tr>\n",
       "      <th>2</th>\n",
       "      <td>Angola</td>\n",
       "      <td>-0.646</td>\n",
       "      <td>2309.522</td>\n",
       "      <td>-2.155</td>\n",
       "      <td>both</td>\n",
       "    </tr>\n",
       "    <tr>\n",
       "      <th>3</th>\n",
       "      <td>Albanie</td>\n",
       "      <td>0.115</td>\n",
       "      <td>8367.776</td>\n",
       "      <td>4.634</td>\n",
       "      <td>both</td>\n",
       "    </tr>\n",
       "    <tr>\n",
       "      <th>4</th>\n",
       "      <td>Andorre</td>\n",
       "      <td>1.588</td>\n",
       "      <td>46544.721</td>\n",
       "      <td>1.110</td>\n",
       "      <td>both</td>\n",
       "    </tr>\n",
       "  </tbody>\n",
       "</table>\n",
       "</div>"
      ],
      "text/plain": [
       "          Pays  stab_poli_2022  pib_hab_2023  pib_croi_2023 _merge\n",
       "0        Aruba           1.475     33300.839         10.554   both\n",
       "1  Afghanistan          -2.551       352.604         -8.587   both\n",
       "2       Angola          -0.646      2309.522         -2.155   both\n",
       "3      Albanie           0.115      8367.776          4.634   both\n",
       "4      Andorre           1.588     46544.721          1.110   both"
      ]
     },
     "metadata": {},
     "output_type": "display_data"
    }
   ],
   "source": [
    "# Jonction 2\n",
    "df_merged2 = pd.merge(df_merged1, df_pib_croi3, how='outer', indicator=True)\n",
    "display(df_merged2.head())"
   ]
  },
  {
   "cell_type": "code",
   "execution_count": 81,
   "id": "d3cb330d",
   "metadata": {},
   "outputs": [
    {
     "name": "stdout",
     "output_type": "stream",
     "text": [
      "<class 'pandas.core.frame.DataFrame'>\n",
      "RangeIndex: 215 entries, 0 to 214\n",
      "Data columns (total 5 columns):\n",
      " #   Column          Non-Null Count  Dtype   \n",
      "---  ------          --------------  -----   \n",
      " 0   Pays            215 non-null    object  \n",
      " 1   stab_poli_2022  205 non-null    float64 \n",
      " 2   pib_hab_2023    211 non-null    float64 \n",
      " 3   pib_croi_2023   210 non-null    float64 \n",
      " 4   _merge          215 non-null    category\n",
      "dtypes: category(1), float64(3), object(1)\n",
      "memory usage: 7.2+ KB\n"
     ]
    }
   ],
   "source": [
    "# Information df_merged2\n",
    "df_merged2.info()"
   ]
  },
  {
   "cell_type": "code",
   "execution_count": 82,
   "id": "1a14c771",
   "metadata": {},
   "outputs": [],
   "source": [
    "# Suppression de la colonne de contrôle _merge\n",
    "df_merged2 = df_merged2.drop('_merge', axis=1)"
   ]
  },
  {
   "cell_type": "code",
   "execution_count": null,
   "id": "7ae9e2bd",
   "metadata": {},
   "outputs": [],
   "source": []
  },
  {
   "cell_type": "code",
   "execution_count": 83,
   "id": "ad46cb7e",
   "metadata": {},
   "outputs": [],
   "source": [
    "# Remplacement des noms de Pays\n",
    "df_pop['Pays'] = df_pop['Pays'].replace('Etats-Unis d\\'Amérique', 'États-Unis')\n",
    "df_pop['Pays'] = df_pop['Pays'].replace('Nigeria', 'Nigéria')\n",
    "df_pop['Pays'] = df_pop['Pays'].replace('Russie', 'Fédération de Russie')\n",
    "df_pop['Pays'] = df_pop['Pays'].replace('Ethiopie', 'Éthiopie')\n",
    "df_pop['Pays'] = df_pop['Pays'].replace('Egypte', 'Égypte, République arabe d’')                             \n",
    "df_pop['Pays'] = df_pop['Pays'].replace('R.D. Congo', 'Congo, République démocratique du')\n",
    "df_pop['Pays'] = df_pop['Pays'].replace('Iran', 'Iran, République islamique d’')\n",
    "df_pop['Pays'] = df_pop['Pays'].replace('Thailande', 'Thaïlande')                             \n",
    "df_pop['Pays'] = df_pop['Pays'].replace('Royaume Uni', 'Royaume-Uni')                                          \n",
    "df_pop['Pays'] = df_pop['Pays'].replace('Corée du sud (République de Corée)', 'Corée, République de') \n",
    "df_pop['Pays'] = df_pop['Pays'].replace('Uganda', 'Ouganda')  \n",
    "df_pop['Pays'] = df_pop['Pays'].replace('Irak', 'Iraq')\n",
    "df_pop['Pays'] = df_pop['Pays'].replace('Yémen', 'Yémen, Rép. du')\n",
    "df_pop['Pays'] = df_pop['Pays'].replace('Arabie Saoudite', 'Arabie saoudite')                                \n",
    "df_pop['Pays'] = df_pop['Pays'].replace('Corée du Nord', 'Corée, République démocratique de')                \n",
    "df_pop['Pays'] = df_pop['Pays'].replace('Syrie (République arabe syrienne)', 'République arabe syrienne')                                         \n",
    "df_pop['Pays'] = df_pop['Pays'].replace('Chad', 'Tchad')                                        \n",
    "df_pop['Pays'] = df_pop['Pays'].replace('Equateur', 'Équateur')\n",
    "df_pop['Pays'] = df_pop['Pays'].replace('Haiti', 'Haïti')\n",
    "df_pop['Pays'] = df_pop['Pays'].replace('République Dominicaine', 'République dominicaine')\n",
    "df_pop['Pays'] = df_pop['Pays'].replace('République Tchèque', 'République tchèque')                                        \n",
    "df_pop['Pays'] = df_pop['Pays'].replace('Emirats arabes unis', 'Émirats arabes unis')                                          \n",
    "df_pop['Pays'] = df_pop['Pays'].replace('Biélorussie', 'Bélarus')\n",
    "df_pop['Pays'] = df_pop['Pays'].replace('Israel', 'Israël')\n",
    "df_pop['Pays'] = df_pop['Pays'].replace('Laos', 'République démocratique populaire lao')                                        \n",
    "df_pop['Pays'] = df_pop['Pays'].replace('Hong Kong RAS (Chine)', 'Chine, RAS de Hong Kong')                                        \n",
    "df_pop['Pays'] = df_pop['Pays'].replace('Turkmenistan', 'Turkménistan')                                        \n",
    "df_pop['Pays'] = df_pop['Pays'].replace('Kyrgyzstan', 'République kirghize')\n",
    "df_pop['Pays'] = df_pop['Pays'].replace('Salvador', 'El Salvador')                                        \n",
    "df_pop['Pays'] = df_pop['Pays'].replace('Congo', 'Congo, République du')                                        \n",
    "df_pop['Pays'] = df_pop['Pays'].replace('Slovaquie', 'République slovaque')                                         \n",
    "df_pop['Pays'] = df_pop['Pays'].replace('Liberia', 'Libéria')\n",
    "df_pop['Pays'] = df_pop['Pays'].replace('Palestine (État de)', 'Cisjordanie et Gaza')                                        \n",
    "df_pop['Pays'] = df_pop['Pays'].replace('Eritrea', 'Érythrée')                                        \n",
    "df_pop['Pays'] = df_pop['Pays'].replace('Puerto Rico', 'Porto Rico')                                        \n",
    "df_pop['Pays'] = df_pop['Pays'].replace('Moldavie (République de)', 'Moldova')                                        \n",
    "df_pop['Pays'] = df_pop['Pays'].replace('Lithuanie', 'Lituanie') \n",
    "df_pop['Pays'] = df_pop['Pays'].replace('Macédoine (République de)', 'Macédoine du Nord')                                        \n",
    "df_pop['Pays'] = df_pop['Pays'].replace('Guinée Equatoriale', 'Guinée équatoriale')                                        \n",
    "df_pop['Pays'] = df_pop['Pays'].replace('Mauritius', 'Maurice')                                        \n",
    "df_pop['Pays'] = df_pop['Pays'].replace('Swaziland', 'Eswatini')                                        \n",
    "df_pop['Pays'] = df_pop['Pays'].replace('Iles Solomon', 'Îles Salomon') \n",
    "df_pop['Pays'] = df_pop['Pays'].replace('Bhutan', 'Bhoutan')                                        \n",
    "df_pop['Pays'] = df_pop['Pays'].replace('Macao RAS (Chine)', 'Région administrative spéciale de Macao, Chine')\n",
    "df_pop['Pays'] = df_pop['Pays'].replace('Montenegro', 'Monténégro')                                        \n",
    "df_pop['Pays'] = df_pop['Pays'].replace('Cap vert', 'Cabo Verde')\n",
    "df_pop['Pays'] = df_pop['Pays'].replace('Curaçao', 'Curacao')\n",
    "df_pop['Pays'] = df_pop['Pays'].replace('Micronésie', 'Micronésie, États fédérés de')\n",
    "df_pop['Pays'] = df_pop['Pays'].replace('Saint-Vincent-et-les-Grenadines', 'Saint-Vincent-et-les Grenadines')                                        \n",
    "df_pop['Pays'] = df_pop['Pays'].replace('îles Vierges des États-Unis', 'Îles Vierges (EU)')\n",
    "df_pop['Pays'] = df_pop['Pays'].replace('Birmanie (Myanmar)', 'Myanmar')\n",
    "df_pop['Pays'] = df_pop['Pays'].replace('Nouvelle calédonie', 'Nouvelle-Calédonie')\n",
    "\n",
    "                                        #df_pop['Pays'] = df_pop['Pays'].replace('Guadeloupe', 'xxx')\n",
    "                                        #df_pop['Pays'] = df_pop['Pays'].replace('Martinique', 'xxx')                                        \n",
    "                                       # df_pop['Pays'] = df_pop['Pays'].replace('Mayotte', 'xxx')                                        \n",
    "                                       #df_pop['Pays'] = df_pop['Pays'].replace('Guinée française', 'xxx')\n",
    "                                        #df_pop['Pays'] = df_pop['Pays'].replace('Nouvelle calédonie', 'xxx')\n",
    "                                        #df_pop['Pays'] = df_pop['Pays'].replace('Sahara occidental', 'xxx')                                        \n",
    "                                       #df_pop['Pays'] = df_pop['Pays'].replace('Réunion', 'xxx')                                        \n",
    "                                                                                \n",
    "                                        "
   ]
  },
  {
   "cell_type": "code",
   "execution_count": 84,
   "id": "c551612a",
   "metadata": {},
   "outputs": [
    {
     "data": {
      "text/html": [
       "<div>\n",
       "<style scoped>\n",
       "    .dataframe tbody tr th:only-of-type {\n",
       "        vertical-align: middle;\n",
       "    }\n",
       "\n",
       "    .dataframe tbody tr th {\n",
       "        vertical-align: top;\n",
       "    }\n",
       "\n",
       "    .dataframe thead th {\n",
       "        text-align: right;\n",
       "    }\n",
       "</style>\n",
       "<table border=\"1\" class=\"dataframe\">\n",
       "  <thead>\n",
       "    <tr style=\"text-align: right;\">\n",
       "      <th></th>\n",
       "      <th>Pays</th>\n",
       "      <th>stab_poli_2022</th>\n",
       "      <th>pib_hab_2023</th>\n",
       "      <th>pib_croi_2023</th>\n",
       "      <th>pop_nbr_2023</th>\n",
       "      <th>pop_evol%_22_23</th>\n",
       "      <th>_merge</th>\n",
       "    </tr>\n",
       "  </thead>\n",
       "  <tbody>\n",
       "    <tr>\n",
       "      <th>0</th>\n",
       "      <td>Aruba</td>\n",
       "      <td>1.475</td>\n",
       "      <td>33300.839</td>\n",
       "      <td>10.554</td>\n",
       "      <td>107939.0</td>\n",
       "      <td>0.145664</td>\n",
       "      <td>both</td>\n",
       "    </tr>\n",
       "    <tr>\n",
       "      <th>1</th>\n",
       "      <td>Afghanistan</td>\n",
       "      <td>-2.551</td>\n",
       "      <td>352.604</td>\n",
       "      <td>-8.587</td>\n",
       "      <td>41454761.0</td>\n",
       "      <td>2.158561</td>\n",
       "      <td>both</td>\n",
       "    </tr>\n",
       "    <tr>\n",
       "      <th>2</th>\n",
       "      <td>Angola</td>\n",
       "      <td>-0.646</td>\n",
       "      <td>2309.522</td>\n",
       "      <td>-2.155</td>\n",
       "      <td>36749906.0</td>\n",
       "      <td>3.128599</td>\n",
       "      <td>both</td>\n",
       "    </tr>\n",
       "    <tr>\n",
       "      <th>3</th>\n",
       "      <td>Albanie</td>\n",
       "      <td>0.115</td>\n",
       "      <td>8367.776</td>\n",
       "      <td>4.634</td>\n",
       "      <td>2811655.0</td>\n",
       "      <td>-0.564187</td>\n",
       "      <td>both</td>\n",
       "    </tr>\n",
       "    <tr>\n",
       "      <th>4</th>\n",
       "      <td>Andorre</td>\n",
       "      <td>1.588</td>\n",
       "      <td>46544.721</td>\n",
       "      <td>1.110</td>\n",
       "      <td>NaN</td>\n",
       "      <td>NaN</td>\n",
       "      <td>left_only</td>\n",
       "    </tr>\n",
       "  </tbody>\n",
       "</table>\n",
       "</div>"
      ],
      "text/plain": [
       "          Pays  stab_poli_2022  pib_hab_2023  pib_croi_2023  pop_nbr_2023  \\\n",
       "0        Aruba           1.475     33300.839         10.554      107939.0   \n",
       "1  Afghanistan          -2.551       352.604         -8.587    41454761.0   \n",
       "2       Angola          -0.646      2309.522         -2.155    36749906.0   \n",
       "3      Albanie           0.115      8367.776          4.634     2811655.0   \n",
       "4      Andorre           1.588     46544.721          1.110           NaN   \n",
       "\n",
       "   pop_evol%_22_23     _merge  \n",
       "0         0.145664       both  \n",
       "1         2.158561       both  \n",
       "2         3.128599       both  \n",
       "3        -0.564187       both  \n",
       "4              NaN  left_only  "
      ]
     },
     "metadata": {},
     "output_type": "display_data"
    }
   ],
   "source": [
    "# Jonction 3\n",
    "df_merged3 = pd.merge(df_merged2, df_pop, how='outer', indicator=True)\n",
    "display(df_merged3.head())"
   ]
  },
  {
   "cell_type": "code",
   "execution_count": 85,
   "id": "6bdd552f",
   "metadata": {
    "scrolled": true
   },
   "outputs": [
    {
     "name": "stdout",
     "output_type": "stream",
     "text": [
      "<class 'pandas.core.frame.DataFrame'>\n",
      "RangeIndex: 221 entries, 0 to 220\n",
      "Data columns (total 7 columns):\n",
      " #   Column           Non-Null Count  Dtype   \n",
      "---  ------           --------------  -----   \n",
      " 0   Pays             221 non-null    object  \n",
      " 1   stab_poli_2022   205 non-null    float64 \n",
      " 2   pib_hab_2023     211 non-null    float64 \n",
      " 3   pib_croi_2023    210 non-null    float64 \n",
      " 4   pop_nbr_2023     199 non-null    float64 \n",
      " 5   pop_evol%_22_23  199 non-null    float64 \n",
      " 6   _merge           221 non-null    category\n",
      "dtypes: category(1), float64(5), object(1)\n",
      "memory usage: 10.8+ KB\n"
     ]
    }
   ],
   "source": [
    "# Information df_merged3\n",
    "df_merged3.info()"
   ]
  },
  {
   "cell_type": "code",
   "execution_count": 86,
   "id": "4d33db8b",
   "metadata": {},
   "outputs": [
    {
     "name": "stdout",
     "output_type": "stream",
     "text": [
      "Nombre de lignes avec '_merge' = 'both' : 193\n"
     ]
    }
   ],
   "source": [
    "# Comptabilisation du nombre de lignes où \"_merge\" est égal à \"both\"\n",
    "df_merged3_nbr_both = df_merged3['_merge'].value_counts()['both']\n",
    "\n",
    "print(\"Nombre de lignes avec '_merge' = 'both' :\", df_merged3_nbr_both)"
   ]
  },
  {
   "cell_type": "code",
   "execution_count": 87,
   "id": "c9505c41",
   "metadata": {},
   "outputs": [
    {
     "name": "stdout",
     "output_type": "stream",
     "text": [
      "['Réunion', 'Sahara occidental', 'Guadeloupe', 'Martinique', 'Mayotte', 'Guinée française']\n"
     ]
    }
   ],
   "source": [
    "# Filtre des lignes où \"_merge\" est égal à \"right_only\"\n",
    "df_merged3_right = df_merged3[df_merged3['_merge'] == 'right_only']\n",
    "\n",
    "# Extraction des valeurs de la colonne \"Pays\" \n",
    "merged3_liste_right = df_merged3_right['Pays'].tolist()\n",
    "\n",
    "# Affichage de la liste des pays\n",
    "print(merged3_liste_right)"
   ]
  },
  {
   "cell_type": "code",
   "execution_count": 88,
   "id": "e93d001b",
   "metadata": {},
   "outputs": [
    {
     "name": "stdout",
     "output_type": "stream",
     "text": [
      "['Andorre', 'Samoa américaines', 'Bermudes', 'Îles Caïmans', 'Dominique', 'Groenland', 'Saint-Kitts-et-Nevis', 'Liechtenstein', 'Monaco', 'Îles Marshall', 'Nauru', 'Palaos', 'Saint-Marin', 'Tuvalu', 'Kosovo', 'Îles Anglo-Normandes', 'Îles Féroé', 'Île de Man', 'Saint-Martin (fr)', 'Mariannes', 'Sint Maarten (Dutch part)', 'Îles Turques-et-Caïques']\n"
     ]
    }
   ],
   "source": [
    "# Filtre des lignes où \"_merge\" est égal à \"left_only\"\n",
    "df_merged3_left = df_merged3[df_merged3['_merge'] == 'left_only']\n",
    "\n",
    "# Extraction des valeurs de la colonne \"Pays\" \n",
    "merged3_liste_left = df_merged3_left['Pays'].tolist()\n",
    "\n",
    "# Affichage de la liste des pays\n",
    "print(merged3_liste_left)"
   ]
  },
  {
   "cell_type": "code",
   "execution_count": 89,
   "id": "30a14946",
   "metadata": {},
   "outputs": [],
   "source": [
    "df_merged3_bis = df_merged3[df_merged3['_merge'] == 'both']"
   ]
  },
  {
   "cell_type": "code",
   "execution_count": 90,
   "id": "6f07c528",
   "metadata": {},
   "outputs": [],
   "source": [
    "# Suppression de la colonne de contrôle _merge\n",
    "df_merged3_bis = df_merged3_bis.drop('_merge', axis=1)"
   ]
  },
  {
   "cell_type": "code",
   "execution_count": null,
   "id": "1eb7fd31",
   "metadata": {},
   "outputs": [],
   "source": []
  },
  {
   "cell_type": "code",
   "execution_count": 91,
   "id": "2437a5d1",
   "metadata": {},
   "outputs": [],
   "source": [
    "# Remplacement des noms de Pays\n",
    "df_distance2['Pays'] = df_distance2['Pays'].replace('Afrique du sud', 'Afrique du Sud')\n",
    "df_distance2['Pays'] = df_distance2['Pays'].replace('ex', 'Antilles néerlandaises (ex)')\n",
    "df_distance2['Pays'] = df_distance2['Pays'].replace('Niue', 'Nioué')\n",
    "df_distance2['Pays'] = df_distance2['Pays'].replace('République Centrafricaine', 'République centrafricaine')\n",
    "df_distance2['Pays'] = df_distance2['Pays'].replace('République du Congo', 'Congo, République du')\n",
    "df_distance2['Pays'] = df_distance2['Pays'].replace('République Tchèque', 'République tchèque')\n",
    "df_distance2['Pays'] = df_distance2['Pays'].replace('Salvador', 'El Salvador')\n",
    "df_distance2['Pays'] = df_distance2['Pays'].replace('Soudan du sud', 'Soudan du Sud')\n",
    "df_distance2['Pays'] = df_distance2['Pays'].replace('Côte d\\'ivoire', 'Côte d\\'Ivoire')\n",
    "df_distance2['Pays'] = df_distance2['Pays'].replace('Yémen, Rép. Du', 'Yémen, Rép. du')"
   ]
  },
  {
   "cell_type": "code",
   "execution_count": 92,
   "id": "3f393839",
   "metadata": {
    "scrolled": true
   },
   "outputs": [
    {
     "data": {
      "text/html": [
       "<div>\n",
       "<style scoped>\n",
       "    .dataframe tbody tr th:only-of-type {\n",
       "        vertical-align: middle;\n",
       "    }\n",
       "\n",
       "    .dataframe tbody tr th {\n",
       "        vertical-align: top;\n",
       "    }\n",
       "\n",
       "    .dataframe thead th {\n",
       "        text-align: right;\n",
       "    }\n",
       "</style>\n",
       "<table border=\"1\" class=\"dataframe\">\n",
       "  <thead>\n",
       "    <tr style=\"text-align: right;\">\n",
       "      <th></th>\n",
       "      <th>Pays</th>\n",
       "      <th>stab_poli_2022</th>\n",
       "      <th>pib_hab_2023</th>\n",
       "      <th>pib_croi_2023</th>\n",
       "      <th>pop_nbr_2023</th>\n",
       "      <th>pop_evol%_22_23</th>\n",
       "      <th>km_paris</th>\n",
       "      <th>_merge</th>\n",
       "    </tr>\n",
       "  </thead>\n",
       "  <tbody>\n",
       "    <tr>\n",
       "      <th>0</th>\n",
       "      <td>Aruba</td>\n",
       "      <td>1.475</td>\n",
       "      <td>33300.839</td>\n",
       "      <td>10.554</td>\n",
       "      <td>107939.0</td>\n",
       "      <td>0.145664</td>\n",
       "      <td>NaN</td>\n",
       "      <td>left_only</td>\n",
       "    </tr>\n",
       "    <tr>\n",
       "      <th>1</th>\n",
       "      <td>Afghanistan</td>\n",
       "      <td>-2.551</td>\n",
       "      <td>352.604</td>\n",
       "      <td>-8.587</td>\n",
       "      <td>41454761.0</td>\n",
       "      <td>2.158561</td>\n",
       "      <td>5581.0</td>\n",
       "      <td>both</td>\n",
       "    </tr>\n",
       "    <tr>\n",
       "      <th>2</th>\n",
       "      <td>Angola</td>\n",
       "      <td>-0.646</td>\n",
       "      <td>2309.522</td>\n",
       "      <td>-2.155</td>\n",
       "      <td>36749906.0</td>\n",
       "      <td>3.128599</td>\n",
       "      <td>6503.0</td>\n",
       "      <td>both</td>\n",
       "    </tr>\n",
       "    <tr>\n",
       "      <th>3</th>\n",
       "      <td>Albanie</td>\n",
       "      <td>0.115</td>\n",
       "      <td>8367.776</td>\n",
       "      <td>4.634</td>\n",
       "      <td>2811655.0</td>\n",
       "      <td>-0.564187</td>\n",
       "      <td>1601.0</td>\n",
       "      <td>both</td>\n",
       "    </tr>\n",
       "    <tr>\n",
       "      <th>4</th>\n",
       "      <td>Émirats arabes unis</td>\n",
       "      <td>0.701</td>\n",
       "      <td>52976.808</td>\n",
       "      <td>2.581</td>\n",
       "      <td>10642081.0</td>\n",
       "      <td>3.905395</td>\n",
       "      <td>5240.0</td>\n",
       "      <td>both</td>\n",
       "    </tr>\n",
       "  </tbody>\n",
       "</table>\n",
       "</div>"
      ],
      "text/plain": [
       "                  Pays  stab_poli_2022  pib_hab_2023  pib_croi_2023  \\\n",
       "0                Aruba           1.475     33300.839         10.554   \n",
       "1          Afghanistan          -2.551       352.604         -8.587   \n",
       "2               Angola          -0.646      2309.522         -2.155   \n",
       "3              Albanie           0.115      8367.776          4.634   \n",
       "4  Émirats arabes unis           0.701     52976.808          2.581   \n",
       "\n",
       "   pop_nbr_2023  pop_evol%_22_23  km_paris     _merge  \n",
       "0      107939.0         0.145664       NaN  left_only  \n",
       "1    41454761.0         2.158561    5581.0       both  \n",
       "2    36749906.0         3.128599    6503.0       both  \n",
       "3     2811655.0        -0.564187    1601.0       both  \n",
       "4    10642081.0         3.905395    5240.0       both  "
      ]
     },
     "metadata": {},
     "output_type": "display_data"
    }
   ],
   "source": [
    "# Jonction 4\n",
    "df_merged4 = pd.merge(df_merged3_bis, df_distance2, how='outer', indicator=True)\n",
    "display(df_merged4.head())"
   ]
  },
  {
   "cell_type": "code",
   "execution_count": 93,
   "id": "99908b3b",
   "metadata": {
    "scrolled": true
   },
   "outputs": [
    {
     "name": "stdout",
     "output_type": "stream",
     "text": [
      "<class 'pandas.core.frame.DataFrame'>\n",
      "RangeIndex: 208 entries, 0 to 207\n",
      "Data columns (total 8 columns):\n",
      " #   Column           Non-Null Count  Dtype   \n",
      "---  ------           --------------  -----   \n",
      " 0   Pays             208 non-null    object  \n",
      " 1   stab_poli_2022   190 non-null    float64 \n",
      " 2   pib_hab_2023     189 non-null    float64 \n",
      " 3   pib_croi_2023    189 non-null    float64 \n",
      " 4   pop_nbr_2023     193 non-null    float64 \n",
      " 5   pop_evol%_22_23  193 non-null    float64 \n",
      " 6   km_paris         197 non-null    float64 \n",
      " 7   _merge           208 non-null    category\n",
      "dtypes: category(1), float64(6), object(1)\n",
      "memory usage: 11.8+ KB\n"
     ]
    }
   ],
   "source": [
    "# Information df_merged4\n",
    "df_merged4.info()"
   ]
  },
  {
   "cell_type": "code",
   "execution_count": 94,
   "id": "2d11c4fb",
   "metadata": {},
   "outputs": [
    {
     "name": "stdout",
     "output_type": "stream",
     "text": [
      "Nombre de lignes avec '_merge' = 'both' : 182\n"
     ]
    }
   ],
   "source": [
    "# Comptabilisation du nombre de lignes où \"_merge\" est égal à \"both\"\n",
    "df_merged4_nbr_both = df_merged4['_merge'].value_counts()['both']\n",
    "\n",
    "print(\"Nombre de lignes avec '_merge' = 'both' :\", df_merged4_nbr_both)"
   ]
  },
  {
   "cell_type": "code",
   "execution_count": 95,
   "id": "2512ad91",
   "metadata": {},
   "outputs": [
    {
     "name": "stdout",
     "output_type": "stream",
     "text": [
      "['Andorre', 'Birmanie', 'Dominique', 'Antilles néerlandaises (ex)', 'Îles Cook', 'Îles Marshall', 'Liechtenstein', 'Monaco', 'Nauru', 'Nioué', 'Palaos', 'Saint-Christophe-et-Niévès', 'Saint-Marin', 'Tuvalu', 'Vatican']\n"
     ]
    }
   ],
   "source": [
    "# Filtre des lignes où \"_merge\" est égal à \"right_only\"\n",
    "df_merged4_right = df_merged4[df_merged4['_merge'] == 'right_only']\n",
    "\n",
    "# Extraction des valeurs de la colonne \"Pays\" \n",
    "merged4_liste_right = df_merged4_right['Pays'].tolist()\n",
    "\n",
    "# Affichage de la liste des pays\n",
    "print(merged4_liste_right)"
   ]
  },
  {
   "cell_type": "code",
   "execution_count": 96,
   "id": "a638fef4",
   "metadata": {},
   "outputs": [
    {
     "name": "stdout",
     "output_type": "stream",
     "text": [
      "['Aruba', 'Guam', 'Chine, RAS de Hong Kong', 'Kazakhstan', 'Région administrative spéciale de Macao, Chine', 'Myanmar', 'Porto Rico', 'Îles Vierges (EU)', 'Curacao', 'Nouvelle-Calédonie', 'Polynésie française']\n"
     ]
    }
   ],
   "source": [
    "# Filtre des lignes où \"_merge\" est égal à \"left_only\"\n",
    "df_merged4_left = df_merged4[df_merged4['_merge'] == 'left_only']\n",
    "\n",
    "# Extraction des valeurs de la colonne \"Pays\" \n",
    "merged4_liste_left = df_merged4_left['Pays'].tolist()\n",
    "\n",
    "# Affichage de la liste des pays\n",
    "print(merged4_liste_left)"
   ]
  },
  {
   "cell_type": "code",
   "execution_count": 97,
   "id": "d81f5df6",
   "metadata": {},
   "outputs": [],
   "source": [
    "# Suppression de la colonne de contrôle _merge\n",
    "df_merged4 = df_merged4.drop('_merge', axis=1)"
   ]
  },
  {
   "cell_type": "code",
   "execution_count": null,
   "id": "55f0e6fd",
   "metadata": {},
   "outputs": [],
   "source": []
  },
  {
   "cell_type": "code",
   "execution_count": 98,
   "id": "7f824986",
   "metadata": {
    "scrolled": false
   },
   "outputs": [],
   "source": [
    "# Remplacement des noms de Pays\n",
    "df_volailles3.loc[:, 'Pays'] = df_volailles3['Pays'].replace('Bolivie (État plurinational de)', 'Bolivie')\n",
    "df_volailles3.loc[:, 'Pays'] = df_volailles3['Pays'].replace('Chine - RAS de Hong-Kong', 'Chine, RAS de Hong Kong')\n",
    "df_volailles3.loc[:, 'Pays'] = df_volailles3['Pays'].replace('Chine - RAS de Macao', 'Région administrative spéciale de Macao, Chine')\n",
    "df_volailles3.loc[:, 'Pays'] = df_volailles3['Pays'].replace('Chine, continentale', 'Chine')\n",
    "df_volailles3.loc[:, 'Pays'] = df_volailles3['Pays'].replace('Congo', 'Congo, République du')\n",
    "df_volailles3.loc[:, 'Pays'] = df_volailles3['Pays'].replace('Iran (République islamique d\\')', 'Iran, République islamique d’')\n",
    "df_volailles3.loc[:, 'Pays'] = df_volailles3['Pays'].replace('Kirghizistan', 'République kirghize')\n",
    "df_volailles3.loc[:, 'Pays'] = df_volailles3['Pays'].replace('Royaume-Uni de Grande-Bretagne et d\\'Irlande du Nord', 'Royaume-Uni')\n",
    "df_volailles3.loc[:, 'Pays'] = df_volailles3['Pays'].replace('République de Corée', 'Corée, République de')\n",
    "df_volailles3.loc[:, 'Pays'] = df_volailles3['Pays'].replace('République de Moldova', 'Moldova')\n",
    "df_volailles3.loc[:, 'Pays'] = df_volailles3['Pays'].replace('République populaire démocratique de Corée', 'Corée, République démocratique de')\n",
    "df_volailles3.loc[:, 'Pays'] = df_volailles3['Pays'].replace('République-Unie de Tanzanie', 'Tanzanie')\n",
    "df_volailles3.loc[:, 'Pays'] = df_volailles3['Pays'].replace('Slovaquie', 'République slovaque')\n",
    "df_volailles3.loc[:, 'Pays'] = df_volailles3['Pays'].replace('Tchéquie', 'République tchèque')\n",
    "df_volailles3.loc[:, 'Pays'] = df_volailles3['Pays'].replace('Venezuela (République bolivarienne du)', 'Venezuela')\n",
    "df_volailles3.loc[:, 'Pays'] = df_volailles3['Pays'].replace('Yémen', 'Yémen, Rép. du')\n",
    "df_volailles3.loc[:, 'Pays'] = df_volailles3['Pays'].replace('Égypte', 'Égypte, République arabe d’')\n",
    "df_volailles3.loc[:, 'Pays'] = df_volailles3['Pays'].replace('États-Unis d\\'Amérique', 'États-Unis')"
   ]
  },
  {
   "cell_type": "code",
   "execution_count": 99,
   "id": "ade2b765",
   "metadata": {
    "scrolled": false
   },
   "outputs": [
    {
     "data": {
      "text/html": [
       "<div>\n",
       "<style scoped>\n",
       "    .dataframe tbody tr th:only-of-type {\n",
       "        vertical-align: middle;\n",
       "    }\n",
       "\n",
       "    .dataframe tbody tr th {\n",
       "        vertical-align: top;\n",
       "    }\n",
       "\n",
       "    .dataframe thead th {\n",
       "        text-align: right;\n",
       "    }\n",
       "</style>\n",
       "<table border=\"1\" class=\"dataframe\">\n",
       "  <thead>\n",
       "    <tr style=\"text-align: right;\">\n",
       "      <th></th>\n",
       "      <th>Pays</th>\n",
       "      <th>stab_poli_2022</th>\n",
       "      <th>pib_hab_2023</th>\n",
       "      <th>pib_croi_2023</th>\n",
       "      <th>pop_nbr_2023</th>\n",
       "      <th>pop_evol%_22_23</th>\n",
       "      <th>km_paris</th>\n",
       "      <th>Disponibilité de protéines en quantité (g/personne/jour)</th>\n",
       "      <th>Exportations - Quantité</th>\n",
       "      <th>Importations - Quantité</th>\n",
       "      <th>Production</th>\n",
       "      <th>_merge</th>\n",
       "    </tr>\n",
       "  </thead>\n",
       "  <tbody>\n",
       "    <tr>\n",
       "      <th>0</th>\n",
       "      <td>Aruba</td>\n",
       "      <td>1.475</td>\n",
       "      <td>33300.839</td>\n",
       "      <td>10.554</td>\n",
       "      <td>107939.0</td>\n",
       "      <td>0.145664</td>\n",
       "      <td>NaN</td>\n",
       "      <td>NaN</td>\n",
       "      <td>NaN</td>\n",
       "      <td>NaN</td>\n",
       "      <td>NaN</td>\n",
       "      <td>left_only</td>\n",
       "    </tr>\n",
       "    <tr>\n",
       "      <th>1</th>\n",
       "      <td>Afghanistan</td>\n",
       "      <td>-2.551</td>\n",
       "      <td>352.604</td>\n",
       "      <td>-8.587</td>\n",
       "      <td>41454761.0</td>\n",
       "      <td>2.158561</td>\n",
       "      <td>5581.0</td>\n",
       "      <td>NaN</td>\n",
       "      <td>NaN</td>\n",
       "      <td>NaN</td>\n",
       "      <td>NaN</td>\n",
       "      <td>left_only</td>\n",
       "    </tr>\n",
       "    <tr>\n",
       "      <th>2</th>\n",
       "      <td>Angola</td>\n",
       "      <td>-0.646</td>\n",
       "      <td>2309.522</td>\n",
       "      <td>-2.155</td>\n",
       "      <td>36749906.0</td>\n",
       "      <td>3.128599</td>\n",
       "      <td>6503.0</td>\n",
       "      <td>3.0</td>\n",
       "      <td>0.0</td>\n",
       "      <td>277.0</td>\n",
       "      <td>42.0</td>\n",
       "      <td>both</td>\n",
       "    </tr>\n",
       "    <tr>\n",
       "      <th>3</th>\n",
       "      <td>Albanie</td>\n",
       "      <td>0.115</td>\n",
       "      <td>8367.776</td>\n",
       "      <td>4.634</td>\n",
       "      <td>2811655.0</td>\n",
       "      <td>-0.564187</td>\n",
       "      <td>1601.0</td>\n",
       "      <td>6.0</td>\n",
       "      <td>0.0</td>\n",
       "      <td>38.0</td>\n",
       "      <td>13.0</td>\n",
       "      <td>both</td>\n",
       "    </tr>\n",
       "    <tr>\n",
       "      <th>4</th>\n",
       "      <td>Émirats arabes unis</td>\n",
       "      <td>0.701</td>\n",
       "      <td>52976.808</td>\n",
       "      <td>2.581</td>\n",
       "      <td>10642081.0</td>\n",
       "      <td>3.905395</td>\n",
       "      <td>5240.0</td>\n",
       "      <td>14.0</td>\n",
       "      <td>94.0</td>\n",
       "      <td>433.0</td>\n",
       "      <td>48.0</td>\n",
       "      <td>both</td>\n",
       "    </tr>\n",
       "  </tbody>\n",
       "</table>\n",
       "</div>"
      ],
      "text/plain": [
       "                  Pays  stab_poli_2022  pib_hab_2023  pib_croi_2023  \\\n",
       "0                Aruba           1.475     33300.839         10.554   \n",
       "1          Afghanistan          -2.551       352.604         -8.587   \n",
       "2               Angola          -0.646      2309.522         -2.155   \n",
       "3              Albanie           0.115      8367.776          4.634   \n",
       "4  Émirats arabes unis           0.701     52976.808          2.581   \n",
       "\n",
       "   pop_nbr_2023  pop_evol%_22_23  km_paris  \\\n",
       "0      107939.0         0.145664       NaN   \n",
       "1    41454761.0         2.158561    5581.0   \n",
       "2    36749906.0         3.128599    6503.0   \n",
       "3     2811655.0        -0.564187    1601.0   \n",
       "4    10642081.0         3.905395    5240.0   \n",
       "\n",
       "   Disponibilité de protéines en quantité (g/personne/jour)  \\\n",
       "0                                                NaN          \n",
       "1                                                NaN          \n",
       "2                                                3.0          \n",
       "3                                                6.0          \n",
       "4                                               14.0          \n",
       "\n",
       "   Exportations - Quantité  Importations - Quantité  Production     _merge  \n",
       "0                      NaN                      NaN         NaN  left_only  \n",
       "1                      NaN                      NaN         NaN  left_only  \n",
       "2                      0.0                    277.0        42.0       both  \n",
       "3                      0.0                     38.0        13.0       both  \n",
       "4                     94.0                    433.0        48.0       both  "
      ]
     },
     "metadata": {},
     "output_type": "display_data"
    }
   ],
   "source": [
    "# Jonction 5\n",
    "df_cocorico = pd.merge(df_merged4, df_volailles3, how='outer', indicator=True)\n",
    "display(df_cocorico.head())"
   ]
  },
  {
   "cell_type": "code",
   "execution_count": 100,
   "id": "90477964",
   "metadata": {},
   "outputs": [
    {
     "name": "stdout",
     "output_type": "stream",
     "text": [
      "<class 'pandas.core.frame.DataFrame'>\n",
      "RangeIndex: 210 entries, 0 to 209\n",
      "Data columns (total 12 columns):\n",
      " #   Column                                                    Non-Null Count  Dtype   \n",
      "---  ------                                                    --------------  -----   \n",
      " 0   Pays                                                      210 non-null    object  \n",
      " 1   stab_poli_2022                                            190 non-null    float64 \n",
      " 2   pib_hab_2023                                              189 non-null    float64 \n",
      " 3   pib_croi_2023                                             189 non-null    float64 \n",
      " 4   pop_nbr_2023                                              193 non-null    float64 \n",
      " 5   pop_evol%_22_23                                           193 non-null    float64 \n",
      " 6   km_paris                                                  197 non-null    float64 \n",
      " 7   Disponibilité de protéines en quantité (g/personne/jour)  135 non-null    float64 \n",
      " 8   Exportations - Quantité                                   135 non-null    float64 \n",
      " 9   Importations - Quantité                                   135 non-null    float64 \n",
      " 10  Production                                                135 non-null    float64 \n",
      " 11  _merge                                                    210 non-null    category\n",
      "dtypes: category(1), float64(10), object(1)\n",
      "memory usage: 18.5+ KB\n"
     ]
    }
   ],
   "source": [
    "# Information df_cocorico\n",
    "df_cocorico.info()"
   ]
  },
  {
   "cell_type": "code",
   "execution_count": null,
   "id": "772888ce",
   "metadata": {},
   "outputs": [],
   "source": []
  },
  {
   "cell_type": "code",
   "execution_count": 101,
   "id": "17ea924c",
   "metadata": {},
   "outputs": [
    {
     "name": "stdout",
     "output_type": "stream",
     "text": [
      "Il y a 210 pays uniques dans le dataset.\n"
     ]
    }
   ],
   "source": [
    "# Comptabilisation du nombre de pays uniques\n",
    "cocorico_nbr_pays = df_cocorico['Pays'].nunique()\n",
    "\n",
    "print(\"Il y a\", cocorico_nbr_pays, \"pays uniques dans le dataset.\")"
   ]
  },
  {
   "cell_type": "code",
   "execution_count": 102,
   "id": "9856856a",
   "metadata": {},
   "outputs": [
    {
     "name": "stdout",
     "output_type": "stream",
     "text": [
      "['Chine, Taiwan Province de', 'Saint-Kitts-et-Nevis']\n"
     ]
    }
   ],
   "source": [
    "# Filtre des lignes où \"_merge\" est égal à \"right_only\"\n",
    "df_cocorico_right = df_cocorico[df_cocorico['_merge'] == 'right_only']\n",
    "\n",
    "# Extraction des valeurs de la colonne \"Pays\" \n",
    "cocorico_liste_right = df_cocorico_right['Pays'].tolist()\n",
    "\n",
    "# Affichage de la liste des pays\n",
    "print(cocorico_liste_right)"
   ]
  },
  {
   "cell_type": "code",
   "execution_count": 103,
   "id": "4617efc0",
   "metadata": {},
   "outputs": [
    {
     "name": "stdout",
     "output_type": "stream",
     "text": [
      "['Aruba', 'Afghanistan', 'Burundi', 'Burkina Faso', 'Bangladesh', 'Bahreïn', 'Bahamas', 'Brunéi Darussalam', 'Bhoutan', 'République centrafricaine', 'Congo, République démocratique du', 'Comores', 'Cabo Verde', 'Cuba', 'Djibouti', 'Érythrée', 'Éthiopie', 'Micronésie, États fédérés de', 'Guinée', 'Gambie', 'Guinée-Bissau', 'Guinée équatoriale', 'Grenade', 'Guam', 'Haïti', 'Cambodge', 'Kiribati', 'République démocratique populaire lao', 'Libye', 'Sainte-Lucie', 'Madagascar', 'Maldives', 'Mali', 'Mongolie', 'Mozambique', 'Mauritanie', 'Malawi', 'Népal', 'Papouasie-Nouvelle-Guinée', 'Porto Rico', 'Cisjordanie et Gaza', 'Qatar', 'Soudan', 'Singapour', 'Somalie', 'Soudan du Sud', 'Sao Tomé-et-Principe', 'Seychelles', 'République arabe syrienne', 'Tadjikistan', 'Turkménistan', 'Timor-Leste', 'Tonga', 'Tanzanie', 'Ouzbékistan', 'Saint-Vincent-et-les Grenadines', 'Îles Vierges (EU)', 'Vanuatu', 'Zimbabwe', 'Curacao', 'Nouvelle-Calédonie', 'Andorre', 'Birmanie', 'Antilles néerlandaises (ex)', 'Îles Cook', 'Îles Marshall', 'Liechtenstein', 'Monaco', 'Nauru', 'Nioué', 'Palaos', 'Saint-Christophe-et-Niévès', 'Saint-Marin', 'Tuvalu', 'Vatican']\n"
     ]
    }
   ],
   "source": [
    "# Filtre des lignes où \"_merge\" est égal à \"left_only\"\n",
    "df_cocorico_left = df_cocorico[df_cocorico['_merge'] == 'left_only']\n",
    "\n",
    "# Extraction des valeurs de la colonne \"Pays\" \n",
    "cocorico_liste_left = df_cocorico_left['Pays'].tolist()\n",
    "\n",
    "# Affichage de la liste des pays\n",
    "print(cocorico_liste_left)"
   ]
  },
  {
   "cell_type": "code",
   "execution_count": 104,
   "id": "eb9722b3",
   "metadata": {},
   "outputs": [],
   "source": [
    "# Suppression de la colonne de contrôle _merge\n",
    "df_cocorico = df_cocorico.drop('_merge', axis=1)"
   ]
  },
  {
   "cell_type": "code",
   "execution_count": 105,
   "id": "d6e094c7",
   "metadata": {},
   "outputs": [
    {
     "data": {
      "text/html": [
       "<div>\n",
       "<style scoped>\n",
       "    .dataframe tbody tr th:only-of-type {\n",
       "        vertical-align: middle;\n",
       "    }\n",
       "\n",
       "    .dataframe tbody tr th {\n",
       "        vertical-align: top;\n",
       "    }\n",
       "\n",
       "    .dataframe thead th {\n",
       "        text-align: right;\n",
       "    }\n",
       "</style>\n",
       "<table border=\"1\" class=\"dataframe\">\n",
       "  <thead>\n",
       "    <tr style=\"text-align: right;\">\n",
       "      <th></th>\n",
       "      <th>Pays</th>\n",
       "      <th>stab_poli_2022</th>\n",
       "      <th>pib_hab_2023</th>\n",
       "      <th>pib_croi_2023</th>\n",
       "      <th>pop_nbr_2023</th>\n",
       "      <th>pop_evol%_22_23</th>\n",
       "      <th>km_paris</th>\n",
       "      <th>Disponibilité de protéines en quantité (g/personne/jour)</th>\n",
       "      <th>Exportations - Quantité</th>\n",
       "      <th>Importations - Quantité</th>\n",
       "      <th>Production</th>\n",
       "    </tr>\n",
       "  </thead>\n",
       "  <tbody>\n",
       "    <tr>\n",
       "      <th>0</th>\n",
       "      <td>Aruba</td>\n",
       "      <td>1.475</td>\n",
       "      <td>33300.839</td>\n",
       "      <td>10.554</td>\n",
       "      <td>107939.0</td>\n",
       "      <td>0.145664</td>\n",
       "      <td>NaN</td>\n",
       "      <td>NaN</td>\n",
       "      <td>NaN</td>\n",
       "      <td>NaN</td>\n",
       "      <td>NaN</td>\n",
       "    </tr>\n",
       "    <tr>\n",
       "      <th>1</th>\n",
       "      <td>Afghanistan</td>\n",
       "      <td>-2.551</td>\n",
       "      <td>352.604</td>\n",
       "      <td>-8.587</td>\n",
       "      <td>41454761.0</td>\n",
       "      <td>2.158561</td>\n",
       "      <td>5581.0</td>\n",
       "      <td>NaN</td>\n",
       "      <td>NaN</td>\n",
       "      <td>NaN</td>\n",
       "      <td>NaN</td>\n",
       "    </tr>\n",
       "    <tr>\n",
       "      <th>2</th>\n",
       "      <td>Angola</td>\n",
       "      <td>-0.646</td>\n",
       "      <td>2309.522</td>\n",
       "      <td>-2.155</td>\n",
       "      <td>36749906.0</td>\n",
       "      <td>3.128599</td>\n",
       "      <td>6503.0</td>\n",
       "      <td>3.0</td>\n",
       "      <td>0.0</td>\n",
       "      <td>277.0</td>\n",
       "      <td>42.0</td>\n",
       "    </tr>\n",
       "    <tr>\n",
       "      <th>3</th>\n",
       "      <td>Albanie</td>\n",
       "      <td>0.115</td>\n",
       "      <td>8367.776</td>\n",
       "      <td>4.634</td>\n",
       "      <td>2811655.0</td>\n",
       "      <td>-0.564187</td>\n",
       "      <td>1601.0</td>\n",
       "      <td>6.0</td>\n",
       "      <td>0.0</td>\n",
       "      <td>38.0</td>\n",
       "      <td>13.0</td>\n",
       "    </tr>\n",
       "    <tr>\n",
       "      <th>4</th>\n",
       "      <td>Émirats arabes unis</td>\n",
       "      <td>0.701</td>\n",
       "      <td>52976.808</td>\n",
       "      <td>2.581</td>\n",
       "      <td>10642081.0</td>\n",
       "      <td>3.905395</td>\n",
       "      <td>5240.0</td>\n",
       "      <td>14.0</td>\n",
       "      <td>94.0</td>\n",
       "      <td>433.0</td>\n",
       "      <td>48.0</td>\n",
       "    </tr>\n",
       "  </tbody>\n",
       "</table>\n",
       "</div>"
      ],
      "text/plain": [
       "                  Pays  stab_poli_2022  pib_hab_2023  pib_croi_2023  \\\n",
       "0                Aruba           1.475     33300.839         10.554   \n",
       "1          Afghanistan          -2.551       352.604         -8.587   \n",
       "2               Angola          -0.646      2309.522         -2.155   \n",
       "3              Albanie           0.115      8367.776          4.634   \n",
       "4  Émirats arabes unis           0.701     52976.808          2.581   \n",
       "\n",
       "   pop_nbr_2023  pop_evol%_22_23  km_paris  \\\n",
       "0      107939.0         0.145664       NaN   \n",
       "1    41454761.0         2.158561    5581.0   \n",
       "2    36749906.0         3.128599    6503.0   \n",
       "3     2811655.0        -0.564187    1601.0   \n",
       "4    10642081.0         3.905395    5240.0   \n",
       "\n",
       "   Disponibilité de protéines en quantité (g/personne/jour)  \\\n",
       "0                                                NaN          \n",
       "1                                                NaN          \n",
       "2                                                3.0          \n",
       "3                                                6.0          \n",
       "4                                               14.0          \n",
       "\n",
       "   Exportations - Quantité  Importations - Quantité  Production  \n",
       "0                      NaN                      NaN         NaN  \n",
       "1                      NaN                      NaN         NaN  \n",
       "2                      0.0                    277.0        42.0  \n",
       "3                      0.0                     38.0        13.0  \n",
       "4                     94.0                    433.0        48.0  "
      ]
     },
     "metadata": {},
     "output_type": "display_data"
    }
   ],
   "source": [
    "display(df_cocorico.head())"
   ]
  },
  {
   "cell_type": "code",
   "execution_count": null,
   "id": "476fe128",
   "metadata": {},
   "outputs": [],
   "source": []
  },
  {
   "cell_type": "code",
   "execution_count": 106,
   "id": "0a41b161",
   "metadata": {
    "scrolled": false
   },
   "outputs": [
    {
     "name": "stdout",
     "output_type": "stream",
     "text": [
      "Il y a des valeurs manquantes dans le df.\n",
      "Pays                                                         0\n",
      "stab_poli_2022                                              20\n",
      "pib_hab_2023                                                21\n",
      "pib_croi_2023                                               21\n",
      "pop_nbr_2023                                                17\n",
      "pop_evol%_22_23                                             17\n",
      "km_paris                                                    13\n",
      "Disponibilité de protéines en quantité (g/personne/jour)    75\n",
      "Exportations - Quantité                                     75\n",
      "Importations - Quantité                                     75\n",
      "Production                                                  75\n",
      "dtype: int64\n"
     ]
    }
   ],
   "source": [
    "# Identification des valeurs manquantes\n",
    "if df_cocorico.isnull().values.any():\n",
    "    print(\"Il y a des valeurs manquantes dans le df.\")\n",
    "else:\n",
    "    print(\"Il n'y a pas de valeurs manquantes dans le df.\")\n",
    "\n",
    "# Comptabilisation de nombre de valeurs manquantes par colonne :\n",
    "cocorico_nan = df_cocorico.isnull().sum()\n",
    "print(cocorico_nan)"
   ]
  },
  {
   "cell_type": "code",
   "execution_count": 107,
   "id": "24011dfd",
   "metadata": {
    "scrolled": true
   },
   "outputs": [],
   "source": [
    "# Suppression de toutes les lignes contenant au moins un NaN\n",
    "df_cocorico2 = df_cocorico.dropna()"
   ]
  },
  {
   "cell_type": "code",
   "execution_count": 108,
   "id": "dd9916c3",
   "metadata": {
    "scrolled": true
   },
   "outputs": [],
   "source": [
    "# Réinitialisation de l'index du df\n",
    "df_cocorico3 = df_cocorico2.reset_index(drop=True)"
   ]
  },
  {
   "cell_type": "code",
   "execution_count": null,
   "id": "02faff5a",
   "metadata": {},
   "outputs": [],
   "source": []
  },
  {
   "cell_type": "code",
   "execution_count": 109,
   "id": "af553852",
   "metadata": {},
   "outputs": [
    {
     "name": "stdout",
     "output_type": "stream",
     "text": [
      "Il n'y a pas de valeurs manquantes dans le df.\n",
      "Pays                                                        0\n",
      "stab_poli_2022                                              0\n",
      "pib_hab_2023                                                0\n",
      "pib_croi_2023                                               0\n",
      "pop_nbr_2023                                                0\n",
      "pop_evol%_22_23                                             0\n",
      "km_paris                                                    0\n",
      "Disponibilité de protéines en quantité (g/personne/jour)    0\n",
      "Exportations - Quantité                                     0\n",
      "Importations - Quantité                                     0\n",
      "Production                                                  0\n",
      "dtype: int64\n"
     ]
    }
   ],
   "source": [
    "# Identification des valeurs manquantes\n",
    "if df_cocorico3.isnull().values.any():\n",
    "    print(\"Il y a des valeurs manquantes dans le df.\")\n",
    "else:\n",
    "    print(\"Il n'y a pas de valeurs manquantes dans le df.\")\n",
    "\n",
    "# Comptabilisation de nombre de valeurs manquantes par colonne :\n",
    "cocorico_nan = df_cocorico3.isnull().sum()\n",
    "print(cocorico_nan)"
   ]
  },
  {
   "cell_type": "code",
   "execution_count": 110,
   "id": "67ff3ee5",
   "metadata": {
    "scrolled": true
   },
   "outputs": [
    {
     "name": "stdout",
     "output_type": "stream",
     "text": [
      "<class 'pandas.core.frame.DataFrame'>\n",
      "RangeIndex: 125 entries, 0 to 124\n",
      "Data columns (total 11 columns):\n",
      " #   Column                                                    Non-Null Count  Dtype  \n",
      "---  ------                                                    --------------  -----  \n",
      " 0   Pays                                                      125 non-null    object \n",
      " 1   stab_poli_2022                                            125 non-null    float64\n",
      " 2   pib_hab_2023                                              125 non-null    float64\n",
      " 3   pib_croi_2023                                             125 non-null    float64\n",
      " 4   pop_nbr_2023                                              125 non-null    float64\n",
      " 5   pop_evol%_22_23                                           125 non-null    float64\n",
      " 6   km_paris                                                  125 non-null    float64\n",
      " 7   Disponibilité de protéines en quantité (g/personne/jour)  125 non-null    float64\n",
      " 8   Exportations - Quantité                                   125 non-null    float64\n",
      " 9   Importations - Quantité                                   125 non-null    float64\n",
      " 10  Production                                                125 non-null    float64\n",
      "dtypes: float64(10), object(1)\n",
      "memory usage: 10.9+ KB\n"
     ]
    }
   ],
   "source": [
    "# Information df_cocorico\n",
    "df_cocorico3.info()"
   ]
  },
  {
   "cell_type": "code",
   "execution_count": null,
   "id": "610b04c8",
   "metadata": {},
   "outputs": [],
   "source": []
  },
  {
   "cell_type": "code",
   "execution_count": 111,
   "id": "03ad158c",
   "metadata": {
    "scrolled": false
   },
   "outputs": [
    {
     "data": {
      "text/html": [
       "<div>\n",
       "<style scoped>\n",
       "    .dataframe tbody tr th:only-of-type {\n",
       "        vertical-align: middle;\n",
       "    }\n",
       "\n",
       "    .dataframe tbody tr th {\n",
       "        vertical-align: top;\n",
       "    }\n",
       "\n",
       "    .dataframe thead th {\n",
       "        text-align: right;\n",
       "    }\n",
       "</style>\n",
       "<table border=\"1\" class=\"dataframe\">\n",
       "  <thead>\n",
       "    <tr style=\"text-align: right;\">\n",
       "      <th></th>\n",
       "      <th>Pays</th>\n",
       "      <th>stab_poli_2022</th>\n",
       "      <th>pib_hab_2023</th>\n",
       "      <th>pib_croi_2023</th>\n",
       "      <th>pop_nbr_2023</th>\n",
       "      <th>pop_evol%_22_23</th>\n",
       "      <th>km_paris</th>\n",
       "      <th>Disponibilité de protéines en quantité (g/personne/jour)</th>\n",
       "      <th>Exportations - Quantité</th>\n",
       "      <th>Importations - Quantité</th>\n",
       "      <th>Production</th>\n",
       "    </tr>\n",
       "  </thead>\n",
       "  <tbody>\n",
       "    <tr>\n",
       "      <th>0</th>\n",
       "      <td>Angola</td>\n",
       "      <td>-0.646</td>\n",
       "      <td>2309.522</td>\n",
       "      <td>-2.155</td>\n",
       "      <td>36749906.0</td>\n",
       "      <td>3.128599</td>\n",
       "      <td>6503.0</td>\n",
       "      <td>3.0</td>\n",
       "      <td>0.0</td>\n",
       "      <td>277.0</td>\n",
       "      <td>42.0</td>\n",
       "    </tr>\n",
       "    <tr>\n",
       "      <th>1</th>\n",
       "      <td>Albanie</td>\n",
       "      <td>0.115</td>\n",
       "      <td>8367.776</td>\n",
       "      <td>4.634</td>\n",
       "      <td>2811655.0</td>\n",
       "      <td>-0.564187</td>\n",
       "      <td>1601.0</td>\n",
       "      <td>6.0</td>\n",
       "      <td>0.0</td>\n",
       "      <td>38.0</td>\n",
       "      <td>13.0</td>\n",
       "    </tr>\n",
       "    <tr>\n",
       "      <th>2</th>\n",
       "      <td>Émirats arabes unis</td>\n",
       "      <td>0.701</td>\n",
       "      <td>52976.808</td>\n",
       "      <td>2.581</td>\n",
       "      <td>10642081.0</td>\n",
       "      <td>3.905395</td>\n",
       "      <td>5240.0</td>\n",
       "      <td>14.0</td>\n",
       "      <td>94.0</td>\n",
       "      <td>433.0</td>\n",
       "      <td>48.0</td>\n",
       "    </tr>\n",
       "    <tr>\n",
       "      <th>3</th>\n",
       "      <td>Argentine</td>\n",
       "      <td>-0.009</td>\n",
       "      <td>13730.515</td>\n",
       "      <td>-2.436</td>\n",
       "      <td>45538401.0</td>\n",
       "      <td>0.287388</td>\n",
       "      <td>11051.0</td>\n",
       "      <td>13.0</td>\n",
       "      <td>207.0</td>\n",
       "      <td>8.0</td>\n",
       "      <td>2161.0</td>\n",
       "    </tr>\n",
       "    <tr>\n",
       "      <th>4</th>\n",
       "      <td>Arménie</td>\n",
       "      <td>-0.797</td>\n",
       "      <td>8715.765</td>\n",
       "      <td>8.798</td>\n",
       "      <td>2943393.0</td>\n",
       "      <td>2.170105</td>\n",
       "      <td>3431.0</td>\n",
       "      <td>5.0</td>\n",
       "      <td>0.0</td>\n",
       "      <td>35.0</td>\n",
       "      <td>11.0</td>\n",
       "    </tr>\n",
       "    <tr>\n",
       "      <th>...</th>\n",
       "      <td>...</td>\n",
       "      <td>...</td>\n",
       "      <td>...</td>\n",
       "      <td>...</td>\n",
       "      <td>...</td>\n",
       "      <td>...</td>\n",
       "      <td>...</td>\n",
       "      <td>...</td>\n",
       "      <td>...</td>\n",
       "      <td>...</td>\n",
       "      <td>...</td>\n",
       "    </tr>\n",
       "    <tr>\n",
       "      <th>120</th>\n",
       "      <td>Viet Nam</td>\n",
       "      <td>-0.031</td>\n",
       "      <td>4346.768</td>\n",
       "      <td>4.332</td>\n",
       "      <td>100352192.0</td>\n",
       "      <td>0.673688</td>\n",
       "      <td>9193.0</td>\n",
       "      <td>4.0</td>\n",
       "      <td>1.0</td>\n",
       "      <td>291.0</td>\n",
       "      <td>918.0</td>\n",
       "    </tr>\n",
       "    <tr>\n",
       "      <th>121</th>\n",
       "      <td>Samoa</td>\n",
       "      <td>1.079</td>\n",
       "      <td>4139.030</td>\n",
       "      <td>6.413</td>\n",
       "      <td>216663.0</td>\n",
       "      <td>0.651302</td>\n",
       "      <td>16083.0</td>\n",
       "      <td>21.0</td>\n",
       "      <td>0.0</td>\n",
       "      <td>17.0</td>\n",
       "      <td>0.0</td>\n",
       "    </tr>\n",
       "    <tr>\n",
       "      <th>122</th>\n",
       "      <td>Yémen, Rép. du</td>\n",
       "      <td>-2.477</td>\n",
       "      <td>533.367</td>\n",
       "      <td>-1.722</td>\n",
       "      <td>39390799.0</td>\n",
       "      <td>3.055560</td>\n",
       "      <td>5313.0</td>\n",
       "      <td>3.0</td>\n",
       "      <td>0.0</td>\n",
       "      <td>78.0</td>\n",
       "      <td>168.0</td>\n",
       "    </tr>\n",
       "    <tr>\n",
       "      <th>123</th>\n",
       "      <td>Afrique du Sud</td>\n",
       "      <td>-0.722</td>\n",
       "      <td>6253.162</td>\n",
       "      <td>-0.265</td>\n",
       "      <td>63212384.0</td>\n",
       "      <td>1.336959</td>\n",
       "      <td>8684.0</td>\n",
       "      <td>14.0</td>\n",
       "      <td>63.0</td>\n",
       "      <td>514.0</td>\n",
       "      <td>1667.0</td>\n",
       "    </tr>\n",
       "    <tr>\n",
       "      <th>124</th>\n",
       "      <td>Zambie</td>\n",
       "      <td>0.102</td>\n",
       "      <td>1369.129</td>\n",
       "      <td>2.992</td>\n",
       "      <td>20723965.0</td>\n",
       "      <td>2.833468</td>\n",
       "      <td>7591.0</td>\n",
       "      <td>1.0</td>\n",
       "      <td>1.0</td>\n",
       "      <td>12.0</td>\n",
       "      <td>49.0</td>\n",
       "    </tr>\n",
       "  </tbody>\n",
       "</table>\n",
       "<p>125 rows × 11 columns</p>\n",
       "</div>"
      ],
      "text/plain": [
       "                    Pays  stab_poli_2022  pib_hab_2023  pib_croi_2023  \\\n",
       "0                 Angola          -0.646      2309.522         -2.155   \n",
       "1                Albanie           0.115      8367.776          4.634   \n",
       "2    Émirats arabes unis           0.701     52976.808          2.581   \n",
       "3              Argentine          -0.009     13730.515         -2.436   \n",
       "4                Arménie          -0.797      8715.765          8.798   \n",
       "..                   ...             ...           ...            ...   \n",
       "120             Viet Nam          -0.031      4346.768          4.332   \n",
       "121                Samoa           1.079      4139.030          6.413   \n",
       "122       Yémen, Rép. du          -2.477       533.367         -1.722   \n",
       "123       Afrique du Sud          -0.722      6253.162         -0.265   \n",
       "124               Zambie           0.102      1369.129          2.992   \n",
       "\n",
       "     pop_nbr_2023  pop_evol%_22_23  km_paris  \\\n",
       "0      36749906.0         3.128599    6503.0   \n",
       "1       2811655.0        -0.564187    1601.0   \n",
       "2      10642081.0         3.905395    5240.0   \n",
       "3      45538401.0         0.287388   11051.0   \n",
       "4       2943393.0         2.170105    3431.0   \n",
       "..            ...              ...       ...   \n",
       "120   100352192.0         0.673688    9193.0   \n",
       "121      216663.0         0.651302   16083.0   \n",
       "122    39390799.0         3.055560    5313.0   \n",
       "123    63212384.0         1.336959    8684.0   \n",
       "124    20723965.0         2.833468    7591.0   \n",
       "\n",
       "     Disponibilité de protéines en quantité (g/personne/jour)  \\\n",
       "0                                                  3.0          \n",
       "1                                                  6.0          \n",
       "2                                                 14.0          \n",
       "3                                                 13.0          \n",
       "4                                                  5.0          \n",
       "..                                                 ...          \n",
       "120                                                4.0          \n",
       "121                                               21.0          \n",
       "122                                                3.0          \n",
       "123                                               14.0          \n",
       "124                                                1.0          \n",
       "\n",
       "     Exportations - Quantité  Importations - Quantité  Production  \n",
       "0                        0.0                    277.0        42.0  \n",
       "1                        0.0                     38.0        13.0  \n",
       "2                       94.0                    433.0        48.0  \n",
       "3                      207.0                      8.0      2161.0  \n",
       "4                        0.0                     35.0        11.0  \n",
       "..                       ...                      ...         ...  \n",
       "120                      1.0                    291.0       918.0  \n",
       "121                      0.0                     17.0         0.0  \n",
       "122                      0.0                     78.0       168.0  \n",
       "123                     63.0                    514.0      1667.0  \n",
       "124                      1.0                     12.0        49.0  \n",
       "\n",
       "[125 rows x 11 columns]"
      ]
     },
     "execution_count": 111,
     "metadata": {},
     "output_type": "execute_result"
    }
   ],
   "source": [
    "df_cocorico3"
   ]
  },
  {
   "cell_type": "code",
   "execution_count": 112,
   "id": "a9375d5e",
   "metadata": {},
   "outputs": [],
   "source": [
    "# Exportation du df au format CSV\n",
    "df_cocorico3.to_csv('cocorico.csv', index=False)"
   ]
  },
  {
   "cell_type": "markdown",
   "id": "ccfebba7",
   "metadata": {},
   "source": [
    "<div style=\"border: 1px solid chocolate; border-radius: 8px; padding: 20px; background-color: seashell; text-align: center;\">\n",
    "<h3 style=\"font-size: 24px; margin: auto; color: chocolate;\">PARTIE 2 dans le notebook suivant</h3>\n",
    "</div>"
   ]
  }
 ],
 "metadata": {
  "kernelspec": {
   "display_name": "Python 3 (ipykernel)",
   "language": "python",
   "name": "python3"
  },
  "language_info": {
   "codemirror_mode": {
    "name": "ipython",
    "version": 3
   },
   "file_extension": ".py",
   "mimetype": "text/x-python",
   "name": "python",
   "nbconvert_exporter": "python",
   "pygments_lexer": "ipython3",
   "version": "3.11.5"
  }
 },
 "nbformat": 4,
 "nbformat_minor": 5
}
